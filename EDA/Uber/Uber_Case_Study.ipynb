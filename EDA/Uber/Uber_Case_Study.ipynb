{
 "cells": [
  {
   "cell_type": "code",
   "execution_count": 1,
   "metadata": {},
   "outputs": [],
   "source": [
    "#Import the libraries\n",
    "import pandas as pd\n",
    "import matplotlib.pyplot as plt\n",
    "import seaborn as sns\n",
    "import datetime as dt\n",
    "import numpy as np"
   ]
  },
  {
   "cell_type": "code",
   "execution_count": 2,
   "metadata": {},
   "outputs": [],
   "source": [
    "#Write code to load the dataset here\n",
    "df = pd.read_csv(\"Uber+Request+Data.csv\")"
   ]
  },
  {
   "cell_type": "code",
   "execution_count": 3,
   "metadata": {},
   "outputs": [
    {
     "data": {
      "text/html": [
       "<div>\n",
       "<style scoped>\n",
       "    .dataframe tbody tr th:only-of-type {\n",
       "        vertical-align: middle;\n",
       "    }\n",
       "\n",
       "    .dataframe tbody tr th {\n",
       "        vertical-align: top;\n",
       "    }\n",
       "\n",
       "    .dataframe thead th {\n",
       "        text-align: right;\n",
       "    }\n",
       "</style>\n",
       "<table border=\"1\" class=\"dataframe\">\n",
       "  <thead>\n",
       "    <tr style=\"text-align: right;\">\n",
       "      <th></th>\n",
       "      <th>Request id</th>\n",
       "      <th>Pickup point</th>\n",
       "      <th>Driver id</th>\n",
       "      <th>Status</th>\n",
       "      <th>Request timestamp</th>\n",
       "      <th>Drop timestamp</th>\n",
       "    </tr>\n",
       "  </thead>\n",
       "  <tbody>\n",
       "    <tr>\n",
       "      <th>0</th>\n",
       "      <td>619</td>\n",
       "      <td>Airport</td>\n",
       "      <td>1.0</td>\n",
       "      <td>Trip Completed</td>\n",
       "      <td>11/7/2016 11:51</td>\n",
       "      <td>11/7/2016 13:00</td>\n",
       "    </tr>\n",
       "    <tr>\n",
       "      <th>1</th>\n",
       "      <td>867</td>\n",
       "      <td>Airport</td>\n",
       "      <td>1.0</td>\n",
       "      <td>Trip Completed</td>\n",
       "      <td>11/7/2016 17:57</td>\n",
       "      <td>11/7/2016 18:47</td>\n",
       "    </tr>\n",
       "    <tr>\n",
       "      <th>2</th>\n",
       "      <td>1807</td>\n",
       "      <td>City</td>\n",
       "      <td>1.0</td>\n",
       "      <td>Trip Completed</td>\n",
       "      <td>12/7/2016 9:17</td>\n",
       "      <td>12/7/2016 9:58</td>\n",
       "    </tr>\n",
       "    <tr>\n",
       "      <th>3</th>\n",
       "      <td>2532</td>\n",
       "      <td>Airport</td>\n",
       "      <td>1.0</td>\n",
       "      <td>Trip Completed</td>\n",
       "      <td>12/7/2016 21:08</td>\n",
       "      <td>12/7/2016 22:03</td>\n",
       "    </tr>\n",
       "    <tr>\n",
       "      <th>4</th>\n",
       "      <td>3112</td>\n",
       "      <td>City</td>\n",
       "      <td>1.0</td>\n",
       "      <td>Trip Completed</td>\n",
       "      <td>13-07-2016 08:33:16</td>\n",
       "      <td>13-07-2016 09:25:47</td>\n",
       "    </tr>\n",
       "  </tbody>\n",
       "</table>\n",
       "</div>"
      ],
      "text/plain": [
       "   Request id Pickup point  Driver id          Status    Request timestamp  \\\n",
       "0         619      Airport        1.0  Trip Completed      11/7/2016 11:51   \n",
       "1         867      Airport        1.0  Trip Completed      11/7/2016 17:57   \n",
       "2        1807         City        1.0  Trip Completed       12/7/2016 9:17   \n",
       "3        2532      Airport        1.0  Trip Completed      12/7/2016 21:08   \n",
       "4        3112         City        1.0  Trip Completed  13-07-2016 08:33:16   \n",
       "\n",
       "        Drop timestamp  \n",
       "0      11/7/2016 13:00  \n",
       "1      11/7/2016 18:47  \n",
       "2       12/7/2016 9:58  \n",
       "3      12/7/2016 22:03  \n",
       "4  13-07-2016 09:25:47  "
      ]
     },
     "execution_count": 3,
     "metadata": {},
     "output_type": "execute_result"
    }
   ],
   "source": [
    "#use the following few lines to explore the data or clean it\n",
    "\n",
    "df.head()"
   ]
  },
  {
   "cell_type": "code",
   "execution_count": 4,
   "metadata": {},
   "outputs": [
    {
     "name": "stdout",
     "output_type": "stream",
     "text": [
      "<class 'pandas.core.frame.DataFrame'>\n",
      "RangeIndex: 6745 entries, 0 to 6744\n",
      "Data columns (total 6 columns):\n",
      " #   Column             Non-Null Count  Dtype  \n",
      "---  ------             --------------  -----  \n",
      " 0   Request id         6745 non-null   int64  \n",
      " 1   Pickup point       6745 non-null   object \n",
      " 2   Driver id          4095 non-null   float64\n",
      " 3   Status             6745 non-null   object \n",
      " 4   Request timestamp  6745 non-null   object \n",
      " 5   Drop timestamp     2831 non-null   object \n",
      "dtypes: float64(1), int64(1), object(4)\n",
      "memory usage: 316.3+ KB\n"
     ]
    }
   ],
   "source": [
    "df.info()"
   ]
  },
  {
   "cell_type": "code",
   "execution_count": null,
   "metadata": {},
   "outputs": [],
   "source": []
  },
  {
   "cell_type": "markdown",
   "metadata": {},
   "source": [
    "## Q1. Null Values\n",
    "Which columns have null values and how many?\n",
    "\n",
    "a) Request id - 2650 Driver id -3914\n",
    "\n",
    "b) Request id-   3914 Driver id - 2650\n",
    "\n",
    "c) Driver id - 2650 Drop time stamp -3914\n",
    "\n",
    "d) There are no null values in the dataset."
   ]
  },
  {
   "cell_type": "code",
   "execution_count": 5,
   "metadata": {},
   "outputs": [
    {
     "data": {
      "text/plain": [
       "Request id              0\n",
       "Pickup point            0\n",
       "Driver id            2650\n",
       "Status                  0\n",
       "Request timestamp       0\n",
       "Drop timestamp       3914\n",
       "dtype: int64"
      ]
     },
     "execution_count": 5,
     "metadata": {},
     "output_type": "execute_result"
    }
   ],
   "source": [
    "#Write your code here\n",
    "df.isnull().sum()"
   ]
  },
  {
   "cell_type": "code",
   "execution_count": null,
   "metadata": {},
   "outputs": [],
   "source": []
  },
  {
   "cell_type": "code",
   "execution_count": null,
   "metadata": {},
   "outputs": [],
   "source": []
  },
  {
   "cell_type": "markdown",
   "metadata": {},
   "source": [
    "## Q2. Choose Correct\n",
    "\n",
    "Select the correct statements from the options given below. (More than one may be correct)\n",
    "\n",
    "a) We need to delete the records containing the null values as they won’t be useful for our analysis.\n",
    "\n",
    "b) Only the records containing null values in the Driver id need to be eliminated.\n",
    "\n",
    "c) There are a total of 1264 requests which have a status of “cancelled”\n",
    "\n",
    "d) We need to keep the records containing null values for both the columns and using them analyse the problems faced by Uber."
   ]
  },
  {
   "cell_type": "code",
   "execution_count": 6,
   "metadata": {},
   "outputs": [
    {
     "data": {
      "text/plain": [
       "array(['Trip Completed', 'Cancelled', 'No Cars Available'], dtype=object)"
      ]
     },
     "execution_count": 6,
     "metadata": {},
     "output_type": "execute_result"
    }
   ],
   "source": [
    "#write your code here\n",
    "df.Status.unique()"
   ]
  },
  {
   "cell_type": "code",
   "execution_count": 7,
   "metadata": {},
   "outputs": [
    {
     "data": {
      "text/plain": [
       "Trip Completed       2831\n",
       "No Cars Available    2650\n",
       "Cancelled            1264\n",
       "Name: Status, dtype: int64"
      ]
     },
     "execution_count": 7,
     "metadata": {},
     "output_type": "execute_result"
    }
   ],
   "source": [
    "df.Status.value_counts()"
   ]
  },
  {
   "cell_type": "code",
   "execution_count": null,
   "metadata": {},
   "outputs": [],
   "source": []
  },
  {
   "cell_type": "markdown",
   "metadata": {},
   "source": [
    "## Q3. Busy Hour\n",
    "\n",
    "Now that you have understood the significance of the null values in this case study, the next step would involve fixing the Request Time-Stamp and Drop-Time Stamp columns. Go ahead and convert it into a date-time object. After that report back the hour in which the most number of requests are being made.\n",
    "\n",
    "a) 18:00-19:00\n",
    "\n",
    "b) 16:00-17:00\n",
    "\n",
    "c) 14:00-15:00\n",
    "\n",
    "d) 13:00-14:00\n",
    "\n",
    "e) 19:00-20:00"
   ]
  },
  {
   "cell_type": "code",
   "execution_count": 8,
   "metadata": {},
   "outputs": [
    {
     "data": {
      "text/plain": [
       "0   2016-11-07 13:00:00\n",
       "1   2016-11-07 18:47:00\n",
       "2   2016-12-07 09:58:00\n",
       "3   2016-12-07 22:03:00\n",
       "4   2016-07-13 09:25:47\n",
       "5   2016-07-13 22:28:59\n",
       "6   2016-07-14 07:13:15\n",
       "7   2016-07-15 06:07:52\n",
       "8   2016-07-15 18:50:51\n",
       "9   2016-11-07 07:25:00\n",
       "Name: Drop timestamp Converted, dtype: datetime64[ns]"
      ]
     },
     "execution_count": 8,
     "metadata": {},
     "output_type": "execute_result"
    }
   ],
   "source": [
    "#write your solution here\n",
    "df['Request timestamp Converted'] = pd.to_datetime(df['Request timestamp'])\n",
    "df['Drop timestamp Converted'] = pd.to_datetime(df['Drop timestamp'])\n",
    "#print(df['Request timestamp Converted'].head(10))\n",
    "df['Drop timestamp Converted'].head(10)"
   ]
  },
  {
   "cell_type": "code",
   "execution_count": 9,
   "metadata": {},
   "outputs": [
    {
     "data": {
      "text/plain": [
       "18    510\n",
       "20    492\n",
       "19    473\n",
       "21    449\n",
       "5     445\n",
       "9     431\n",
       "8     423\n",
       "17    418\n",
       "7     406\n",
       "6     398\n",
       "22    304\n",
       "10    243\n",
       "4     203\n",
       "23    194\n",
       "12    184\n",
       "11    171\n",
       "15    171\n",
       "13    160\n",
       "16    159\n",
       "14    136\n",
       "2      99\n",
       "0      99\n",
       "3      92\n",
       "1      85\n",
       "Name: Request hour, dtype: int64"
      ]
     },
     "execution_count": 9,
     "metadata": {},
     "output_type": "execute_result"
    }
   ],
   "source": [
    "#df['Request hour'] = pd.to_datetime(df['Request timestamp']).dt.hour\n",
    "#print(df['Request hour'].value_counts())\n",
    "\n",
    "df['Request hour']=df['Request timestamp Converted'].apply(lambda x: x.hour)\n",
    "df['Request hour'].value_counts()"
   ]
  },
  {
   "cell_type": "code",
   "execution_count": null,
   "metadata": {},
   "outputs": [],
   "source": []
  },
  {
   "cell_type": "markdown",
   "metadata": {},
   "source": [
    "## Q4. Cancelled Dates\n",
    "Next, extract the date from the request timestamp and find the date when the most number of trips were cancelled.\n",
    "\n",
    "a) 2016-07-13\n",
    "\n",
    "b) 2016-11-07\n",
    "\n",
    "c) 2016-07-14\n",
    "\n",
    "d) 2016-07-15 \n",
    "\n",
    "e) 2016-12-07"
   ]
  },
  {
   "cell_type": "code",
   "execution_count": 69,
   "metadata": {},
   "outputs": [
    {
     "data": {
      "text/plain": [
       "2016-07-13    270\n",
       "2016-11-07    262\n",
       "2016-07-14    252\n",
       "2016-07-15    240\n",
       "2016-12-07    240\n",
       "Name: Request date, dtype: int64"
      ]
     },
     "execution_count": 69,
     "metadata": {},
     "output_type": "execute_result"
    }
   ],
   "source": [
    "#write your code here\n",
    "#df[['Request timestamp Converted', 'Status']].groupby(df['Request timestamp Converted'].dt.date).sum()\n",
    "#df[['Request timestamp Converted', 'Status']].groupby(pd.Grouper(key='Request timestamp Converted', freq='D')).sum()\n",
    "df['Request date']=df['Request timestamp Converted'].apply(lambda x: x.date())\n",
    "df[df['Status']=='Cancelled']['Request date'].value_counts()"
   ]
  },
  {
   "cell_type": "code",
   "execution_count": null,
   "metadata": {},
   "outputs": [],
   "source": []
  },
  {
   "cell_type": "code",
   "execution_count": 10,
   "metadata": {},
   "outputs": [
    {
     "data": {
      "text/html": [
       "<div>\n",
       "<style scoped>\n",
       "    .dataframe tbody tr th:only-of-type {\n",
       "        vertical-align: middle;\n",
       "    }\n",
       "\n",
       "    .dataframe tbody tr th {\n",
       "        vertical-align: top;\n",
       "    }\n",
       "\n",
       "    .dataframe thead th {\n",
       "        text-align: right;\n",
       "    }\n",
       "</style>\n",
       "<table border=\"1\" class=\"dataframe\">\n",
       "  <thead>\n",
       "    <tr style=\"text-align: right;\">\n",
       "      <th></th>\n",
       "      <th>Request id</th>\n",
       "      <th>Pickup point</th>\n",
       "      <th>Driver id</th>\n",
       "      <th>Status</th>\n",
       "      <th>Request timestamp</th>\n",
       "      <th>Drop timestamp</th>\n",
       "      <th>Request timestamp Converted</th>\n",
       "      <th>Drop timestamp Converted</th>\n",
       "      <th>Request hour</th>\n",
       "    </tr>\n",
       "  </thead>\n",
       "  <tbody>\n",
       "    <tr>\n",
       "      <th>0</th>\n",
       "      <td>619</td>\n",
       "      <td>Airport</td>\n",
       "      <td>1.0</td>\n",
       "      <td>Trip Completed</td>\n",
       "      <td>11/7/2016 11:51</td>\n",
       "      <td>11/7/2016 13:00</td>\n",
       "      <td>2016-11-07 11:51:00</td>\n",
       "      <td>2016-11-07 13:00:00</td>\n",
       "      <td>11</td>\n",
       "    </tr>\n",
       "    <tr>\n",
       "      <th>1</th>\n",
       "      <td>867</td>\n",
       "      <td>Airport</td>\n",
       "      <td>1.0</td>\n",
       "      <td>Trip Completed</td>\n",
       "      <td>11/7/2016 17:57</td>\n",
       "      <td>11/7/2016 18:47</td>\n",
       "      <td>2016-11-07 17:57:00</td>\n",
       "      <td>2016-11-07 18:47:00</td>\n",
       "      <td>17</td>\n",
       "    </tr>\n",
       "    <tr>\n",
       "      <th>2</th>\n",
       "      <td>1807</td>\n",
       "      <td>City</td>\n",
       "      <td>1.0</td>\n",
       "      <td>Trip Completed</td>\n",
       "      <td>12/7/2016 9:17</td>\n",
       "      <td>12/7/2016 9:58</td>\n",
       "      <td>2016-12-07 09:17:00</td>\n",
       "      <td>2016-12-07 09:58:00</td>\n",
       "      <td>9</td>\n",
       "    </tr>\n",
       "    <tr>\n",
       "      <th>3</th>\n",
       "      <td>2532</td>\n",
       "      <td>Airport</td>\n",
       "      <td>1.0</td>\n",
       "      <td>Trip Completed</td>\n",
       "      <td>12/7/2016 21:08</td>\n",
       "      <td>12/7/2016 22:03</td>\n",
       "      <td>2016-12-07 21:08:00</td>\n",
       "      <td>2016-12-07 22:03:00</td>\n",
       "      <td>21</td>\n",
       "    </tr>\n",
       "    <tr>\n",
       "      <th>4</th>\n",
       "      <td>3112</td>\n",
       "      <td>City</td>\n",
       "      <td>1.0</td>\n",
       "      <td>Trip Completed</td>\n",
       "      <td>13-07-2016 08:33:16</td>\n",
       "      <td>13-07-2016 09:25:47</td>\n",
       "      <td>2016-07-13 08:33:16</td>\n",
       "      <td>2016-07-13 09:25:47</td>\n",
       "      <td>8</td>\n",
       "    </tr>\n",
       "  </tbody>\n",
       "</table>\n",
       "</div>"
      ],
      "text/plain": [
       "   Request id Pickup point  Driver id          Status    Request timestamp  \\\n",
       "0         619      Airport        1.0  Trip Completed      11/7/2016 11:51   \n",
       "1         867      Airport        1.0  Trip Completed      11/7/2016 17:57   \n",
       "2        1807         City        1.0  Trip Completed       12/7/2016 9:17   \n",
       "3        2532      Airport        1.0  Trip Completed      12/7/2016 21:08   \n",
       "4        3112         City        1.0  Trip Completed  13-07-2016 08:33:16   \n",
       "\n",
       "        Drop timestamp Request timestamp Converted Drop timestamp Converted  \\\n",
       "0      11/7/2016 13:00         2016-11-07 11:51:00      2016-11-07 13:00:00   \n",
       "1      11/7/2016 18:47         2016-11-07 17:57:00      2016-11-07 18:47:00   \n",
       "2       12/7/2016 9:58         2016-12-07 09:17:00      2016-12-07 09:58:00   \n",
       "3      12/7/2016 22:03         2016-12-07 21:08:00      2016-12-07 22:03:00   \n",
       "4  13-07-2016 09:25:47         2016-07-13 08:33:16      2016-07-13 09:25:47   \n",
       "\n",
       "   Request hour  \n",
       "0            11  \n",
       "1            17  \n",
       "2             9  \n",
       "3            21  \n",
       "4             8  "
      ]
     },
     "execution_count": 10,
     "metadata": {},
     "output_type": "execute_result"
    }
   ],
   "source": [
    "df.head()"
   ]
  },
  {
   "cell_type": "markdown",
   "metadata": {},
   "source": [
    "## Q5. Correct Statements II\n",
    "\n",
    "Choose the correct statements from the ones given below.\n",
    "\n",
    "(More than one may be correct)\n",
    "\n",
    "a) In general, the five hour time period in which the most number of trips are completed is approximately 5-10.\n",
    "\n",
    "b) Across all the days, the number of trips from the City that get cancelled is nearly 9 times less than the trips when there were no cars available.\n",
    "\n",
    "c) Across all the days, the number of trips from the Airport that get cancelled is comparable to the number of trips when there were no cars available.\n",
    "\n",
    "d) The number of trips getting completed from City is higher than the trips completed from the airport.\n"
   ]
  },
  {
   "cell_type": "code",
   "execution_count": 22,
   "metadata": {},
   "outputs": [],
   "source": [
    "Q5a=df[df['Status']=='Trip Completed']['Request hour'].value_counts().sort_index()\n",
    "for i in range(24):\n",
    "    Q5a[i]=sum(Q5a[i:i+5])"
   ]
  },
  {
   "cell_type": "code",
   "execution_count": 17,
   "metadata": {},
   "outputs": [
    {
     "name": "stdout",
     "output_type": "stream",
     "text": [
      "The five hour time period with the most number of trips is approximately 5:00-10:00\n"
     ]
    }
   ],
   "source": [
    "# write your code here\n",
    "df['Request hour'] = pd.to_datetime(df['Request hour'], format='%H')\n",
    "# Create a new column with the hour of the day rounded down to the nearest multiple of 5\n",
    "df['Rounded hour'] = df['Request hour'].apply(lambda x: x.hour // 5 * 5)\n",
    "\n",
    "# Find the five hour time period with the most number of trips\n",
    "most_common_time_period = df['Rounded hour'].mode()[0]\n",
    "\n",
    "print(f'The five hour time period with the most number of trips is approximately {most_common_time_period}:00-{most_common_time_period + 5}:00')"
   ]
  },
  {
   "cell_type": "code",
   "execution_count": 19,
   "metadata": {},
   "outputs": [
    {
     "name": "stdout",
     "output_type": "stream",
     "text": [
      "Number of trips from the City that were cancelled: 0\n",
      "Number of trips from the City for which there were no cars available: 937\n"
     ]
    }
   ],
   "source": [
    "# Select only the rows with a pickup point of 'City' and a status of 'Trip Cancelled'\n",
    "city_cancelled_trips = df[(df['Pickup point'] == 'City') & (df['Status'] == 'Trip Cancelled')]\n",
    "\n",
    "# Count the number of rows in the filtered DataFrame\n",
    "num_city_cancelled_trips = city_cancelled_trips.shape[0]\n",
    "\n",
    "print(f'Number of trips from the City that were cancelled: {num_city_cancelled_trips}')\n",
    "# Select only the rows with a pickup point of 'City' and a status of 'No Cars Available'\n",
    "city_no_cars_trips = df[(df['Pickup point'] == 'City') & (df['Status'] == 'No Cars Available')]\n",
    "\n",
    "# Count the number of rows in the filtered DataFrame\n",
    "num_city_no_cars_trips = city_no_cars_trips.shape[0]\n",
    "\n",
    "print(f'Number of trips from the City for which there were no cars available: {num_city_no_cars_trips}')"
   ]
  },
  {
   "cell_type": "code",
   "execution_count": 20,
   "metadata": {},
   "outputs": [
    {
     "name": "stdout",
     "output_type": "stream",
     "text": [
      "Number of cancelled trips from the Airport: 0\n",
      "Number of trips from the Airport for which there were no cars available: 1713\n"
     ]
    }
   ],
   "source": [
    "# Select only the rows with a pickup point of 'Airport' and a status of 'Trip Cancelled'\n",
    "airport_cancelled_trips = df[(df['Pickup point'] == 'Airport') & (df['Status'] == 'Trip Cancelled')]\n",
    "\n",
    "# Count the number of rows in the filtered DataFrame\n",
    "num_airport_cancelled_trips = airport_cancelled_trips.shape[0]\n",
    "\n",
    "# Select only the rows with a pickup point of 'Airport' and a status of 'No Cars Available'\n",
    "airport_no_cars_trips = df[(df['Pickup point'] == 'Airport') & (df['Status'] == 'No Cars Available')]\n",
    "\n",
    "# Count the number of rows in the filtered DataFrame\n",
    "num_airport_no_cars_trips = airport_no_cars_trips.shape[0]\n",
    "\n",
    "print(f'Number of cancelled trips from the Airport: {num_airport_cancelled_trips}')\n",
    "print(f'Number of trips from the Airport for which there were no cars available: {num_airport_no_cars_trips}')"
   ]
  },
  {
   "cell_type": "code",
   "execution_count": 21,
   "metadata": {},
   "outputs": [
    {
     "name": "stdout",
     "output_type": "stream",
     "text": [
      "The number of trips getting completed from the City is higher than the number of trips completed from the airport.\n"
     ]
    }
   ],
   "source": [
    "# Select only the rows with a pickup point of 'City' and a status of 'Trip Completed'\n",
    "city_completed_trips = df[(df['Pickup point'] == 'City') & (df['Status'] == 'Trip Completed')]\n",
    "\n",
    "# Count the number of rows in the filtered DataFrame\n",
    "num_city_completed_trips = city_completed_trips.shape[0]\n",
    "\n",
    "# Select only the rows with a pickup point of 'Airport' and a status of 'Trip Completed'\n",
    "airport_completed_trips = df[(df['Pickup point'] == 'Airport') & (df['Status'] == 'Trip Completed')]\n",
    "\n",
    "# Count the number of rows in the filtered DataFrame\n",
    "num_airport_completed_trips = airport_completed_trips.shape[0]\n",
    "\n",
    "if num_city_completed_trips > num_airport_completed_trips:\n",
    "  print('The number of trips getting completed from the City is higher than the number of trips completed from the airport.')\n",
    "elif num_city_completed_trips < num_airport_completed_trips:\n",
    "  print('The number of trips getting completed from the City is lower than the number of trips completed from the airport.')\n",
    "else:\n",
    "  print('The number of trips getting completed from the City is equal to the number of trips completed from the airport.')"
   ]
  },
  {
   "cell_type": "markdown",
   "metadata": {},
   "source": [
    "## Q6. Request Time\n",
    "\n",
    "Once you’ve analysed requests for all the days at an aggregate level, it’s time to find patterns in individual days and see if there is anything common across the days. Analyse the distribution of requests across all the days and choose the correct option.\n",
    "\n",
    "a) The most number of requests are obtained only in the morning hours across all the days.\n",
    "\n",
    "b) The most number of requests are obtained only in the evening hours across all the days.\n",
    "\n",
    "c) The most number of requests are obtained both in the morning as well as the evening hours across all the days.\n",
    "\n",
    "d) None of these"
   ]
  },
  {
   "cell_type": "code",
   "execution_count": 9,
   "metadata": {},
   "outputs": [],
   "source": [
    "##Write your code here"
   ]
  },
  {
   "cell_type": "code",
   "execution_count": null,
   "metadata": {},
   "outputs": [],
   "source": []
  },
  {
   "cell_type": "code",
   "execution_count": null,
   "metadata": {},
   "outputs": [],
   "source": []
  },
  {
   "cell_type": "markdown",
   "metadata": {},
   "source": [
    "## Q7. Request Time II\n",
    "\n",
    "Now that you’ve observed that the number of requests across all the days is similar, you need to check it across the pick-up points as well. Analyse the distribution of requests across each of the pick-up points exclusively and choose the correct option:\n",
    "\n",
    "a) The majority of requests from City are obtained during evening hours.\n",
    "\n",
    "b) The majority of requests from Airport are obtained during morning hours.\n",
    "\n",
    "c) The majority of requests from City are obtained during morning hours.\n",
    "\n",
    "d) Both a) and b)\n"
   ]
  },
  {
   "cell_type": "code",
   "execution_count": 10,
   "metadata": {},
   "outputs": [],
   "source": [
    "# Write your code here"
   ]
  },
  {
   "cell_type": "code",
   "execution_count": null,
   "metadata": {},
   "outputs": [],
   "source": []
  },
  {
   "cell_type": "code",
   "execution_count": null,
   "metadata": {},
   "outputs": [],
   "source": []
  },
  {
   "cell_type": "markdown",
   "metadata": {},
   "source": [
    "## Q8. Request Time III\n",
    "Now that you have realised the patterns of requests coming from both the city and the airport, the next step is to divide the entire time period to certain slots and then analyse them using plots. Use the following classification table to create the slots and then choose the correct option.\n",
    "\n",
    "\n",
    "| Hour Range(x) |   Time Slot   |\n",
    "|:-------------:|:-------------:|\n",
    "|     x < 5     | Early morning |\n",
    "|  5 <= x < 10  |    Morning    |\n",
    "|  10 <= x < 17 |    Day Time   |\n",
    "|  17 <= x < 22 |    Evening    |\n",
    "|    22 <= x    |   Late Night  |\n",
    "\n",
    "\n",
    "a) The maximum number of requests across all the days happens in the Evening.\n",
    "\n",
    "b) The minimum number of requests across all the days happens in Early Morning.\n",
    "\n",
    "c) The minimum number of requests across all the days happens in Late Night.\n",
    "\n",
    "d) Both a) and c)"
   ]
  },
  {
   "cell_type": "code",
   "execution_count": 11,
   "metadata": {},
   "outputs": [],
   "source": [
    "#write your code here"
   ]
  },
  {
   "cell_type": "code",
   "execution_count": null,
   "metadata": {},
   "outputs": [],
   "source": []
  },
  {
   "cell_type": "code",
   "execution_count": null,
   "metadata": {},
   "outputs": [],
   "source": []
  },
  {
   "cell_type": "markdown",
   "metadata": {},
   "source": [
    "## Q9. Bar\n",
    "After this, you decide to plot a bar plot with the time slots in the X-axis and the number of requests in the Y-axis and observe the Status of trips for each time slot. This way you’ll get the number of trip request across each time slot and their status as well. \n",
    "\n",
    "To make things easier, you created an additional column called ‘Count’ whose value is fixed at 1 for all the rows(df[\"Count\"]=1). Then in order to create a bar plot as mentioned in the first statement, you decided to use sns.barplot() function. \n",
    "\n",
    "What are the parameters that you need to take here?\n",
    "\n",
    "a) Take time slots as x and Count as y\n",
    "\n",
    "b) Take the Status as hue and df as the data\n",
    "\n",
    "c) Both (a) and (b)\n",
    "\n",
    "d) The parameters mentioned above are insufficient"
   ]
  },
  {
   "cell_type": "code",
   "execution_count": 12,
   "metadata": {},
   "outputs": [],
   "source": [
    "#Use this for rough work"
   ]
  },
  {
   "cell_type": "code",
   "execution_count": null,
   "metadata": {},
   "outputs": [],
   "source": []
  },
  {
   "cell_type": "code",
   "execution_count": null,
   "metadata": {},
   "outputs": [],
   "source": []
  },
  {
   "cell_type": "markdown",
   "metadata": {},
   "source": [
    "## Q10. Correct Bar\n",
    "Once you have created the bar plot correctly, what major issues are you able to observe? Choose the correct options amongst the following-\n",
    "\n",
    "a) A majority of requests in the evening are having a “No cars available” status\n",
    "\n",
    "b) The major issue in the morning slot is that it has a lot of cancellations\n",
    "\n",
    "c) Both (a) and (b)\n",
    "\n",
    "d) None of the above"
   ]
  },
  {
   "cell_type": "code",
   "execution_count": 13,
   "metadata": {},
   "outputs": [],
   "source": [
    "#use this as rough work"
   ]
  },
  {
   "cell_type": "code",
   "execution_count": null,
   "metadata": {},
   "outputs": [],
   "source": []
  },
  {
   "cell_type": "code",
   "execution_count": null,
   "metadata": {},
   "outputs": [],
   "source": []
  },
  {
   "cell_type": "markdown",
   "metadata": {},
   "source": [
    "## Q11. Demand Supply\n",
    "Now that you’ve understood the major issues in the morning and the evening time slots, it’s time to compute the demand and supply gap. Here,\n",
    "\n",
    "Demand - Number of Requests Uber Gets\n",
    "Supply - Number of Requests Uber is able to fulfil\n",
    "\n",
    "Demand supply gap = Demand - Supply.\n",
    "\n",
    "Compute the demand-supply gap for both the morning and the evening slots for the Pick-up points having the most number of requests in that time_slot\n",
    "\n",
    "\n",
    "a) Morning - 1205 Evening - 1427\n",
    "\n",
    "b) Morning - 1427 Evening - 1205\n",
    "\n",
    "c) Morning - 1249 Evening - 1558\n",
    "\n",
    "d) Morning - 1558 Evening - 1249\n"
   ]
  },
  {
   "cell_type": "code",
   "execution_count": 14,
   "metadata": {},
   "outputs": [],
   "source": [
    "#write your code here"
   ]
  },
  {
   "cell_type": "code",
   "execution_count": null,
   "metadata": {},
   "outputs": [],
   "source": []
  },
  {
   "cell_type": "code",
   "execution_count": null,
   "metadata": {},
   "outputs": [],
   "source": []
  }
 ],
 "metadata": {
  "kernelspec": {
   "display_name": "base",
   "language": "python",
   "name": "python3"
  },
  "language_info": {
   "codemirror_mode": {
    "name": "ipython",
    "version": 3
   },
   "file_extension": ".py",
   "mimetype": "text/x-python",
   "name": "python",
   "nbconvert_exporter": "python",
   "pygments_lexer": "ipython3",
   "version": "3.8.5"
  },
  "vscode": {
   "interpreter": {
    "hash": "cf57b317483cf664f759fad0aa8915207917d9c8b0ce96dc1a6a4e2102c7de2c"
   }
  }
 },
 "nbformat": 4,
 "nbformat_minor": 2
}

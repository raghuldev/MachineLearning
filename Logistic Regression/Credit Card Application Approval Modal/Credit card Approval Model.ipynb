{
 "cells": [
  {
   "cell_type": "code",
   "execution_count": 1,
   "id": "cadb058e",
   "metadata": {},
   "outputs": [
    {
     "data": {
      "application/vnd.jupyter.widget-view+json": {
       "model_id": "7f0af3fc912b4742b6903d76cd336c83",
       "version_major": 2,
       "version_minor": 0
      },
      "text/plain": [
       "VBox()"
      ]
     },
     "metadata": {},
     "output_type": "display_data"
    },
    {
     "name": "stdout",
     "output_type": "stream",
     "text": [
      "Starting Spark application\n"
     ]
    },
    {
     "data": {
      "text/html": [
       "<table>\n",
       "<tr><th>ID</th><th>YARN Application ID</th><th>Kind</th><th>State</th><th>Spark UI</th><th>Driver log</th><th>Current session?</th></tr><tr><td>2</td><td>application_1638365221787_0003</td><td>pyspark</td><td>idle</td><td><a target=\"_blank\" href=\"http://ip-172-31-46-95.us-east-2.compute.internal:20888/proxy/application_1638365221787_0003/\">Link</a></td><td><a target=\"_blank\" href=\"http://ip-172-31-36-24.us-east-2.compute.internal:8042/node/containerlogs/container_1638365221787_0003_01_000001/livy\">Link</a></td><td>✔</td></tr></table>"
      ],
      "text/plain": [
       "<IPython.core.display.HTML object>"
      ]
     },
     "metadata": {},
     "output_type": "display_data"
    },
    {
     "data": {
      "application/vnd.jupyter.widget-view+json": {
       "model_id": "",
       "version_major": 2,
       "version_minor": 0
      },
      "text/plain": [
       "FloatProgress(value=0.0, bar_style='info', description='Progress:', layout=Layout(height='25px', width='50%'),…"
      ]
     },
     "metadata": {},
     "output_type": "display_data"
    },
    {
     "name": "stdout",
     "output_type": "stream",
     "text": [
      "SparkSession available as 'spark'.\n"
     ]
    },
    {
     "data": {
      "application/vnd.jupyter.widget-view+json": {
       "model_id": "",
       "version_major": 2,
       "version_minor": 0
      },
      "text/plain": [
       "FloatProgress(value=0.0, bar_style='info', description='Progress:', layout=Layout(height='25px', width='50%'),…"
      ]
     },
     "metadata": {},
     "output_type": "display_data"
    },
    {
     "name": "stdout",
     "output_type": "stream",
     "text": [
      "<pyspark.sql.session.SparkSession object at 0x7f84b97b6940>"
     ]
    }
   ],
   "source": [
    "spark"
   ]
  },
  {
   "cell_type": "code",
   "execution_count": 2,
   "id": "a34bf04b",
   "metadata": {},
   "outputs": [
    {
     "data": {
      "application/vnd.jupyter.widget-view+json": {
       "model_id": "12d673143ec245ddbc51f679a4df928f",
       "version_major": 2,
       "version_minor": 0
      },
      "text/plain": [
       "VBox()"
      ]
     },
     "metadata": {},
     "output_type": "display_data"
    },
    {
     "data": {
      "application/vnd.jupyter.widget-view+json": {
       "model_id": "",
       "version_major": 2,
       "version_minor": 0
      },
      "text/plain": [
       "FloatProgress(value=0.0, bar_style='info', description='Progress:', layout=Layout(height='25px', width='50%'),…"
      ]
     },
     "metadata": {},
     "output_type": "display_data"
    }
   ],
   "source": [
    "#Creating Spark Session\n",
    "#from pyspark.sql import SparkSession\n",
    "#spark = SparkSession.builder.appName('Credit_Assignment').getOrCreate()"
   ]
  },
  {
   "cell_type": "code",
   "execution_count": 3,
   "id": "26b01519",
   "metadata": {},
   "outputs": [
    {
     "data": {
      "application/vnd.jupyter.widget-view+json": {
       "model_id": "9f11983f17f24e7b91f5a5f55e96e6c3",
       "version_major": 2,
       "version_minor": 0
      },
      "text/plain": [
       "VBox()"
      ]
     },
     "metadata": {},
     "output_type": "display_data"
    },
    {
     "data": {
      "application/vnd.jupyter.widget-view+json": {
       "model_id": "",
       "version_major": 2,
       "version_minor": 0
      },
      "text/plain": [
       "FloatProgress(value=0.0, bar_style='info', description='Progress:', layout=Layout(height='25px', width='50%'),…"
      ]
     },
     "metadata": {},
     "output_type": "display_data"
    }
   ],
   "source": [
    "#import necessary Libraries\n"
   ]
  },
  {
   "cell_type": "code",
   "execution_count": 4,
   "id": "eac17e51",
   "metadata": {},
   "outputs": [
    {
     "data": {
      "application/vnd.jupyter.widget-view+json": {
       "model_id": "a5c4b3cdad56409fa39830bbd6ae36b4",
       "version_major": 2,
       "version_minor": 0
      },
      "text/plain": [
       "VBox()"
      ]
     },
     "metadata": {},
     "output_type": "display_data"
    },
    {
     "data": {
      "application/vnd.jupyter.widget-view+json": {
       "model_id": "",
       "version_major": 2,
       "version_minor": 0
      },
      "text/plain": [
       "FloatProgress(value=0.0, bar_style='info', description='Progress:', layout=Layout(height='25px', width='50%'),…"
      ]
     },
     "metadata": {},
     "output_type": "display_data"
    }
   ],
   "source": [
    "#Reading Data Frame from CSV file\n",
    "#inferring Schema and setting Header to True\n",
    "\n",
    "credit_record = sqlContext.read.csv(\"s3://raghuldatawarehouse/credit_record.csv\", header=True, inferSchema=True)\n",
    "credit_application = sqlContext.read.csv(\"s3://raghuldatawarehouse/application_record.csv\", header=True, inferSchema=True)"
   ]
  },
  {
   "cell_type": "code",
   "execution_count": 5,
   "id": "a32c4a37",
   "metadata": {},
   "outputs": [
    {
     "data": {
      "application/vnd.jupyter.widget-view+json": {
       "model_id": "9c0debac4ee3437da45fb5067cea722d",
       "version_major": 2,
       "version_minor": 0
      },
      "text/plain": [
       "VBox()"
      ]
     },
     "metadata": {},
     "output_type": "display_data"
    },
    {
     "data": {
      "application/vnd.jupyter.widget-view+json": {
       "model_id": "",
       "version_major": 2,
       "version_minor": 0
      },
      "text/plain": [
       "FloatProgress(value=0.0, bar_style='info', description='Progress:', layout=Layout(height='25px', width='50%'),…"
      ]
     },
     "metadata": {},
     "output_type": "display_data"
    },
    {
     "name": "stdout",
     "output_type": "stream",
     "text": [
      "(1048575, 3)\n",
      "(438557, 18)"
     ]
    }
   ],
   "source": [
    "def sparkShape(df):\n",
    "    return (df.count(), len(df.columns))\n",
    "\n",
    "print(sparkShape(credit_record))\n",
    "print(sparkShape(credit_application))"
   ]
  },
  {
   "cell_type": "code",
   "execution_count": 6,
   "id": "5619a339",
   "metadata": {},
   "outputs": [
    {
     "data": {
      "application/vnd.jupyter.widget-view+json": {
       "model_id": "9fd072cbb6584591a191f08014a5d480",
       "version_major": 2,
       "version_minor": 0
      },
      "text/plain": [
       "VBox()"
      ]
     },
     "metadata": {},
     "output_type": "display_data"
    },
    {
     "data": {
      "application/vnd.jupyter.widget-view+json": {
       "model_id": "",
       "version_major": 2,
       "version_minor": 0
      },
      "text/plain": [
       "FloatProgress(value=0.0, bar_style='info', description='Progress:', layout=Layout(height='25px', width='50%'),…"
      ]
     },
     "metadata": {},
     "output_type": "display_data"
    },
    {
     "name": "stdout",
     "output_type": "stream",
     "text": [
      "[('ID', 'int'), ('MONTHS_BALANCE', 'int'), ('STATUS', 'string')]"
     ]
    }
   ],
   "source": [
    "credit_record.dtypes"
   ]
  },
  {
   "cell_type": "code",
   "execution_count": 7,
   "id": "867b78c2",
   "metadata": {},
   "outputs": [
    {
     "data": {
      "application/vnd.jupyter.widget-view+json": {
       "model_id": "d747c4a03dc4440a907066884b44d721",
       "version_major": 2,
       "version_minor": 0
      },
      "text/plain": [
       "VBox()"
      ]
     },
     "metadata": {},
     "output_type": "display_data"
    },
    {
     "data": {
      "application/vnd.jupyter.widget-view+json": {
       "model_id": "",
       "version_major": 2,
       "version_minor": 0
      },
      "text/plain": [
       "FloatProgress(value=0.0, bar_style='info', description='Progress:', layout=Layout(height='25px', width='50%'),…"
      ]
     },
     "metadata": {},
     "output_type": "display_data"
    },
    {
     "name": "stdout",
     "output_type": "stream",
     "text": [
      "[('ID', 'int'), ('CODE_GENDER', 'string'), ('FLAG_OWN_CAR', 'string'), ('FLAG_OWN_REALTY', 'string'), ('CNT_CHILDREN', 'int'), ('AMT_INCOME_TOTAL', 'double'), ('NAME_INCOME_TYPE', 'string'), ('NAME_EDUCATION_TYPE', 'string'), ('NAME_FAMILY_STATUS', 'string'), ('NAME_HOUSING_TYPE', 'string'), ('DAYS_BIRTH', 'int'), ('DAYS_EMPLOYED', 'int'), ('FLAG_MOBIL', 'int'), ('FLAG_WORK_PHONE', 'int'), ('FLAG_PHONE', 'int'), ('FLAG_EMAIL', 'int'), ('OCCUPATION_TYPE', 'string'), ('CNT_FAM_MEMBERS', 'double')]"
     ]
    }
   ],
   "source": [
    "credit_application.dtypes"
   ]
  },
  {
   "cell_type": "code",
   "execution_count": 8,
   "id": "b61e7de8",
   "metadata": {},
   "outputs": [
    {
     "data": {
      "application/vnd.jupyter.widget-view+json": {
       "model_id": "5da1a2d6915e46238193ff4e9a235957",
       "version_major": 2,
       "version_minor": 0
      },
      "text/plain": [
       "VBox()"
      ]
     },
     "metadata": {},
     "output_type": "display_data"
    },
    {
     "data": {
      "application/vnd.jupyter.widget-view+json": {
       "model_id": "",
       "version_major": 2,
       "version_minor": 0
      },
      "text/plain": [
       "FloatProgress(value=0.0, bar_style='info', description='Progress:', layout=Layout(height='25px', width='50%'),…"
      ]
     },
     "metadata": {},
     "output_type": "display_data"
    },
    {
     "name": "stdout",
     "output_type": "stream",
     "text": [
      "+----------+\n",
      "|Applicants|\n",
      "+----------+\n",
      "|    438510|\n",
      "+----------+"
     ]
    }
   ],
   "source": [
    "#Number of distinct Applications\n",
    "from pyspark.sql.functions import countDistinct\n",
    "credit_application.select(countDistinct('ID').alias('Applicants')).show()"
   ]
  },
  {
   "cell_type": "code",
   "execution_count": 9,
   "id": "0c296619",
   "metadata": {},
   "outputs": [
    {
     "data": {
      "application/vnd.jupyter.widget-view+json": {
       "model_id": "dd9eeb9a6d304f6fbf8e31cb2203827b",
       "version_major": 2,
       "version_minor": 0
      },
      "text/plain": [
       "VBox()"
      ]
     },
     "metadata": {},
     "output_type": "display_data"
    },
    {
     "data": {
      "application/vnd.jupyter.widget-view+json": {
       "model_id": "",
       "version_major": 2,
       "version_minor": 0
      },
      "text/plain": [
       "FloatProgress(value=0.0, bar_style='info', description='Progress:', layout=Layout(height='25px', width='50%'),…"
      ]
     },
     "metadata": {},
     "output_type": "display_data"
    },
    {
     "name": "stdout",
     "output_type": "stream",
     "text": [
      "+---------------------+\n",
      "|Credit-Card Customers|\n",
      "+---------------------+\n",
      "|                45985|\n",
      "+---------------------+"
     ]
    }
   ],
   "source": [
    "#number of distinct Credit Card users\n",
    "credit_record.select(countDistinct('ID').alias(\"Credit-Card Customers\")).show()"
   ]
  },
  {
   "cell_type": "code",
   "execution_count": 10,
   "id": "a25753ec",
   "metadata": {},
   "outputs": [
    {
     "data": {
      "application/vnd.jupyter.widget-view+json": {
       "model_id": "ef34aeb6d39f4e7bb6f32a978f370499",
       "version_major": 2,
       "version_minor": 0
      },
      "text/plain": [
       "VBox()"
      ]
     },
     "metadata": {},
     "output_type": "display_data"
    },
    {
     "data": {
      "application/vnd.jupyter.widget-view+json": {
       "model_id": "",
       "version_major": 2,
       "version_minor": 0
      },
      "text/plain": [
       "FloatProgress(value=0.0, bar_style='info', description='Progress:', layout=Layout(height='25px', width='50%'),…"
      ]
     },
     "metadata": {},
     "output_type": "display_data"
    },
    {
     "name": "stdout",
     "output_type": "stream",
     "text": [
      "+-------+--------------+------+\n",
      "|     ID|MONTHS_BALANCE|STATUS|\n",
      "+-------+--------------+------+\n",
      "|5001711|             0|     X|\n",
      "|5001711|            -1|     0|\n",
      "|5001711|            -2|     0|\n",
      "|5001711|            -3|     0|\n",
      "|5001712|             0|     C|\n",
      "|5001712|            -1|     C|\n",
      "|5001712|            -2|     C|\n",
      "|5001712|            -3|     C|\n",
      "|5001712|            -4|     C|\n",
      "|5001712|            -5|     C|\n",
      "|5001712|            -6|     C|\n",
      "|5001712|            -7|     C|\n",
      "|5001712|            -8|     C|\n",
      "|5001712|            -9|     0|\n",
      "|5001712|           -10|     0|\n",
      "|5001712|           -11|     0|\n",
      "|5001712|           -12|     0|\n",
      "|5001712|           -13|     0|\n",
      "|5001712|           -14|     0|\n",
      "|5001712|           -15|     0|\n",
      "+-------+--------------+------+\n",
      "only showing top 20 rows"
     ]
    }
   ],
   "source": [
    "credit_record.show()"
   ]
  },
  {
   "cell_type": "code",
   "execution_count": 11,
   "id": "846c0265",
   "metadata": {},
   "outputs": [
    {
     "data": {
      "application/vnd.jupyter.widget-view+json": {
       "model_id": "86ca5f4cb9854a8eb962a5df71527780",
       "version_major": 2,
       "version_minor": 0
      },
      "text/plain": [
       "VBox()"
      ]
     },
     "metadata": {},
     "output_type": "display_data"
    },
    {
     "data": {
      "application/vnd.jupyter.widget-view+json": {
       "model_id": "",
       "version_major": 2,
       "version_minor": 0
      },
      "text/plain": [
       "FloatProgress(value=0.0, bar_style='info', description='Progress:', layout=Layout(height='25px', width='50%'),…"
      ]
     },
     "metadata": {},
     "output_type": "display_data"
    },
    {
     "name": "stdout",
     "output_type": "stream",
     "text": [
      "+------+\n",
      "|STATUS|\n",
      "+------+\n",
      "|     3|\n",
      "|     0|\n",
      "|     5|\n",
      "|     C|\n",
      "|     X|\n",
      "|     1|\n",
      "|     4|\n",
      "|     2|\n",
      "+------+"
     ]
    }
   ],
   "source": [
    "#pivot the montly status to get customer view\n",
    "credit_record.select('STATUS').distinct().show()"
   ]
  },
  {
   "cell_type": "code",
   "execution_count": 12,
   "id": "1912ec17",
   "metadata": {},
   "outputs": [
    {
     "data": {
      "application/vnd.jupyter.widget-view+json": {
       "model_id": "3cf2387559f94cf48aa736bd26aecf60",
       "version_major": 2,
       "version_minor": 0
      },
      "text/plain": [
       "VBox()"
      ]
     },
     "metadata": {},
     "output_type": "display_data"
    },
    {
     "data": {
      "application/vnd.jupyter.widget-view+json": {
       "model_id": "",
       "version_major": 2,
       "version_minor": 0
      },
      "text/plain": [
       "FloatProgress(value=0.0, bar_style='info', description='Progress:', layout=Layout(height='25px', width='50%'),…"
      ]
     },
     "metadata": {},
     "output_type": "display_data"
    },
    {
     "name": "stdout",
     "output_type": "stream",
     "text": [
      "+-------+----+----+----+----+----+----+----+----+\n",
      "|     ID|   0|   1|   2|   3|   4|   5|   C|   X|\n",
      "+-------+----+----+----+----+----+----+----+----+\n",
      "|5060509|  28|   1|null|null|null|null|null|   5|\n",
      "|5149573|   4|null|null|null|null|null|  33|null|\n",
      "|5005681|  13|null|null|null|null|null|  13|   5|\n",
      "|5009033|   4|null|null|null|null|null|null|  13|\n",
      "|5078408|   3|null|null|null|null|null|null|   7|\n",
      "|5095205|  10|null|null|null|null|null|   6|null|\n",
      "|5058510|null|null|null|null|null|null|   4|   7|\n",
      "|5085860|   1|null|null|null|null|null|null|   1|\n",
      "|5090836|  15|   1|null|null|null|null|   9|null|\n",
      "|5009304|   5|null|null|null|null|null|   6|  24|\n",
      "|5024891|   3|null|null|null|null|null|   5|   1|\n",
      "|5100303|   6|   1|null|null|null|null|  12|null|\n",
      "|5112603|   1|null|null|null|null|null|   9|   5|\n",
      "|5114197|   4|null|null|null|null|null|  27|   1|\n",
      "|5054355|   5|null|null|null|null|null|  12|   1|\n",
      "|5010624|  19|null|null|null|null|null|  11|null|\n",
      "|5121176|   8|null|null|null|null|null|  36|null|\n",
      "|5028624|   7|   1|null|null|null|null|null|null|\n",
      "|5132719|  12|null|null|null|null|null|null|   2|\n",
      "|5146379|  16|null|null|null|null|null|null|   2|\n",
      "+-------+----+----+----+----+----+----+----+----+\n",
      "only showing top 20 rows"
     ]
    }
   ],
   "source": [
    "import pyspark.sql.functions as fun\n",
    "credit_record_pivot = credit_record.groupBy('ID').pivot('STATUS').agg(fun.count('ID'))\n",
    "credit_record_pivot.show()"
   ]
  },
  {
   "cell_type": "code",
   "execution_count": 13,
   "id": "54efb424",
   "metadata": {},
   "outputs": [
    {
     "data": {
      "application/vnd.jupyter.widget-view+json": {
       "model_id": "cd8cc26df27a437d9d0da8606578f7e0",
       "version_major": 2,
       "version_minor": 0
      },
      "text/plain": [
       "VBox()"
      ]
     },
     "metadata": {},
     "output_type": "display_data"
    },
    {
     "data": {
      "application/vnd.jupyter.widget-view+json": {
       "model_id": "",
       "version_major": 2,
       "version_minor": 0
      },
      "text/plain": [
       "FloatProgress(value=0.0, bar_style='info', description='Progress:', layout=Layout(height='25px', width='50%'),…"
      ]
     },
     "metadata": {},
     "output_type": "display_data"
    }
   ],
   "source": [
    "#rename the pivoted columns\n",
    "oldColumns = credit_record_pivot.schema.names\n",
    "newColumns = ['ID', 'stat_0', 'stat_1', 'stat_2', 'stat_3', 'stat_4', 'stat_5', 'stat_C', 'stat_X']\n"
   ]
  },
  {
   "cell_type": "code",
   "execution_count": 14,
   "id": "0c17f549",
   "metadata": {},
   "outputs": [
    {
     "data": {
      "application/vnd.jupyter.widget-view+json": {
       "model_id": "b3a3c4fedc3048f08fac26e1faacc0ea",
       "version_major": 2,
       "version_minor": 0
      },
      "text/plain": [
       "VBox()"
      ]
     },
     "metadata": {},
     "output_type": "display_data"
    },
    {
     "data": {
      "application/vnd.jupyter.widget-view+json": {
       "model_id": "",
       "version_major": 2,
       "version_minor": 0
      },
      "text/plain": [
       "FloatProgress(value=0.0, bar_style='info', description='Progress:', layout=Layout(height='25px', width='50%'),…"
      ]
     },
     "metadata": {},
     "output_type": "display_data"
    },
    {
     "name": "stdout",
     "output_type": "stream",
     "text": [
      "+-------+------+------+------+------+------+------+------+------+\n",
      "|     ID|stat_0|stat_1|stat_2|stat_3|stat_4|stat_5|stat_C|stat_X|\n",
      "+-------+------+------+------+------+------+------+------+------+\n",
      "|5060509|    28|     1|  null|  null|  null|  null|  null|     5|\n",
      "|5061822|     5|  null|  null|  null|  null|  null|  null|     1|\n",
      "|5044479|     2|  null|  null|  null|  null|  null|  null|     1|\n",
      "|5135899|     6|  null|  null|  null|  null|  null|    17|     7|\n",
      "|5142868|    26|  null|  null|  null|  null|  null|  null|     1|\n",
      "|5009304|     5|  null|  null|  null|  null|  null|     6|    24|\n",
      "|5021819|    38|  null|  null|  null|  null|  null|  null|  null|\n",
      "|5092149|     1|  null|  null|  null|  null|  null|  null|     6|\n",
      "|5068077|     5|  null|  null|  null|  null|  null|     1|  null|\n",
      "|5089546|    14|     1|  null|  null|  null|  null|  null|     4|\n",
      "|5090925|    10|  null|  null|  null|  null|  null|  null|     1|\n",
      "|5112842|     6|  null|  null|  null|  null|  null|     8|  null|\n",
      "|5033694|     6|  null|  null|  null|  null|  null|  null|     1|\n",
      "|5096014|  null|  null|  null|  null|  null|  null|  null|    18|\n",
      "|5009033|     4|  null|  null|  null|  null|  null|  null|    13|\n",
      "|5050583|     6|  null|  null|  null|  null|  null|    11|  null|\n",
      "|5135938|    29|     8|  null|  null|  null|  null|  null|     1|\n",
      "|5056056|    10|     2|  null|  null|  null|  null|     6|  null|\n",
      "|5068039|     7|  null|  null|  null|  null|  null|    10|  null|\n",
      "|5028624|     7|     1|  null|  null|  null|  null|  null|  null|\n",
      "+-------+------+------+------+------+------+------+------+------+\n",
      "only showing top 20 rows"
     ]
    }
   ],
   "source": [
    "from functools import reduce\n",
    "credit_record_pivot = reduce(lambda data, idx: data.withColumnRenamed(oldColumns[idx], newColumns[idx]), range(len(oldColumns)), credit_record_pivot)\n",
    "credit_record_pivot.show()"
   ]
  },
  {
   "cell_type": "code",
   "execution_count": 15,
   "id": "759ed483",
   "metadata": {},
   "outputs": [
    {
     "data": {
      "application/vnd.jupyter.widget-view+json": {
       "model_id": "d128c1efd77344ffba9da50212387d2f",
       "version_major": 2,
       "version_minor": 0
      },
      "text/plain": [
       "VBox()"
      ]
     },
     "metadata": {},
     "output_type": "display_data"
    },
    {
     "data": {
      "application/vnd.jupyter.widget-view+json": {
       "model_id": "",
       "version_major": 2,
       "version_minor": 0
      },
      "text/plain": [
       "FloatProgress(value=0.0, bar_style='info', description='Progress:', layout=Layout(height='25px', width='50%'),…"
      ]
     },
     "metadata": {},
     "output_type": "display_data"
    },
    {
     "name": "stdout",
     "output_type": "stream",
     "text": [
      "+-------+------+------+------+------+------+------+------+------+--------------+\n",
      "|     ID|stat_0|stat_1|stat_2|stat_3|stat_4|stat_5|stat_C|stat_X|TotalDeliquent|\n",
      "+-------+------+------+------+------+------+------+------+------+--------------+\n",
      "|5061822|     5|     0|     0|     0|     0|     0|     0|     1|             0|\n",
      "|5009304|     5|     0|     0|     0|     0|     0|     6|    24|             0|\n",
      "|5021819|    38|     0|     0|     0|     0|     0|     0|     0|             0|\n",
      "|5092149|     1|     0|     0|     0|     0|     0|     0|     6|             0|\n",
      "|5044479|     2|     0|     0|     0|     0|     0|     0|     1|             0|\n",
      "|5135899|     6|     0|     0|     0|     0|     0|    17|     7|             0|\n",
      "|5142868|    26|     0|     0|     0|     0|     0|     0|     1|             0|\n",
      "|5068077|     5|     0|     0|     0|     0|     0|     1|     0|             0|\n",
      "|5089546|    14|     1|     0|     0|     0|     0|     0|     4|             0|\n",
      "|5090925|    10|     0|     0|     0|     0|     0|     0|     1|             0|\n",
      "|5112842|     6|     0|     0|     0|     0|     0|     8|     0|             0|\n",
      "|5096014|     0|     0|     0|     0|     0|     0|     0|    18|             0|\n",
      "|5033694|     6|     0|     0|     0|     0|     0|     0|     1|             0|\n",
      "|5009033|     4|     0|     0|     0|     0|     0|     0|    13|             0|\n",
      "|5050583|     6|     0|     0|     0|     0|     0|    11|     0|             0|\n",
      "|5135938|    29|     8|     0|     0|     0|     0|     0|     1|             0|\n",
      "|5010624|    19|     0|     0|     0|     0|     0|    11|     0|             0|\n",
      "|5121176|     8|     0|     0|     0|     0|     0|    36|     0|             0|\n",
      "|5068893|     2|     1|     0|     0|     0|     0|     4|     4|             0|\n",
      "|5114197|     4|     0|     0|     0|     0|     0|    27|     1|             0|\n",
      "+-------+------+------+------+------+------+------+------+------+--------------+\n",
      "only showing top 20 rows"
     ]
    }
   ],
   "source": [
    "#Adding number of times customer becomes deliquent\n",
    "DeliquentCols = ['stat_2', 'stat_3', 'stat_4', 'stat_5']\n",
    "\n",
    "def columnAdd(a,b):\n",
    "    return a.__add__(b)\n",
    "\n",
    "credit_record_pivot = credit_record_pivot.na.fill(0)\n",
    "credit_record_pivot = credit_record_pivot.withColumn('TotalDeliquent', reduce(columnAdd, (credit_record_pivot[col] for col in DeliquentCols)))\n",
    "\n",
    "credit_record_pivot.show()"
   ]
  },
  {
   "cell_type": "code",
   "execution_count": 16,
   "id": "4f971347",
   "metadata": {},
   "outputs": [
    {
     "data": {
      "application/vnd.jupyter.widget-view+json": {
       "model_id": "f1c59d5d973b43b28eb5c6e1699cc5e8",
       "version_major": 2,
       "version_minor": 0
      },
      "text/plain": [
       "VBox()"
      ]
     },
     "metadata": {},
     "output_type": "display_data"
    },
    {
     "data": {
      "application/vnd.jupyter.widget-view+json": {
       "model_id": "",
       "version_major": 2,
       "version_minor": 0
      },
      "text/plain": [
       "FloatProgress(value=0.0, bar_style='info', description='Progress:', layout=Layout(height='25px', width='50%'),…"
      ]
     },
     "metadata": {},
     "output_type": "display_data"
    },
    {
     "name": "stdout",
     "output_type": "stream",
     "text": [
      "+-------+------+------+------+------+------+------+------+------+--------------+------+\n",
      "|     ID|stat_0|stat_1|stat_2|stat_3|stat_4|stat_5|stat_C|stat_X|TotalDeliquent|target|\n",
      "+-------+------+------+------+------+------+------+------+------+--------------+------+\n",
      "|5061822|     5|     0|     0|     0|     0|     0|     0|     1|             0|     0|\n",
      "|5044479|     2|     0|     0|     0|     0|     0|     0|     1|             0|     0|\n",
      "|5135899|     6|     0|     0|     0|     0|     0|    17|     7|             0|     0|\n",
      "|5142868|    26|     0|     0|     0|     0|     0|     0|     1|             0|     0|\n",
      "|5009304|     5|     0|     0|     0|     0|     0|     6|    24|             0|     0|\n",
      "|5021819|    38|     0|     0|     0|     0|     0|     0|     0|             0|     0|\n",
      "|5092149|     1|     0|     0|     0|     0|     0|     0|     6|             0|     0|\n",
      "|5068077|     5|     0|     0|     0|     0|     0|     1|     0|             0|     0|\n",
      "|5089546|    14|     1|     0|     0|     0|     0|     0|     4|             0|     0|\n",
      "|5090925|    10|     0|     0|     0|     0|     0|     0|     1|             0|     0|\n",
      "|5112842|     6|     0|     0|     0|     0|     0|     8|     0|             0|     0|\n",
      "|5096014|     0|     0|     0|     0|     0|     0|     0|    18|             0|     0|\n",
      "|5033694|     6|     0|     0|     0|     0|     0|     0|     1|             0|     0|\n",
      "|5056056|    10|     2|     0|     0|     0|     0|     6|     0|             0|     0|\n",
      "|5068039|     7|     0|     0|     0|     0|     0|    10|     0|             0|     0|\n",
      "|5054355|     5|     0|     0|     0|     0|     0|    12|     1|             0|     0|\n",
      "|5024891|     3|     0|     0|     0|     0|     0|     5|     1|             0|     0|\n",
      "|5100303|     6|     1|     0|     0|     0|     0|    12|     0|             0|     0|\n",
      "|5112603|     1|     0|     0|     0|     0|     0|     9|     5|             0|     0|\n",
      "|5114197|     4|     0|     0|     0|     0|     0|    27|     1|             0|     0|\n",
      "+-------+------+------+------+------+------+------+------+------+--------------+------+\n",
      "only showing top 20 rows"
     ]
    }
   ],
   "source": [
    " #creating target variable, where Total deliquent value is greater that 0 means -> Bad Customer\n",
    "credit_record_pivot = credit_record_pivot.withColumn(\"target\", fun.when(fun.col('TotalDeliquent') > 0, 1).otherwise(0))\n",
    "credit_record_pivot.show()"
   ]
  },
  {
   "cell_type": "code",
   "execution_count": 17,
   "id": "c9b9b923",
   "metadata": {},
   "outputs": [
    {
     "data": {
      "application/vnd.jupyter.widget-view+json": {
       "model_id": "34fc1257ba5b4290b6647d3ecf70c587",
       "version_major": 2,
       "version_minor": 0
      },
      "text/plain": [
       "VBox()"
      ]
     },
     "metadata": {},
     "output_type": "display_data"
    },
    {
     "data": {
      "application/vnd.jupyter.widget-view+json": {
       "model_id": "",
       "version_major": 2,
       "version_minor": 0
      },
      "text/plain": [
       "FloatProgress(value=0.0, bar_style='info', description='Progress:', layout=Layout(height='25px', width='50%'),…"
      ]
     },
     "metadata": {},
     "output_type": "display_data"
    },
    {
     "name": "stdout",
     "output_type": "stream",
     "text": [
      "+------+-----+\n",
      "|target|count|\n",
      "+------+-----+\n",
      "|     1|  667|\n",
      "|     0|45318|\n",
      "+------+-----+"
     ]
    }
   ],
   "source": [
    "credit_record_pivot.groupby('target').count().show()"
   ]
  },
  {
   "cell_type": "code",
   "execution_count": 18,
   "id": "9533c9dd",
   "metadata": {},
   "outputs": [
    {
     "data": {
      "application/vnd.jupyter.widget-view+json": {
       "model_id": "553037a32a9d4b72bbc862b4c88586ce",
       "version_major": 2,
       "version_minor": 0
      },
      "text/plain": [
       "VBox()"
      ]
     },
     "metadata": {},
     "output_type": "display_data"
    },
    {
     "data": {
      "application/vnd.jupyter.widget-view+json": {
       "model_id": "",
       "version_major": 2,
       "version_minor": 0
      },
      "text/plain": [
       "FloatProgress(value=0.0, bar_style='info', description='Progress:', layout=Layout(height='25px', width='50%'),…"
      ]
     },
     "metadata": {},
     "output_type": "display_data"
    },
    {
     "name": "stdout",
     "output_type": "stream",
     "text": [
      "(36457, 28)"
     ]
    }
   ],
   "source": [
    "#Merge both the dataframes\n",
    "merge_credit_card_record = credit_record_pivot.join(credit_application, on=['ID'], how='inner')\n",
    "print(sparkShape(merge_credit_card_record))\n"
   ]
  },
  {
   "cell_type": "code",
   "execution_count": 19,
   "id": "c581d4fc",
   "metadata": {},
   "outputs": [
    {
     "data": {
      "application/vnd.jupyter.widget-view+json": {
       "model_id": "37a0b76480b14293a0a7f7d2b27f57d1",
       "version_major": 2,
       "version_minor": 0
      },
      "text/plain": [
       "VBox()"
      ]
     },
     "metadata": {},
     "output_type": "display_data"
    },
    {
     "data": {
      "application/vnd.jupyter.widget-view+json": {
       "model_id": "",
       "version_major": 2,
       "version_minor": 0
      },
      "text/plain": [
       "FloatProgress(value=0.0, bar_style='info', description='Progress:', layout=Layout(height='25px', width='50%'),…"
      ]
     },
     "metadata": {},
     "output_type": "display_data"
    },
    {
     "name": "stdout",
     "output_type": "stream",
     "text": [
      "11"
     ]
    }
   ],
   "source": [
    "len(credit_record_pivot.schema.names)"
   ]
  },
  {
   "cell_type": "code",
   "execution_count": 20,
   "id": "bd22ad4a",
   "metadata": {},
   "outputs": [
    {
     "data": {
      "application/vnd.jupyter.widget-view+json": {
       "model_id": "bf78cde2ffd24a2394eb147d3a98af9d",
       "version_major": 2,
       "version_minor": 0
      },
      "text/plain": [
       "VBox()"
      ]
     },
     "metadata": {},
     "output_type": "display_data"
    },
    {
     "data": {
      "application/vnd.jupyter.widget-view+json": {
       "model_id": "",
       "version_major": 2,
       "version_minor": 0
      },
      "text/plain": [
       "FloatProgress(value=0.0, bar_style='info', description='Progress:', layout=Layout(height='25px', width='50%'),…"
      ]
     },
     "metadata": {},
     "output_type": "display_data"
    },
    {
     "name": "stdout",
     "output_type": "stream",
     "text": [
      "['ID', 'stat_0', 'stat_1', 'stat_2', 'stat_3', 'stat_4', 'stat_5', 'stat_C', 'stat_X', 'TotalDeliquent', 'target']"
     ]
    }
   ],
   "source": [
    "credit_record_pivot.schema.names"
   ]
  },
  {
   "cell_type": "code",
   "execution_count": 21,
   "id": "8ab68bef",
   "metadata": {},
   "outputs": [
    {
     "data": {
      "application/vnd.jupyter.widget-view+json": {
       "model_id": "2567ddd573174f5f8d9783d8b9ae009a",
       "version_major": 2,
       "version_minor": 0
      },
      "text/plain": [
       "VBox()"
      ]
     },
     "metadata": {},
     "output_type": "display_data"
    },
    {
     "data": {
      "application/vnd.jupyter.widget-view+json": {
       "model_id": "",
       "version_major": 2,
       "version_minor": 0
      },
      "text/plain": [
       "FloatProgress(value=0.0, bar_style='info', description='Progress:', layout=Layout(height='25px', width='50%'),…"
      ]
     },
     "metadata": {},
     "output_type": "display_data"
    },
    {
     "name": "stdout",
     "output_type": "stream",
     "text": [
      "18"
     ]
    }
   ],
   "source": [
    "len(credit_application.schema.names)"
   ]
  },
  {
   "cell_type": "code",
   "execution_count": 22,
   "id": "0f1d9e35",
   "metadata": {},
   "outputs": [
    {
     "data": {
      "application/vnd.jupyter.widget-view+json": {
       "model_id": "cc8b9752401c4cb9924b342ad661a7cb",
       "version_major": 2,
       "version_minor": 0
      },
      "text/plain": [
       "VBox()"
      ]
     },
     "metadata": {},
     "output_type": "display_data"
    },
    {
     "data": {
      "application/vnd.jupyter.widget-view+json": {
       "model_id": "",
       "version_major": 2,
       "version_minor": 0
      },
      "text/plain": [
       "FloatProgress(value=0.0, bar_style='info', description='Progress:', layout=Layout(height='25px', width='50%'),…"
      ]
     },
     "metadata": {},
     "output_type": "display_data"
    },
    {
     "name": "stdout",
     "output_type": "stream",
     "text": [
      "['ID', 'CODE_GENDER', 'FLAG_OWN_CAR', 'FLAG_OWN_REALTY', 'CNT_CHILDREN', 'AMT_INCOME_TOTAL', 'NAME_INCOME_TYPE', 'NAME_EDUCATION_TYPE', 'NAME_FAMILY_STATUS', 'NAME_HOUSING_TYPE', 'DAYS_BIRTH', 'DAYS_EMPLOYED', 'FLAG_MOBIL', 'FLAG_WORK_PHONE', 'FLAG_PHONE', 'FLAG_EMAIL', 'OCCUPATION_TYPE', 'CNT_FAM_MEMBERS']"
     ]
    }
   ],
   "source": [
    "credit_application.schema.names"
   ]
  },
  {
   "cell_type": "code",
   "execution_count": 23,
   "id": "3b329c4c",
   "metadata": {},
   "outputs": [
    {
     "data": {
      "application/vnd.jupyter.widget-view+json": {
       "model_id": "98a6e539d9a348efb025621c9950abca",
       "version_major": 2,
       "version_minor": 0
      },
      "text/plain": [
       "VBox()"
      ]
     },
     "metadata": {},
     "output_type": "display_data"
    },
    {
     "data": {
      "application/vnd.jupyter.widget-view+json": {
       "model_id": "",
       "version_major": 2,
       "version_minor": 0
      },
      "text/plain": [
       "FloatProgress(value=0.0, bar_style='info', description='Progress:', layout=Layout(height='25px', width='50%'),…"
      ]
     },
     "metadata": {},
     "output_type": "display_data"
    },
    {
     "name": "stdout",
     "output_type": "stream",
     "text": [
      "(36457, 19)"
     ]
    }
   ],
   "source": [
    "mergeCredit_app_record = credit_record_pivot.join(credit_application.alias('b'), credit_record_pivot.ID == credit_application.ID, 'inner').select('b.*', credit_record_pivot.target)\n",
    "print(sparkShape(mergeCredit_app_record))\n"
   ]
  },
  {
   "cell_type": "code",
   "execution_count": 24,
   "id": "956f358b",
   "metadata": {},
   "outputs": [
    {
     "data": {
      "application/vnd.jupyter.widget-view+json": {
       "model_id": "8201254ec4ea431983b5c7d189476738",
       "version_major": 2,
       "version_minor": 0
      },
      "text/plain": [
       "VBox()"
      ]
     },
     "metadata": {},
     "output_type": "display_data"
    },
    {
     "data": {
      "application/vnd.jupyter.widget-view+json": {
       "model_id": "",
       "version_major": 2,
       "version_minor": 0
      },
      "text/plain": [
       "FloatProgress(value=0.0, bar_style='info', description='Progress:', layout=Layout(height='25px', width='50%'),…"
      ]
     },
     "metadata": {},
     "output_type": "display_data"
    },
    {
     "name": "stdout",
     "output_type": "stream",
     "text": [
      "['ID', 'CODE_GENDER', 'FLAG_OWN_CAR', 'FLAG_OWN_REALTY', 'CNT_CHILDREN', 'AMT_INCOME_TOTAL', 'NAME_INCOME_TYPE', 'NAME_EDUCATION_TYPE', 'NAME_FAMILY_STATUS', 'NAME_HOUSING_TYPE', 'DAYS_BIRTH', 'DAYS_EMPLOYED', 'FLAG_MOBIL', 'FLAG_WORK_PHONE', 'FLAG_PHONE', 'FLAG_EMAIL', 'OCCUPATION_TYPE', 'CNT_FAM_MEMBERS', 'target']"
     ]
    }
   ],
   "source": [
    "mergeCredit_app_record.schema.names"
   ]
  },
  {
   "cell_type": "code",
   "execution_count": 25,
   "id": "4f711e52",
   "metadata": {},
   "outputs": [
    {
     "data": {
      "application/vnd.jupyter.widget-view+json": {
       "model_id": "b27b211c5ceb47228606e07a7b14b65e",
       "version_major": 2,
       "version_minor": 0
      },
      "text/plain": [
       "VBox()"
      ]
     },
     "metadata": {},
     "output_type": "display_data"
    },
    {
     "data": {
      "application/vnd.jupyter.widget-view+json": {
       "model_id": "",
       "version_major": 2,
       "version_minor": 0
      },
      "text/plain": [
       "FloatProgress(value=0.0, bar_style='info', description='Progress:', layout=Layout(height='25px', width='50%'),…"
      ]
     },
     "metadata": {},
     "output_type": "display_data"
    },
    {
     "name": "stdout",
     "output_type": "stream",
     "text": [
      "['ID', 'stat_0', 'stat_1', 'stat_2', 'stat_3', 'stat_4', 'stat_5', 'stat_C', 'stat_X', 'TotalDeliquent', 'target', 'CODE_GENDER', 'FLAG_OWN_CAR', 'FLAG_OWN_REALTY', 'CNT_CHILDREN', 'AMT_INCOME_TOTAL', 'NAME_INCOME_TYPE', 'NAME_EDUCATION_TYPE', 'NAME_FAMILY_STATUS', 'NAME_HOUSING_TYPE', 'DAYS_BIRTH', 'DAYS_EMPLOYED', 'FLAG_MOBIL', 'FLAG_WORK_PHONE', 'FLAG_PHONE', 'FLAG_EMAIL', 'OCCUPATION_TYPE', 'CNT_FAM_MEMBERS']"
     ]
    }
   ],
   "source": [
    "merge_credit_card_record.schema.names"
   ]
  },
  {
   "cell_type": "code",
   "execution_count": 26,
   "id": "80136d21",
   "metadata": {},
   "outputs": [
    {
     "data": {
      "application/vnd.jupyter.widget-view+json": {
       "model_id": "7d41755be0e04c86b2741558c717f869",
       "version_major": 2,
       "version_minor": 0
      },
      "text/plain": [
       "VBox()"
      ]
     },
     "metadata": {},
     "output_type": "display_data"
    },
    {
     "data": {
      "application/vnd.jupyter.widget-view+json": {
       "model_id": "",
       "version_major": 2,
       "version_minor": 0
      },
      "text/plain": [
       "FloatProgress(value=0.0, bar_style='info', description='Progress:', layout=Layout(height='25px', width='50%'),…"
      ]
     },
     "metadata": {},
     "output_type": "display_data"
    },
    {
     "name": "stdout",
     "output_type": "stream",
     "text": [
      "(25134, 28)"
     ]
    }
   ],
   "source": [
    "merge_credit_card_record = merge_credit_card_record.na.drop()\n",
    "print(sparkShape(merge_credit_card_record))"
   ]
  },
  {
   "cell_type": "code",
   "execution_count": 27,
   "id": "7d584625",
   "metadata": {},
   "outputs": [
    {
     "data": {
      "application/vnd.jupyter.widget-view+json": {
       "model_id": "c0794dee94c34f338d76bdb609c85b34",
       "version_major": 2,
       "version_minor": 0
      },
      "text/plain": [
       "VBox()"
      ]
     },
     "metadata": {},
     "output_type": "display_data"
    },
    {
     "data": {
      "application/vnd.jupyter.widget-view+json": {
       "model_id": "",
       "version_major": 2,
       "version_minor": 0
      },
      "text/plain": [
       "FloatProgress(value=0.0, bar_style='info', description='Progress:', layout=Layout(height='25px', width='50%'),…"
      ]
     },
     "metadata": {},
     "output_type": "display_data"
    },
    {
     "name": "stdout",
     "output_type": "stream",
     "text": [
      "19"
     ]
    }
   ],
   "source": [
    "merge_credit_card_record = merge_credit_card_record.drop('stat_0', 'stat_1', 'stat_2', 'stat_3', 'stat_4', 'stat_5', 'stat_C', 'stat_X', 'TotalDeliquent')\n",
    "len(merge_credit_card_record.schema.names)"
   ]
  },
  {
   "cell_type": "markdown",
   "id": "aedc36be",
   "metadata": {},
   "source": [
    "## EDA\n"
   ]
  },
  {
   "cell_type": "code",
   "execution_count": 28,
   "id": "8942fed0",
   "metadata": {},
   "outputs": [
    {
     "data": {
      "application/vnd.jupyter.widget-view+json": {
       "model_id": "c1bd80d9a5004cd28efdfb0412d8703d",
       "version_major": 2,
       "version_minor": 0
      },
      "text/plain": [
       "VBox()"
      ]
     },
     "metadata": {},
     "output_type": "display_data"
    },
    {
     "data": {
      "application/vnd.jupyter.widget-view+json": {
       "model_id": "",
       "version_major": 2,
       "version_minor": 0
      },
      "text/plain": [
       "FloatProgress(value=0.0, bar_style='info', description='Progress:', layout=Layout(height='25px', width='50%'),…"
      ]
     },
     "metadata": {},
     "output_type": "display_data"
    },
    {
     "name": "stdout",
     "output_type": "stream",
     "text": [
      "Collecting pandas==0.25.1\n",
      "  Using cached pandas-0.25.1-cp36-cp36m-manylinux1_x86_64.whl (10.5 MB)\n",
      "Collecting python-dateutil>=2.6.1\n",
      "  Using cached python_dateutil-2.8.2-py2.py3-none-any.whl (247 kB)\n",
      "Requirement already satisfied: numpy>=1.13.3 in /usr/local/lib64/python3.6/site-packages (from pandas==0.25.1) (1.14.5)\n",
      "Requirement already satisfied: pytz>=2017.2 in /usr/local/lib/python3.6/site-packages (from pandas==0.25.1) (2019.3)\n",
      "Requirement already satisfied: six>=1.5 in /usr/local/lib/python3.6/site-packages (from python-dateutil>=2.6.1->pandas==0.25.1) (1.13.0)\n",
      "Installing collected packages: python-dateutil, pandas\n",
      "Successfully installed pandas-0.25.1 python-dateutil-2.8.2\n",
      "\n",
      "Collecting matplotlib==3.1.1\n",
      "  Using cached matplotlib-3.1.1-cp36-cp36m-manylinux1_x86_64.whl (13.1 MB)\n",
      "Collecting pyparsing!=2.0.4,!=2.1.2,!=2.1.6,>=2.0.1\n",
      "  Using cached pyparsing-3.0.6-py3-none-any.whl (97 kB)\n",
      "Requirement already satisfied: numpy>=1.11 in /usr/local/lib64/python3.6/site-packages (from matplotlib==3.1.1) (1.14.5)\n",
      "Requirement already satisfied: python-dateutil>=2.1 in /mnt/tmp/1638373264021-0/lib/python3.6/site-packages (from matplotlib==3.1.1) (2.8.2)\n",
      "Collecting kiwisolver>=1.0.1\n",
      "  Using cached kiwisolver-1.3.1-cp36-cp36m-manylinux1_x86_64.whl (1.1 MB)\n",
      "Collecting cycler>=0.10\n",
      "  Using cached cycler-0.11.0-py3-none-any.whl (6.4 kB)\n",
      "Requirement already satisfied: six>=1.5 in /usr/local/lib/python3.6/site-packages (from python-dateutil>=2.1->matplotlib==3.1.1) (1.13.0)\n",
      "Installing collected packages: pyparsing, kiwisolver, cycler, matplotlib\n",
      "Successfully installed cycler-0.11.0 kiwisolver-1.3.1 matplotlib-3.1.1 pyparsing-3.0.6"
     ]
    }
   ],
   "source": [
    "sc.install_pypi_package(\"pandas==0.25.1\")\n",
    "sc.install_pypi_package(\"matplotlib==3.1.1\",'https://pypi.org/simple')\n"
   ]
  },
  {
   "cell_type": "code",
   "execution_count": 29,
   "id": "1bfaaf3f",
   "metadata": {},
   "outputs": [
    {
     "data": {
      "application/vnd.jupyter.widget-view+json": {
       "model_id": "06c4f0a6f8c543ab81781a81f04ef993",
       "version_major": 2,
       "version_minor": 0
      },
      "text/plain": [
       "VBox()"
      ]
     },
     "metadata": {},
     "output_type": "display_data"
    },
    {
     "data": {
      "application/vnd.jupyter.widget-view+json": {
       "model_id": "",
       "version_major": 2,
       "version_minor": 0
      },
      "text/plain": [
       "FloatProgress(value=0.0, bar_style='info', description='Progress:', layout=Layout(height='25px', width='50%'),…"
      ]
     },
     "metadata": {},
     "output_type": "display_data"
    }
   ],
   "source": [
    "#converting spark data frame to pandas for EDA only\n",
    "credit_application_pd = credit_application.toPandas()"
   ]
  },
  {
   "cell_type": "markdown",
   "id": "e5809841",
   "metadata": {},
   "source": [
    "### 1. What is the proportion of females in the applicant customer base?"
   ]
  },
  {
   "cell_type": "code",
   "execution_count": 30,
   "id": "e5523884",
   "metadata": {},
   "outputs": [
    {
     "data": {
      "application/vnd.jupyter.widget-view+json": {
       "model_id": "563c35f7cc8f4a5c8d19895956a45481",
       "version_major": 2,
       "version_minor": 0
      },
      "text/plain": [
       "VBox()"
      ]
     },
     "metadata": {},
     "output_type": "display_data"
    },
    {
     "data": {
      "application/vnd.jupyter.widget-view+json": {
       "model_id": "",
       "version_major": 2,
       "version_minor": 0
      },
      "text/plain": [
       "FloatProgress(value=0.0, bar_style='info', description='Progress:', layout=Layout(height='25px', width='50%'),…"
      ]
     },
     "metadata": {},
     "output_type": "display_data"
    },
    {
     "name": "stdout",
     "output_type": "stream",
     "text": [
      "F    0.671384\n",
      "M    0.328616\n",
      "Name: CODE_GENDER, dtype: float64"
     ]
    }
   ],
   "source": [
    "gender_df = credit_application_pd.CODE_GENDER.value_counts(normalize=True)\n",
    "gender_df"
   ]
  },
  {
   "cell_type": "code",
   "execution_count": 31,
   "id": "b5820d00",
   "metadata": {},
   "outputs": [
    {
     "data": {
      "application/vnd.jupyter.widget-view+json": {
       "model_id": "77361389dc404293b5add397ba6f3a7d",
       "version_major": 2,
       "version_minor": 0
      },
      "text/plain": [
       "VBox()"
      ]
     },
     "metadata": {},
     "output_type": "display_data"
    },
    {
     "data": {
      "application/vnd.jupyter.widget-view+json": {
       "model_id": "",
       "version_major": 2,
       "version_minor": 0
      },
      "text/plain": [
       "FloatProgress(value=0.0, bar_style='info', description='Progress:', layout=Layout(height='25px', width='50%'),…"
      ]
     },
     "metadata": {},
     "output_type": "display_data"
    }
   ],
   "source": [
    "#gender_df.plot(kind='pie', figsize=(5, 5))\n",
    "#%matplot plt"
   ]
  },
  {
   "cell_type": "markdown",
   "id": "7165793b",
   "metadata": {},
   "source": [
    "### 2. House Ownership higher among male applicants or female applicants?"
   ]
  },
  {
   "cell_type": "code",
   "execution_count": 32,
   "id": "9e0bd501",
   "metadata": {},
   "outputs": [
    {
     "data": {
      "application/vnd.jupyter.widget-view+json": {
       "model_id": "3c026e31f39d46728e8a9272321d2729",
       "version_major": 2,
       "version_minor": 0
      },
      "text/plain": [
       "VBox()"
      ]
     },
     "metadata": {},
     "output_type": "display_data"
    },
    {
     "data": {
      "application/vnd.jupyter.widget-view+json": {
       "model_id": "",
       "version_major": 2,
       "version_minor": 0
      },
      "text/plain": [
       "FloatProgress(value=0.0, bar_style='info', description='Progress:', layout=Layout(height='25px', width='50%'),…"
      ]
     },
     "metadata": {},
     "output_type": "display_data"
    },
    {
     "name": "stdout",
     "output_type": "stream",
     "text": [
      "CODE_GENDER               F       M\n",
      "NAME_HOUSING_TYPE                  \n",
      "Co-op apartment         862     677\n",
      "House / apartment    267607  126224\n",
      "Municipal apartment   10019    4195\n",
      "Office apartment       2122    1800\n",
      "Rented apartment       3284    2690\n",
      "With parents          10546    8531"
     ]
    }
   ],
   "source": [
    "import pandas as pd\n",
    "\n",
    "house_owner_count = pd.crosstab(credit_application_pd['NAME_HOUSING_TYPE'], credit_application_pd['CODE_GENDER'])\n",
    "print(house_owner_count.to_string())"
   ]
  },
  {
   "cell_type": "code",
   "execution_count": 33,
   "id": "efcd607f",
   "metadata": {},
   "outputs": [
    {
     "data": {
      "application/vnd.jupyter.widget-view+json": {
       "model_id": "6114bf3839014aea88a755830cffed2a",
       "version_major": 2,
       "version_minor": 0
      },
      "text/plain": [
       "VBox()"
      ]
     },
     "metadata": {},
     "output_type": "display_data"
    },
    {
     "data": {
      "application/vnd.jupyter.widget-view+json": {
       "model_id": "",
       "version_major": 2,
       "version_minor": 0
      },
      "text/plain": [
       "FloatProgress(value=0.0, bar_style='info', description='Progress:', layout=Layout(height='25px', width='50%'),…"
      ]
     },
     "metadata": {},
     "output_type": "display_data"
    },
    {
     "name": "stdout",
     "output_type": "stream",
     "text": [
      "CODE_GENDER               F       M  F_Propotion  M_Propotion\n",
      "NAME_HOUSING_TYPE                                            \n",
      "Co-op apartment         862     677     0.292759     0.229928\n",
      "House / apartment    267607  126224    90.886768    42.869175\n",
      "Municipal apartment   10019    4195     3.402731     1.424738\n",
      "Office apartment       2122    1800     0.720690     0.611330\n",
      "Rented apartment       3284    2690     1.115338     0.913599\n",
      "With parents          10546    8531     3.581714     2.897364"
     ]
    }
   ],
   "source": [
    "house_owner_count['F_Propotion'] = (house_owner_count['F'] / house_owner_count['F'].sum()) * 100\n",
    "house_owner_count['M_Propotion'] = (house_owner_count['M'] / house_owner_count['F'].sum()) * 100\n",
    "house_owner_count"
   ]
  },
  {
   "cell_type": "markdown",
   "id": "04bd4c25",
   "metadata": {},
   "source": [
    "### 3. Correlation between Income levels and education levels?"
   ]
  },
  {
   "cell_type": "code",
   "execution_count": 34,
   "id": "36b41e48",
   "metadata": {},
   "outputs": [
    {
     "data": {
      "application/vnd.jupyter.widget-view+json": {
       "model_id": "80f73c3984254434965b8b673842782f",
       "version_major": 2,
       "version_minor": 0
      },
      "text/plain": [
       "VBox()"
      ]
     },
     "metadata": {},
     "output_type": "display_data"
    },
    {
     "data": {
      "application/vnd.jupyter.widget-view+json": {
       "model_id": "",
       "version_major": 2,
       "version_minor": 0
      },
      "text/plain": [
       "FloatProgress(value=0.0, bar_style='info', description='Progress:', layout=Layout(height='25px', width='50%'),…"
      ]
     },
     "metadata": {},
     "output_type": "display_data"
    }
   ],
   "source": [
    "\n",
    "credit_application_pd['NAME_EDUCATION_TYPE_cat'] = credit_application_pd.groupby('NAME_EDUCATION_TYPE').ngroup()\n"
   ]
  },
  {
   "cell_type": "code",
   "execution_count": 35,
   "id": "55f778f1",
   "metadata": {},
   "outputs": [
    {
     "data": {
      "application/vnd.jupyter.widget-view+json": {
       "model_id": "6ecf3a98b3b248d082f351d5bea5c873",
       "version_major": 2,
       "version_minor": 0
      },
      "text/plain": [
       "VBox()"
      ]
     },
     "metadata": {},
     "output_type": "display_data"
    },
    {
     "data": {
      "application/vnd.jupyter.widget-view+json": {
       "model_id": "",
       "version_major": 2,
       "version_minor": 0
      },
      "text/plain": [
       "FloatProgress(value=0.0, bar_style='info', description='Progress:', layout=Layout(height='25px', width='50%'),…"
      ]
     },
     "metadata": {},
     "output_type": "display_data"
    },
    {
     "name": "stdout",
     "output_type": "stream",
     "text": [
      "array([1, 4, 2, 3, 0])"
     ]
    }
   ],
   "source": [
    "credit_application_pd['NAME_EDUCATION_TYPE_cat'].unique()"
   ]
  },
  {
   "cell_type": "code",
   "execution_count": 36,
   "id": "5be693d4",
   "metadata": {},
   "outputs": [
    {
     "data": {
      "application/vnd.jupyter.widget-view+json": {
       "model_id": "1509fd8ace08459bb04b566548e57969",
       "version_major": 2,
       "version_minor": 0
      },
      "text/plain": [
       "VBox()"
      ]
     },
     "metadata": {},
     "output_type": "display_data"
    },
    {
     "data": {
      "application/vnd.jupyter.widget-view+json": {
       "model_id": "",
       "version_major": 2,
       "version_minor": 0
      },
      "text/plain": [
       "FloatProgress(value=0.0, bar_style='info', description='Progress:', layout=Layout(height='25px', width='50%'),…"
      ]
     },
     "metadata": {},
     "output_type": "display_data"
    },
    {
     "name": "stdout",
     "output_type": "stream",
     "text": [
      "array(['Higher education', 'Secondary / secondary special',\n",
      "       'Incomplete higher', 'Lower secondary', 'Academic degree'],\n",
      "      dtype=object)"
     ]
    }
   ],
   "source": [
    "credit_application_pd['NAME_EDUCATION_TYPE'].unique()"
   ]
  },
  {
   "cell_type": "code",
   "execution_count": 37,
   "id": "afc93a78",
   "metadata": {},
   "outputs": [
    {
     "data": {
      "application/vnd.jupyter.widget-view+json": {
       "model_id": "09f5a10cbd8a4c78a40914593ae8af86",
       "version_major": 2,
       "version_minor": 0
      },
      "text/plain": [
       "VBox()"
      ]
     },
     "metadata": {},
     "output_type": "display_data"
    },
    {
     "data": {
      "application/vnd.jupyter.widget-view+json": {
       "model_id": "",
       "version_major": 2,
       "version_minor": 0
      },
      "text/plain": [
       "FloatProgress(value=0.0, bar_style='info', description='Progress:', layout=Layout(height='25px', width='50%'),…"
      ]
     },
     "metadata": {},
     "output_type": "display_data"
    },
    {
     "name": "stdout",
     "output_type": "stream",
     "text": [
      "                         AMT_INCOME_TOTAL  NAME_EDUCATION_TYPE_cat\n",
      "AMT_INCOME_TOTAL                 1.000000                -0.218186\n",
      "NAME_EDUCATION_TYPE_cat         -0.218186                 1.000000"
     ]
    }
   ],
   "source": [
    "corr_df = credit_application_pd[['AMT_INCOME_TOTAL', 'NAME_EDUCATION_TYPE_cat']]\n",
    "corr_df.corr(method = 'pearson')"
   ]
  },
  {
   "cell_type": "markdown",
   "id": "3c05ffd9",
   "metadata": {},
   "source": [
    "### 4. What is average and median salary of the applicant base?"
   ]
  },
  {
   "cell_type": "code",
   "execution_count": 38,
   "id": "686deac7",
   "metadata": {},
   "outputs": [
    {
     "data": {
      "application/vnd.jupyter.widget-view+json": {
       "model_id": "efa7e9d8b3944e27b0db62ad4cac19e8",
       "version_major": 2,
       "version_minor": 0
      },
      "text/plain": [
       "VBox()"
      ]
     },
     "metadata": {},
     "output_type": "display_data"
    },
    {
     "data": {
      "application/vnd.jupyter.widget-view+json": {
       "model_id": "",
       "version_major": 2,
       "version_minor": 0
      },
      "text/plain": [
       "FloatProgress(value=0.0, bar_style='info', description='Progress:', layout=Layout(height='25px', width='50%'),…"
      ]
     },
     "metadata": {},
     "output_type": "display_data"
    },
    {
     "name": "stdout",
     "output_type": "stream",
     "text": [
      "187524.2860095039"
     ]
    }
   ],
   "source": [
    "credit_application_pd['AMT_INCOME_TOTAL'].mean()"
   ]
  },
  {
   "cell_type": "code",
   "execution_count": 39,
   "id": "157078d2",
   "metadata": {},
   "outputs": [
    {
     "data": {
      "application/vnd.jupyter.widget-view+json": {
       "model_id": "e17628e55d7b4de7a949981ce2840b55",
       "version_major": 2,
       "version_minor": 0
      },
      "text/plain": [
       "VBox()"
      ]
     },
     "metadata": {},
     "output_type": "display_data"
    },
    {
     "data": {
      "application/vnd.jupyter.widget-view+json": {
       "model_id": "",
       "version_major": 2,
       "version_minor": 0
      },
      "text/plain": [
       "FloatProgress(value=0.0, bar_style='info', description='Progress:', layout=Layout(height='25px', width='50%'),…"
      ]
     },
     "metadata": {},
     "output_type": "display_data"
    },
    {
     "name": "stdout",
     "output_type": "stream",
     "text": [
      "160780.5"
     ]
    }
   ],
   "source": [
    "credit_application_pd['AMT_INCOME_TOTAL'].median()"
   ]
  },
  {
   "cell_type": "markdown",
   "id": "5e28b029",
   "metadata": {},
   "source": [
    "### 5. Is the proportion of bad customers higher for people who own cars?"
   ]
  },
  {
   "cell_type": "code",
   "execution_count": 40,
   "id": "8ac9ac36",
   "metadata": {},
   "outputs": [
    {
     "data": {
      "application/vnd.jupyter.widget-view+json": {
       "model_id": "53293f96843f41aabf52bc8791920abf",
       "version_major": 2,
       "version_minor": 0
      },
      "text/plain": [
       "VBox()"
      ]
     },
     "metadata": {},
     "output_type": "display_data"
    },
    {
     "data": {
      "application/vnd.jupyter.widget-view+json": {
       "model_id": "",
       "version_major": 2,
       "version_minor": 0
      },
      "text/plain": [
       "FloatProgress(value=0.0, bar_style='info', description='Progress:', layout=Layout(height='25px', width='50%'),…"
      ]
     },
     "metadata": {},
     "output_type": "display_data"
    },
    {
     "name": "stdout",
     "output_type": "stream",
     "text": [
      "+------------+---+-----+\n",
      "|FLAG_OWN_CAR|  1|    0|\n",
      "+------------+---+-----+\n",
      "|           Y|177|10339|\n",
      "|           N|245|14373|\n",
      "+------------+---+-----+"
     ]
    }
   ],
   "source": [
    "car_customers = merge_credit_card_record.groupby('FLAG_OWN_CAR', 'target').count().orderBy('FLAG_OWN_CAR')\n",
    "car_customers_pivot = merge_credit_card_record.groupby('FLAG_OWN_CAR').pivot('target', ['1', '0']).count()\n",
    "car_customers_pivot.show()"
   ]
  },
  {
   "cell_type": "markdown",
   "id": "7d4f9034",
   "metadata": {},
   "source": [
    "### 6. Do people living on rent have a higher proportion of bad customers compared to the rest of the population?"
   ]
  },
  {
   "cell_type": "code",
   "execution_count": 41,
   "id": "2f4d1314",
   "metadata": {},
   "outputs": [
    {
     "data": {
      "application/vnd.jupyter.widget-view+json": {
       "model_id": "9b64447f67db45929a27508e3d205592",
       "version_major": 2,
       "version_minor": 0
      },
      "text/plain": [
       "VBox()"
      ]
     },
     "metadata": {},
     "output_type": "display_data"
    },
    {
     "data": {
      "application/vnd.jupyter.widget-view+json": {
       "model_id": "",
       "version_major": 2,
       "version_minor": 0
      },
      "text/plain": [
       "FloatProgress(value=0.0, bar_style='info', description='Progress:', layout=Layout(height='25px', width='50%'),…"
      ]
     },
     "metadata": {},
     "output_type": "display_data"
    }
   ],
   "source": [
    "merge_credit_card_record = merge_credit_card_record.withColumn('RENT_HOUSING_TYPE', fun.when(fun.col('NAME_HOUSING_TYPE') == 'Rented apartment', 'Rent').otherwise('Not Rent'))\n",
    "#merge_credit_card_record.show()"
   ]
  },
  {
   "cell_type": "code",
   "execution_count": 42,
   "id": "ba960e0b",
   "metadata": {},
   "outputs": [
    {
     "data": {
      "application/vnd.jupyter.widget-view+json": {
       "model_id": "b9a21064e1b246bbae787d448a3ae232",
       "version_major": 2,
       "version_minor": 0
      },
      "text/plain": [
       "VBox()"
      ]
     },
     "metadata": {},
     "output_type": "display_data"
    },
    {
     "data": {
      "application/vnd.jupyter.widget-view+json": {
       "model_id": "",
       "version_major": 2,
       "version_minor": 0
      },
      "text/plain": [
       "FloatProgress(value=0.0, bar_style='info', description='Progress:', layout=Layout(height='25px', width='50%'),…"
      ]
     },
     "metadata": {},
     "output_type": "display_data"
    },
    {
     "name": "stdout",
     "output_type": "stream",
     "text": [
      "+-----------------+---+-----+\n",
      "|RENT_HOUSING_TYPE|  1|    0|\n",
      "+-----------------+---+-----+\n",
      "|             Rent|  6|  433|\n",
      "|         Not Rent|416|24279|\n",
      "+-----------------+---+-----+"
     ]
    }
   ],
   "source": [
    "target_cars_customers = merge_credit_card_record.groupby('RENT_HOUSING_TYPE', 'target').count().orderBy('RENT_HOUSING_TYPE')\n",
    "rented_pivot = merge_credit_card_record.groupby('RENT_HOUSING_TYPE').pivot('target', ['1', '0']).count()\n",
    "rented_pivot.show()"
   ]
  },
  {
   "cell_type": "markdown",
   "id": "9123ca21",
   "metadata": {},
   "source": [
    "### 7. Do single customers have a high proportion of bad customers compared to married customers?"
   ]
  },
  {
   "cell_type": "code",
   "execution_count": 43,
   "id": "7e6ce7a4",
   "metadata": {},
   "outputs": [
    {
     "data": {
      "application/vnd.jupyter.widget-view+json": {
       "model_id": "eab51059d7bf4dc9b0ffefe8be0ec9fc",
       "version_major": 2,
       "version_minor": 0
      },
      "text/plain": [
       "VBox()"
      ]
     },
     "metadata": {},
     "output_type": "display_data"
    },
    {
     "data": {
      "application/vnd.jupyter.widget-view+json": {
       "model_id": "",
       "version_major": 2,
       "version_minor": 0
      },
      "text/plain": [
       "FloatProgress(value=0.0, bar_style='info', description='Progress:', layout=Layout(height='25px', width='50%'),…"
      ]
     },
     "metadata": {},
     "output_type": "display_data"
    },
    {
     "name": "stdout",
     "output_type": "stream",
     "text": [
      "+--------------------+\n",
      "|  NAME_FAMILY_STATUS|\n",
      "+--------------------+\n",
      "|           Separated|\n",
      "|             Married|\n",
      "|Single / not married|\n",
      "|               Widow|\n",
      "|      Civil marriage|\n",
      "+--------------------+"
     ]
    }
   ],
   "source": [
    "merge_credit_card_record.select(\"NAME_FAMILY_STATUS\").distinct().show()"
   ]
  },
  {
   "cell_type": "code",
   "execution_count": 44,
   "id": "2463d23a",
   "metadata": {},
   "outputs": [
    {
     "data": {
      "application/vnd.jupyter.widget-view+json": {
       "model_id": "2515cbd9ba9d405cad63911ca07803fe",
       "version_major": 2,
       "version_minor": 0
      },
      "text/plain": [
       "VBox()"
      ]
     },
     "metadata": {},
     "output_type": "display_data"
    },
    {
     "data": {
      "application/vnd.jupyter.widget-view+json": {
       "model_id": "",
       "version_major": 2,
       "version_minor": 0
      },
      "text/plain": [
       "FloatProgress(value=0.0, bar_style='info', description='Progress:', layout=Layout(height='25px', width='50%'),…"
      ]
     },
     "metadata": {},
     "output_type": "display_data"
    },
    {
     "name": "stdout",
     "output_type": "stream",
     "text": [
      "+--------------+---+-----+\n",
      "|MARRIED_STATUS|  1|    0|\n",
      "+--------------+---+-----+\n",
      "|       Married|277|17232|\n",
      "|     Unmarried|145| 7480|\n",
      "+--------------+---+-----+"
     ]
    }
   ],
   "source": [
    "merge_credit_card_record = merge_credit_card_record.withColumn('MARRIED_STATUS', fun.when(fun.col('NAME_FAMILY_STATUS') == 'Married', 'Married').otherwise('Unmarried'))\n",
    "\n",
    "#target_cars_customers = merge_credit_card_record.groupby('MARRIED_STATUS', 'target').count().orderBy('MARRIED_STATUS')\n",
    "\n",
    "pivoted = merge_credit_card_record.groupby('MARRIED_STATUS').pivot(\"target\", ['1', '0']).count()\n",
    "\n",
    "pivoted.show()"
   ]
  },
  {
   "cell_type": "code",
   "execution_count": 45,
   "id": "fafb3c40",
   "metadata": {},
   "outputs": [
    {
     "data": {
      "application/vnd.jupyter.widget-view+json": {
       "model_id": "35d54b655c94447d89bb70c719082615",
       "version_major": 2,
       "version_minor": 0
      },
      "text/plain": [
       "VBox()"
      ]
     },
     "metadata": {},
     "output_type": "display_data"
    },
    {
     "data": {
      "application/vnd.jupyter.widget-view+json": {
       "model_id": "",
       "version_major": 2,
       "version_minor": 0
      },
      "text/plain": [
       "FloatProgress(value=0.0, bar_style='info', description='Progress:', layout=Layout(height='25px', width='50%'),…"
      ]
     },
     "metadata": {},
     "output_type": "display_data"
    }
   ],
   "source": [
    "from pyspark.sql import DataFrame\n",
    "import math\n",
    "# WOE & IV calculation by creating a class\n",
    "\n",
    "class WOE_IV(object):\n",
    "    def __init__(self, df: DataFrame, cols_to_woe: [str], label_column: str, good_label: str):\n",
    "        self.df = df\n",
    "        self.cols_to_woe = cols_to_woe\n",
    "        self.label_column = label_column\n",
    "        self.good_label = good_label\n",
    "        self.fit_data = {}\n",
    "\n",
    "    def fit(self):\n",
    "        for col_to_woe in self.cols_to_woe:\n",
    "            total_good = self.compute_total_amount_of_good()\n",
    "            total_bad = self.compute_total_amount_of_bad()\n",
    "            \n",
    "            woe_df = self.df.select(col_to_woe)\n",
    "            categories = woe_df.distinct().collect()\n",
    "            for category_row in categories:\n",
    "                category = category_row[col_to_woe]\n",
    "                good_amount = self.compute_good_amount(col_to_woe, category)\n",
    "                bad_amount = self.compute_bad_amount(col_to_woe, category)\n",
    "\n",
    "                good_amount = good_amount if good_amount != 0 else 0.5\n",
    "                bad_amount = bad_amount if bad_amount != 0 else 0.5\n",
    "\n",
    "                good_dist = good_amount / total_good\n",
    "                bad_dist = bad_amount / total_bad\n",
    "\n",
    "                self.build_fit_data(col_to_woe, category, good_dist, bad_dist)\n",
    "\n",
    "    def transform(self, df: DataFrame):\n",
    "        def _encode_woe(col_to_woe_):\n",
    "            return F.coalesce(\n",
    "                *[F.when(F.col(col_to_woe_) == category, F.lit(woe_iv['woe']))\n",
    "                  for category, woe_iv in self.fit_data[col_to_woe_].items()]\n",
    "            )\n",
    "\n",
    "        for col_to_woe, woe_info in self.fit_data.items():\n",
    "            df = df.withColumn(col_to_woe + '_woe', _encode_woe(col_to_woe))\n",
    "        return df\n",
    "\n",
    "    def compute_total_amount_of_good(self):\n",
    "        return self.df.select(self.label_column).filter(F.col(self.label_column) == self.good_label).count()\n",
    "\n",
    "    def compute_total_amount_of_bad(self):\n",
    "        return self.df.select(self.label_column).filter(F.col(self.label_column) != self.good_label).count()\n",
    "\n",
    "    def compute_good_amount(self, col_to_woe: str, category: str):\n",
    "        return self.df.select(col_to_woe, self.label_column)\\\n",
    "                      .filter(\n",
    "                            (F.col(col_to_woe) == category) & (F.col(self.label_column) == self.good_label)\n",
    "                      ).count()\n",
    "\n",
    "    def compute_bad_amount(self, col_to_woe: str, category: str):\n",
    "        return self.df.select(col_to_woe, self.label_column)\\\n",
    "                      .filter(\n",
    "                            (F.col(col_to_woe) == category) & (F.col(self.label_column) != self.good_label)\n",
    "                      ).count()\n",
    "\n",
    "    def build_fit_data(self, col_to_woe, category, good_dist, bad_dist):\n",
    "        woe_info = {\n",
    "            category: {\n",
    "                'woe': math.log(good_dist / bad_dist),\n",
    "                'iv': (good_dist - bad_dist) * math.log(good_dist / bad_dist)\n",
    "            }\n",
    "        }\n",
    "\n",
    "        if col_to_woe not in self.fit_data:\n",
    "            self.fit_data[col_to_woe] = woe_info\n",
    "        else:\n",
    "            self.fit_data[col_to_woe].update(woe_info)\n",
    "\n",
    "    def compute_iv(self):\n",
    "        iv_dict = {}\n",
    "\n",
    "        for woe_col, categories in self.fit_data.items():\n",
    "            iv_dict[woe_col] = 0\n",
    "            for category, woe_iv in categories.items():\n",
    "                iv_dict[woe_col] += woe_iv['iv']\n",
    "        return iv_dict"
   ]
  },
  {
   "cell_type": "code",
   "execution_count": 46,
   "id": "158ac750",
   "metadata": {},
   "outputs": [
    {
     "data": {
      "application/vnd.jupyter.widget-view+json": {
       "model_id": "9b159850327749e79281cde29da14426",
       "version_major": 2,
       "version_minor": 0
      },
      "text/plain": [
       "VBox()"
      ]
     },
     "metadata": {},
     "output_type": "display_data"
    },
    {
     "data": {
      "application/vnd.jupyter.widget-view+json": {
       "model_id": "",
       "version_major": 2,
       "version_minor": 0
      },
      "text/plain": [
       "FloatProgress(value=0.0, bar_style='info', description='Progress:', layout=Layout(height='25px', width='50%'),…"
      ]
     },
     "metadata": {},
     "output_type": "display_data"
    },
    {
     "name": "stdout",
     "output_type": "stream",
     "text": [
      "Collecting scipy\n",
      "  Using cached scipy-1.5.4-cp36-cp36m-manylinux1_x86_64.whl (25.9 MB)\n",
      "Requirement already satisfied: numpy>=1.14.5 in /usr/local/lib64/python3.6/site-packages (from scipy) (1.14.5)\n",
      "Installing collected packages: scipy\n",
      "Successfully installed scipy-1.5.4"
     ]
    }
   ],
   "source": [
    "sc.install_pypi_package(\"scipy\")"
   ]
  },
  {
   "cell_type": "code",
   "execution_count": 47,
   "id": "fa56c9d5",
   "metadata": {},
   "outputs": [
    {
     "data": {
      "application/vnd.jupyter.widget-view+json": {
       "model_id": "01fdbc3a03a54957a5bd5cd1b5f17af6",
       "version_major": 2,
       "version_minor": 0
      },
      "text/plain": [
       "VBox()"
      ]
     },
     "metadata": {},
     "output_type": "display_data"
    },
    {
     "data": {
      "application/vnd.jupyter.widget-view+json": {
       "model_id": "",
       "version_major": 2,
       "version_minor": 0
      },
      "text/plain": [
       "FloatProgress(value=0.0, bar_style='info', description='Progress:', layout=Layout(height='25px', width='50%'),…"
      ]
     },
     "metadata": {},
     "output_type": "display_data"
    },
    {
     "name": "stdout",
     "output_type": "stream",
     "text": [
      "-0.9999999999999999\n",
      "-0.9999999999999999\n",
      "-0.9999999999999999\n",
      "nan\n",
      "0.7\n",
      "0.6000000000000001\n",
      "1.0\n",
      "AMT_INCOME_TOTALbucket\n",
      "0.0\n",
      "0.39999999999999997\n",
      "0.5\n",
      "-0.9999999999999999\n",
      "0.8999999999999998\n",
      "0.7999999999999999\n",
      "1.0\n",
      "DAYS_EMPLOYEDbucket\n",
      "-1.0\n",
      "['ID', 'target', 'CODE_GENDER', 'FLAG_OWN_CAR', 'FLAG_OWN_REALTY', 'CNT_CHILDREN', 'AMT_INCOME_TOTAL', 'NAME_INCOME_TYPE', 'NAME_EDUCATION_TYPE', 'NAME_FAMILY_STATUS', 'NAME_HOUSING_TYPE', 'DAYS_BIRTH', 'DAYS_EMPLOYED', 'FLAG_MOBIL', 'FLAG_WORK_PHONE', 'FLAG_PHONE', 'FLAG_EMAIL', 'OCCUPATION_TYPE', 'CNT_FAM_MEMBERS', 'RENT_HOUSING_TYPE', 'MARRIED_STATUS', 'AMT_INCOME_TOTALbucket', 'DAYS_EMPLOYEDbucket']"
     ]
    }
   ],
   "source": [
    "#Creating monotonous bins for continous variables\n",
    "import numpy as np\n",
    "from pyspark.ml.feature import QuantileDiscretizer\n",
    "from pyspark.sql import functions as F\n",
    "import scipy.stats.stats as stats\n",
    "spike_cols = ['CNT_CHILDREN','AMT_INCOME_TOTAL','DAYS_BIRTH','DAYS_EMPLOYED','CNT_FAM_MEMBERS']\n",
    "\n",
    "max_bucket = 5\n",
    "\n",
    "for x in spike_cols:\n",
    "    r = 0\n",
    "    n = max_bucket\n",
    "    while ((np.abs(r) < 1) & (n>1)):\n",
    "        discretizer = QuantileDiscretizer(numBuckets=n, inputCol=x, outputCol=x + \"bucket\")\n",
    "        d1 = discretizer.fit(merge_credit_card_record).transform(merge_credit_card_record)\n",
    "        d2 = d1.groupby(x+ \"bucket\").agg(F.mean(x).alias(\"X1\"),F.mean(\"target\").alias(\"Y1\")).orderBy(\"X1\")\n",
    "        a1 = d2.select(\"X1\").rdd.flatMap(lambda x: x).collect()\n",
    "        b1 = d2.select(\"Y1\").rdd.flatMap(lambda x: x).collect()\n",
    "        r, p = stats.spearmanr(a1, b1)\n",
    "        print(r)\n",
    "        if(r == 1):\n",
    "            print(x+\"bucket\")\n",
    "            merge_credit_card_record = discretizer.fit(merge_credit_card_record).transform(merge_credit_card_record)\n",
    "        n = n-1\n",
    "        \n",
    "print(merge_credit_card_record.columns)"
   ]
  },
  {
   "cell_type": "code",
   "execution_count": 48,
   "id": "e955e199",
   "metadata": {},
   "outputs": [
    {
     "data": {
      "application/vnd.jupyter.widget-view+json": {
       "model_id": "695ae703efa74fae911319c51c0ffc42",
       "version_major": 2,
       "version_minor": 0
      },
      "text/plain": [
       "VBox()"
      ]
     },
     "metadata": {},
     "output_type": "display_data"
    },
    {
     "data": {
      "application/vnd.jupyter.widget-view+json": {
       "model_id": "",
       "version_major": 2,
       "version_minor": 0
      },
      "text/plain": [
       "FloatProgress(value=0.0, bar_style='info', description='Progress:', layout=Layout(height='25px', width='50%'),…"
      ]
     },
     "metadata": {},
     "output_type": "display_data"
    },
    {
     "name": "stdout",
     "output_type": "stream",
     "text": [
      "23"
     ]
    }
   ],
   "source": [
    "len(merge_credit_card_record.columns)"
   ]
  },
  {
   "cell_type": "code",
   "execution_count": 49,
   "id": "9989569b",
   "metadata": {},
   "outputs": [
    {
     "data": {
      "application/vnd.jupyter.widget-view+json": {
       "model_id": "2a02b36db35d46ec9f3716c707d73985",
       "version_major": 2,
       "version_minor": 0
      },
      "text/plain": [
       "VBox()"
      ]
     },
     "metadata": {},
     "output_type": "display_data"
    },
    {
     "data": {
      "application/vnd.jupyter.widget-view+json": {
       "model_id": "",
       "version_major": 2,
       "version_minor": 0
      },
      "text/plain": [
       "FloatProgress(value=0.0, bar_style='info', description='Progress:', layout=Layout(height='25px', width='50%'),…"
      ]
     },
     "metadata": {},
     "output_type": "display_data"
    }
   ],
   "source": [
    "# Calculating WOE and IV for all the categorical variables (including bin variables from continous variables)\n",
    "\n",
    "\n",
    "cols_to_woe = ['CODE_GENDER', 'FLAG_OWN_CAR','FLAG_OWN_REALTY','FLAG_OWN_REALTY','NAME_INCOME_TYPE','NAME_EDUCATION_TYPE',\n",
    "               'NAME_FAMILY_STATUS','NAME_HOUSING_TYPE','FLAG_MOBIL','FLAG_WORK_PHONE','FLAG_PHONE','FLAG_EMAIL','OCCUPATION_TYPE',\n",
    "               'AMT_INCOME_TOTALbucket','DAYS_EMPLOYEDbucket']\n",
    "\n",
    "woe = WOE_IV(merge_credit_card_record, cols_to_woe, 'target', 1)\n",
    "\n",
    "# woe encoding\n",
    "woe.fit()\n",
    "encoded_df = woe.transform(merge_credit_card_record)\n",
    "\n",
    "# information value\n",
    "ivs = woe.compute_iv()"
   ]
  },
  {
   "cell_type": "code",
   "execution_count": 50,
   "id": "5c8bd711",
   "metadata": {},
   "outputs": [
    {
     "data": {
      "application/vnd.jupyter.widget-view+json": {
       "model_id": "21a2da6a2d434efabcc4dbe090286b28",
       "version_major": 2,
       "version_minor": 0
      },
      "text/plain": [
       "VBox()"
      ]
     },
     "metadata": {},
     "output_type": "display_data"
    },
    {
     "data": {
      "application/vnd.jupyter.widget-view+json": {
       "model_id": "",
       "version_major": 2,
       "version_minor": 0
      },
      "text/plain": [
       "FloatProgress(value=0.0, bar_style='info', description='Progress:', layout=Layout(height='25px', width='50%'),…"
      ]
     },
     "metadata": {},
     "output_type": "display_data"
    },
    {
     "name": "stdout",
     "output_type": "stream",
     "text": [
      "{'CODE_GENDER': {'F': {'woe': -0.13400455891611948, 'iv': 0.010473169941325407}, 'M': {'woe': 0.18847512261896812, 'iv': 0.014730334586125406}}, 'FLAG_OWN_CAR': {'Y': {'woe': 0.002510221549541952, 'iv': 2.639611117445198e-06}, 'N': {'woe': -0.0018095944440989517, 'iv': 1.902870132551552e-06}}, 'FLAG_OWN_REALTY': {'Y': {'woe': -0.13077665160154833, 'iv': 0.010521107917778397}, 'N': {'woe': 0.21030941552994442, 'iv': 0.016919595583905052}}, 'NAME_INCOME_TYPE': {'Student': {'woe': 1.0743066470084148, 'iv': 0.0008381444170551353}, 'Commercial associate': {'woe': 0.005114514731444934, 'iv': 7.357550450491796e-06}, 'State servant': {'woe': -0.34921705587983176, 'iv': 0.010030267766525755}, 'Working': {'woe': -0.005027780864046354, 'iv': 1.567375175195009e-05}, 'Pensioner': {'woe': 7.328135458583888, 'iv': 0.2255999779354912}}, 'NAME_EDUCATION_TYPE': {'Academic degree': {'woe': 0.7378344103872019, 'iv': 0.0004562087262492998}, 'Incomplete higher': {'woe': 0.23520555382538985, 'iv': 0.002453174089538019}, 'Secondary / secondary special': {'woe': -0.05630984727956575, 'iv': 0.002063727794482051}, 'Lower secondary': {'woe': 0.663301358524635, 'iv': 0.004572555907019098}, 'Higher education': {'woe': 0.0678324910762806, 'iv': 0.0013493563969528277}}, 'NAME_FAMILY_STATUS': {'Separated': {'woe': -0.5026080737201255, 'iv': 0.011666466006593922}, 'Married': {'woe': -0.060466972646425615, 'iv': 0.002474002680430879}, 'Single / not married': {'woe': 0.36858821439044276, 'iv': 0.022349420085444743}, 'Widow': {'woe': 0.44126339051817487, 'iv': 0.005595942355080156}, 'Civil marriage': {'woe': -0.11439387748286797, 'iv': 0.0010512842955782452}}, 'NAME_HOUSING_TYPE': {'House / apartment': {'woe': -0.019624371923985737, 'iv': 0.00033546623300853204}, 'Municipal apartment': {'woe': 0.3386546780939982, 'iv': 0.004380167615353005}, 'Co-op apartment': {'woe': 0.16470490328505638, 'iv': 0.00017780641532474627}, 'Rented apartment': {'woe': -0.208939338212029, 'iv': 0.0006903026139570744}, 'Office apartment': {'woe': 0.41161867393317797, 'iv': 0.0016456120243232418}, 'With parents': {'woe': 0.041122163662760475, 'iv': 9.814778605613515e-05}}, 'FLAG_MOBIL': {1: {'woe': 0.0, 'iv': 0.0}}, 'FLAG_WORK_PHONE': {1: {'woe': 0.07183821889320734, 'iv': 0.0014632355974517378}, 0: {'woe': -0.028435803248823638, 'iv': 0.0005791941976967225}}, 'FLAG_PHONE': {1: {'woe': 0.035936566307071184, 'iv': 0.0003847605337132808}, 0: {'woe': -0.015251167910096394, 'iv': 0.0001632890425506477}}, 'FLAG_EMAIL': {1: {'woe': 0.012406592452563496, 'iv': 1.5587259476897747e-05}, 0: {'woe': -0.0013979347372731828, 'iv': 1.7563220171018334e-06}}, 'OCCUPATION_TYPE': {'Managers': {'woe': -0.07444578915936152, 'iv': 0.0006408135186235722}, 'HR staff': {'woe': -0.3607778782809076, 'iv': 0.0003714172385524679}, 'Medicine staff': {'woe': -0.7149496920015217, 'iv': 0.017688801517853504}, 'Accountants': {'woe': 0.10056768822171322, 'iv': 0.0005244176789119441}, 'Laborers': {'woe': -0.052850560149360626, 'iv': 0.0006728973676652198}, 'Cleaning staff': {'woe': -0.6231421427483989, 'iv': 0.0063848313842721155}, 'Private service staff': {'woe': -1.071624635940254, 'iv': 0.009751884644826897}, 'Drivers': {'woe': 0.3174184571164668, 'iv': 0.010024047691219536}, 'Sales staff': {'woe': -0.2665253400347184, 'iv': 0.008680345110209108}, 'Realty agents': {'woe': -0.992556112464561, 'iv': 0.0019970162769638385}, 'IT staff': {'woe': 1.1255999413959652, 'iv': 0.0054056183408211144}, 'Security staff': {'woe': 0.2736858004509473, 'iv': 0.002018644778280479}, 'Secretaries': {'woe': -0.2407602048231078, 'iv': 0.00031061024861284375}, 'Low-skill Laborers': {'woe': 1.0314866498254869, 'iv': 0.01258361677847266}, 'Core staff': {'woe': 0.20874038129259317, 'iv': 0.006895932490214902}, 'Cooking staff': {'woe': -0.20353600588397663, 'iv': 0.0009798491551008051}, 'High skill tech staff': {'woe': 0.2611566740537731, 'iv': 0.0042671222069442455}, 'Waiters/barmen staff': {'woe': -0.3843083756911018, 'iv': 0.0008534892560405748}}, 'AMT_INCOME_TOTALbucket': {0.0: {'woe': -0.06767757381322263, 'iv': 0.0010555622319709098}, 1.0: {'woe': -0.009591171305692302, 'iv': 3.898838160547007e-05}, 2.0: {'woe': 0.056904413765848254, 'iv': 0.001118852077947872}}, 'DAYS_EMPLOYEDbucket': {0.0: {'woe': -0.25972823607388407, 'iv': 0.01989627020651625}, 1.0: {'woe': -0.15685514743237924, 'iv': 0.007637940256306853}, 2.0: {'woe': 0.32212925227954553, 'iv': 0.040362284424255934}}}"
     ]
    }
   ],
   "source": [
    "# print WOE for each variable & category\n",
    "print(woe.fit_data)"
   ]
  },
  {
   "cell_type": "code",
   "execution_count": 51,
   "id": "1077aa4d",
   "metadata": {},
   "outputs": [
    {
     "data": {
      "application/vnd.jupyter.widget-view+json": {
       "model_id": "5a232fd6317d4ca4b06891c959777c03",
       "version_major": 2,
       "version_minor": 0
      },
      "text/plain": [
       "VBox()"
      ]
     },
     "metadata": {},
     "output_type": "display_data"
    },
    {
     "data": {
      "application/vnd.jupyter.widget-view+json": {
       "model_id": "",
       "version_major": 2,
       "version_minor": 0
      },
      "text/plain": [
       "FloatProgress(value=0.0, bar_style='info', description='Progress:', layout=Layout(height='25px', width='50%'),…"
      ]
     },
     "metadata": {},
     "output_type": "display_data"
    },
    {
     "name": "stdout",
     "output_type": "stream",
     "text": [
      "{'CODE_GENDER': 0.025203504527450814, 'FLAG_OWN_CAR': 4.5424812499967504e-06, 'FLAG_OWN_REALTY': 0.02744070350168345, 'NAME_INCOME_TYPE': 0.23649142142127452, 'NAME_EDUCATION_TYPE': 0.010895022914241295, 'NAME_FAMILY_STATUS': 0.04313711542312794, 'NAME_HOUSING_TYPE': 0.007327502688022734, 'FLAG_MOBIL': 0.0, 'FLAG_WORK_PHONE': 0.00204242979514846, 'FLAG_PHONE': 0.0005480495762639285, 'FLAG_EMAIL': 1.7343581493999582e-05, 'OCCUPATION_TYPE': 0.09005135568358584, 'AMT_INCOME_TOTALbucket': 0.0022134026915242517, 'DAYS_EMPLOYEDbucket': 0.06789649488707904}"
     ]
    }
   ],
   "source": [
    "print(ivs)"
   ]
  },
  {
   "cell_type": "code",
   "execution_count": 52,
   "id": "a8f0a06e",
   "metadata": {},
   "outputs": [
    {
     "data": {
      "application/vnd.jupyter.widget-view+json": {
       "model_id": "4589a38d6a064c51bc898d4504cf67e9",
       "version_major": 2,
       "version_minor": 0
      },
      "text/plain": [
       "VBox()"
      ]
     },
     "metadata": {},
     "output_type": "display_data"
    },
    {
     "data": {
      "application/vnd.jupyter.widget-view+json": {
       "model_id": "",
       "version_major": 2,
       "version_minor": 0
      },
      "text/plain": [
       "FloatProgress(value=0.0, bar_style='info', description='Progress:', layout=Layout(height='25px', width='50%'),…"
      ]
     },
     "metadata": {},
     "output_type": "display_data"
    }
   ],
   "source": [
    "#writing the contents to a file for check point\n",
    "\n",
    "encoded_df.write.format(\"com.databricks.spark.csv\").mode('overwrite').save('savepoint_raghul.csv',header = 'true')\n",
    "encoded_df_saved = spark.read.csv(\"savepoint_raghul.csv\", header=True, inferSchema=True)"
   ]
  },
  {
   "cell_type": "code",
   "execution_count": 53,
   "id": "67ca2d0d",
   "metadata": {},
   "outputs": [
    {
     "data": {
      "application/vnd.jupyter.widget-view+json": {
       "model_id": "60fc2d70e417493887103668aba7aecf",
       "version_major": 2,
       "version_minor": 0
      },
      "text/plain": [
       "VBox()"
      ]
     },
     "metadata": {},
     "output_type": "display_data"
    },
    {
     "data": {
      "application/vnd.jupyter.widget-view+json": {
       "model_id": "",
       "version_major": 2,
       "version_minor": 0
      },
      "text/plain": [
       "FloatProgress(value=0.0, bar_style='info', description='Progress:', layout=Layout(height='25px', width='50%'),…"
      ]
     },
     "metadata": {},
     "output_type": "display_data"
    },
    {
     "name": "stdout",
     "output_type": "stream",
     "text": [
      "(25134, 37)\n",
      "(25134, 37)"
     ]
    }
   ],
   "source": [
    "print(sparkShape(encoded_df))\n",
    "print(sparkShape(encoded_df_saved))"
   ]
  },
  {
   "cell_type": "code",
   "execution_count": 54,
   "id": "92373e3c",
   "metadata": {},
   "outputs": [
    {
     "data": {
      "application/vnd.jupyter.widget-view+json": {
       "model_id": "4a85752869e7428d9a9ca7903992d972",
       "version_major": 2,
       "version_minor": 0
      },
      "text/plain": [
       "VBox()"
      ]
     },
     "metadata": {},
     "output_type": "display_data"
    },
    {
     "data": {
      "application/vnd.jupyter.widget-view+json": {
       "model_id": "",
       "version_major": 2,
       "version_minor": 0
      },
      "text/plain": [
       "FloatProgress(value=0.0, bar_style='info', description='Progress:', layout=Layout(height='25px', width='50%'),…"
      ]
     },
     "metadata": {},
     "output_type": "display_data"
    },
    {
     "name": "stdout",
     "output_type": "stream",
     "text": [
      "(25134, 37)\n",
      "['ID', 'target', 'CODE_GENDER', 'FLAG_OWN_CAR', 'FLAG_OWN_REALTY', 'CNT_CHILDREN', 'AMT_INCOME_TOTAL', 'NAME_INCOME_TYPE', 'NAME_EDUCATION_TYPE', 'NAME_FAMILY_STATUS', 'NAME_HOUSING_TYPE', 'DAYS_BIRTH', 'DAYS_EMPLOYED', 'FLAG_MOBIL', 'FLAG_WORK_PHONE', 'FLAG_PHONE', 'FLAG_EMAIL', 'OCCUPATION_TYPE', 'CNT_FAM_MEMBERS', 'RENT_HOUSING_TYPE', 'MARRIED_STATUS', 'AMT_INCOME_TOTALbucket', 'DAYS_EMPLOYEDbucket', 'CODE_GENDER_woe', 'FLAG_OWN_CAR_woe', 'FLAG_OWN_REALTY_woe', 'NAME_INCOME_TYPE_woe', 'NAME_EDUCATION_TYPE_woe', 'NAME_FAMILY_STATUS_woe', 'NAME_HOUSING_TYPE_woe', 'FLAG_MOBIL_woe', 'FLAG_WORK_PHONE_woe', 'FLAG_PHONE_woe', 'FLAG_EMAIL_woe', 'OCCUPATION_TYPE_woe', 'AMT_INCOME_TOTALbucket_woe', 'DAYS_EMPLOYEDbucket_woe']"
     ]
    }
   ],
   "source": [
    "encoded_df_saved = spark.read.csv(\"savepoint_raghul.csv\", header=True, inferSchema=True)\n",
    "print(sparkShape(encoded_df_saved))\n",
    "encoded_df_saved.columns"
   ]
  },
  {
   "cell_type": "code",
   "execution_count": 55,
   "id": "29145bd7",
   "metadata": {},
   "outputs": [
    {
     "data": {
      "application/vnd.jupyter.widget-view+json": {
       "model_id": "70683798f3bc44c5bd024f3fd9d1d969",
       "version_major": 2,
       "version_minor": 0
      },
      "text/plain": [
       "VBox()"
      ]
     },
     "metadata": {},
     "output_type": "display_data"
    },
    {
     "data": {
      "application/vnd.jupyter.widget-view+json": {
       "model_id": "",
       "version_major": 2,
       "version_minor": 0
      },
      "text/plain": [
       "FloatProgress(value=0.0, bar_style='info', description='Progress:', layout=Layout(height='25px', width='50%'),…"
      ]
     },
     "metadata": {},
     "output_type": "display_data"
    },
    {
     "name": "stdout",
     "output_type": "stream",
     "text": [
      "Training Dataset Count: 17627\n",
      "Test Dataset Count: 7507"
     ]
    }
   ],
   "source": [
    "#splitting in test and train data\n",
    "train, test = encoded_df_saved.randomSplit([0.7, 0.3], seed = 2018)\n",
    "print(\"Training Dataset Count: \" + str(train.count()))\n",
    "print(\"Test Dataset Count: \" + str(test.count()))\n",
    "\n"
   ]
  },
  {
   "cell_type": "code",
   "execution_count": 56,
   "id": "794263d8",
   "metadata": {},
   "outputs": [
    {
     "data": {
      "application/vnd.jupyter.widget-view+json": {
       "model_id": "ca8997a706f34de38253a581c172d877",
       "version_major": 2,
       "version_minor": 0
      },
      "text/plain": [
       "VBox()"
      ]
     },
     "metadata": {},
     "output_type": "display_data"
    },
    {
     "data": {
      "application/vnd.jupyter.widget-view+json": {
       "model_id": "",
       "version_major": 2,
       "version_minor": 0
      },
      "text/plain": [
       "FloatProgress(value=0.0, bar_style='info', description='Progress:', layout=Layout(height='25px', width='50%'),…"
      ]
     },
     "metadata": {},
     "output_type": "display_data"
    }
   ],
   "source": [
    "#Specifying feature list to be used for logistic regression\n",
    "features_list = [ 'CODE_GENDER_woe','FLAG_OWN_CAR_woe','FLAG_OWN_REALTY_woe','NAME_EDUCATION_TYPE_woe','NAME_FAMILY_STATUS_woe',\n",
    "'NAME_HOUSING_TYPE_woe','FLAG_MOBIL_woe','FLAG_WORK_PHONE_woe','FLAG_PHONE_woe','FLAG_EMAIL_woe','OCCUPATION_TYPE_woe',\n",
    "'AMT_INCOME_TOTALbucket_woe','DAYS_EMPLOYEDbucket_woe']\n",
    "\n"
   ]
  },
  {
   "cell_type": "code",
   "execution_count": 57,
   "id": "36940d47",
   "metadata": {},
   "outputs": [
    {
     "data": {
      "application/vnd.jupyter.widget-view+json": {
       "model_id": "1fbad82479894d72aa70cff79eb2fd43",
       "version_major": 2,
       "version_minor": 0
      },
      "text/plain": [
       "VBox()"
      ]
     },
     "metadata": {},
     "output_type": "display_data"
    },
    {
     "data": {
      "application/vnd.jupyter.widget-view+json": {
       "model_id": "",
       "version_major": 2,
       "version_minor": 0
      },
      "text/plain": [
       "FloatProgress(value=0.0, bar_style='info', description='Progress:', layout=Layout(height='25px', width='50%'),…"
      ]
     },
     "metadata": {},
     "output_type": "display_data"
    }
   ],
   "source": [
    "#Creating feature vector column with all the input variables\n",
    "from pyspark.ml.feature import VectorAssembler\n",
    "assembler = VectorAssembler(inputCols=features_list, outputCol=\"features\")\n",
    "train = assembler.transform(train)\n",
    "test = assembler.transform(test)\n",
    "\n"
   ]
  },
  {
   "cell_type": "code",
   "execution_count": 58,
   "id": "f73fb0fc",
   "metadata": {},
   "outputs": [
    {
     "data": {
      "application/vnd.jupyter.widget-view+json": {
       "model_id": "67e1710009dc436cabf14321d00adcc8",
       "version_major": 2,
       "version_minor": 0
      },
      "text/plain": [
       "VBox()"
      ]
     },
     "metadata": {},
     "output_type": "display_data"
    },
    {
     "data": {
      "application/vnd.jupyter.widget-view+json": {
       "model_id": "",
       "version_major": 2,
       "version_minor": 0
      },
      "text/plain": [
       "FloatProgress(value=0.0, bar_style='info', description='Progress:', layout=Layout(height='25px', width='50%'),…"
      ]
     },
     "metadata": {},
     "output_type": "display_data"
    },
    {
     "name": "stdout",
     "output_type": "stream",
     "text": [
      "+------+----------+-----------------------------------------+\n",
      "|target|prediction|probability                              |\n",
      "+------+----------+-----------------------------------------+\n",
      "|0     |0.0       |[0.9918558040256819,0.008144195974318157]|\n",
      "|0     |0.0       |[0.9918558040256819,0.008144195974318157]|\n",
      "|0     |0.0       |[0.9869188727248748,0.013081127275125223]|\n",
      "|0     |0.0       |[0.9861995302848373,0.013800469715162694]|\n",
      "|0     |0.0       |[0.9852166905487777,0.014783309451222314]|\n",
      "|0     |0.0       |[0.9844021312837232,0.015597868716276758]|\n",
      "|0     |0.0       |[0.9822234296557868,0.01777657034421323] |\n",
      "|0     |0.0       |[0.9673875963542302,0.03261240364576966] |\n",
      "|0     |0.0       |[0.9865812786454919,0.013418721354508098]|\n",
      "|0     |0.0       |[0.9655817454981896,0.03441825450181031] |\n",
      "|0     |0.0       |[0.9805929368820517,0.01940706311794831] |\n",
      "|0     |0.0       |[0.9815796390488791,0.01842036095112093] |\n",
      "|0     |0.0       |[0.9936548151385339,0.006345184861466066]|\n",
      "|0     |0.0       |[0.9802598476592685,0.019740152340731447]|\n",
      "|0     |0.0       |[0.9667590600050397,0.033240939994960333]|\n",
      "|0     |0.0       |[0.9667590600050397,0.033240939994960333]|\n",
      "|0     |0.0       |[0.9800196465869164,0.01998035341308352] |\n",
      "|0     |0.0       |[0.9862294622864908,0.013770537713509145]|\n",
      "|0     |0.0       |[0.9523850495178504,0.0476149504821496]  |\n",
      "|0     |0.0       |[0.9858066889415239,0.014193311058476082]|\n",
      "+------+----------+-----------------------------------------+\n",
      "only showing top 20 rows"
     ]
    }
   ],
   "source": [
    "#Building logistic regression model and predict on test & train dataset using the same model \n",
    "from pyspark.ml.classification import LogisticRegression\n",
    "lr = LogisticRegression(labelCol=\"target\", featuresCol= \"features\",maxIter=10)\n",
    "model=lr.fit(train)\n",
    "predict_train=model.transform(train)\n",
    "predict_test=model.transform(test)\n",
    "predict_test.select(\"target\",\"prediction\",\"probability\").show(truncate=False)\n",
    "\n"
   ]
  },
  {
   "cell_type": "code",
   "execution_count": 59,
   "id": "9a3ab70f",
   "metadata": {},
   "outputs": [
    {
     "data": {
      "application/vnd.jupyter.widget-view+json": {
       "model_id": "f64f1fb579624f3f940097e08cf704df",
       "version_major": 2,
       "version_minor": 0
      },
      "text/plain": [
       "VBox()"
      ]
     },
     "metadata": {},
     "output_type": "display_data"
    },
    {
     "data": {
      "application/vnd.jupyter.widget-view+json": {
       "model_id": "",
       "version_major": 2,
       "version_minor": 0
      },
      "text/plain": [
       "FloatProgress(value=0.0, bar_style='info', description='Progress:', layout=Layout(height='25px', width='50%'),…"
      ]
     },
     "metadata": {},
     "output_type": "display_data"
    },
    {
     "name": "stdout",
     "output_type": "stream",
     "text": [
      "+------+----------+-----------------------------------------+-----------+\n",
      "|target|prediction|probability                              |prob_int   |\n",
      "+------+----------+-----------------------------------------+-----------+\n",
      "|0     |0.0       |[0.9918558040256819,0.008144195974318157]|0.008144196|\n",
      "|0     |0.0       |[0.9918558040256819,0.008144195974318157]|0.008144196|\n",
      "|0     |0.0       |[0.9869188727248748,0.013081127275125223]|0.013081127|\n",
      "|0     |0.0       |[0.9861995302848373,0.013800469715162694]|0.01380047 |\n",
      "|0     |0.0       |[0.9852166905487777,0.014783309451222314]|0.01478331 |\n",
      "|0     |0.0       |[0.9844021312837232,0.015597868716276758]|0.015597869|\n",
      "|0     |0.0       |[0.9822234296557868,0.01777657034421323] |0.017776571|\n",
      "|0     |0.0       |[0.9673875963542302,0.03261240364576966] |0.032612402|\n",
      "|0     |0.0       |[0.9865812786454919,0.013418721354508098]|0.013418721|\n",
      "|0     |0.0       |[0.9655817454981896,0.03441825450181031] |0.034418255|\n",
      "|0     |0.0       |[0.9805929368820517,0.01940706311794831] |0.019407064|\n",
      "|0     |0.0       |[0.9815796390488791,0.01842036095112093] |0.018420361|\n",
      "|0     |0.0       |[0.9936548151385339,0.006345184861466066]|0.006345185|\n",
      "|0     |0.0       |[0.9802598476592685,0.019740152340731447]|0.019740153|\n",
      "|0     |0.0       |[0.9667590600050397,0.033240939994960333]|0.03324094 |\n",
      "|0     |0.0       |[0.9667590600050397,0.033240939994960333]|0.03324094 |\n",
      "|0     |0.0       |[0.9800196465869164,0.01998035341308352] |0.019980354|\n",
      "|0     |0.0       |[0.9862294622864908,0.013770537713509145]|0.013770537|\n",
      "|0     |0.0       |[0.9523850495178504,0.0476149504821496]  |0.04761495 |\n",
      "|0     |0.0       |[0.9858066889415239,0.014193311058476082]|0.014193311|\n",
      "+------+----------+-----------------------------------------+-----------+\n",
      "only showing top 20 rows"
     ]
    }
   ],
   "source": [
    "#Creating a probability column for target probability \n",
    "from pyspark.sql.functions import udf\n",
    "from pyspark.sql.types import FloatType\n",
    "secondelement=udf(lambda v:float(v[1]),FloatType())\n",
    "predict_train = predict_train.withColumn('prob_int', secondelement('probability'))\n",
    "predict_test = predict_test.withColumn('prob_int', secondelement('probability'))\n",
    "predict_test.select(\"target\",\"prediction\",\"probability\",\"prob_int\").show(truncate=False)"
   ]
  },
  {
   "cell_type": "code",
   "execution_count": 60,
   "id": "fc8a0dbc",
   "metadata": {},
   "outputs": [
    {
     "data": {
      "application/vnd.jupyter.widget-view+json": {
       "model_id": "ae8bb5a003dd401db37383e452ef23fe",
       "version_major": 2,
       "version_minor": 0
      },
      "text/plain": [
       "VBox()"
      ]
     },
     "metadata": {},
     "output_type": "display_data"
    },
    {
     "data": {
      "application/vnd.jupyter.widget-view+json": {
       "model_id": "",
       "version_major": 2,
       "version_minor": 0
      },
      "text/plain": [
       "FloatProgress(value=0.0, bar_style='info', description='Progress:', layout=Layout(height='25px', width='50%'),…"
      ]
     },
     "metadata": {},
     "output_type": "display_data"
    },
    {
     "name": "stdout",
     "output_type": "stream",
     "text": [
      "Collecting sklearn\n",
      "  Using cached sklearn-0.0-py2.py3-none-any.whl\n",
      "Collecting scikit-learn\n",
      "  Using cached scikit_learn-0.24.2-cp36-cp36m-manylinux2010_x86_64.whl (22.2 MB)\n",
      "Requirement already satisfied: numpy>=1.13.3 in /usr/local/lib64/python3.6/site-packages (from scikit-learn->sklearn) (1.14.5)\n",
      "Requirement already satisfied: scipy>=0.19.1 in /mnt/tmp/1638373264021-0/lib64/python3.6/site-packages (from scikit-learn->sklearn) (1.5.4)\n",
      "Collecting joblib>=0.11\n",
      "  Using cached joblib-1.1.0-py2.py3-none-any.whl (306 kB)\n",
      "Collecting threadpoolctl>=2.0.0\n",
      "  Using cached threadpoolctl-3.0.0-py3-none-any.whl (14 kB)\n",
      "Installing collected packages: threadpoolctl, joblib, scikit-learn, sklearn\n",
      "Successfully installed joblib-1.1.0 scikit-learn-0.24.2 sklearn-0.0 threadpoolctl-3.0.0"
     ]
    }
   ],
   "source": [
    "sc.install_pypi_package(\"sklearn\")"
   ]
  },
  {
   "cell_type": "code",
   "execution_count": 61,
   "id": "fe441230",
   "metadata": {},
   "outputs": [
    {
     "data": {
      "application/vnd.jupyter.widget-view+json": {
       "model_id": "f3063f21887b480d9eef1bbf0aacd68e",
       "version_major": 2,
       "version_minor": 0
      },
      "text/plain": [
       "VBox()"
      ]
     },
     "metadata": {},
     "output_type": "display_data"
    },
    {
     "data": {
      "application/vnd.jupyter.widget-view+json": {
       "model_id": "",
       "version_major": 2,
       "version_minor": 0
      },
      "text/plain": [
       "FloatProgress(value=0.0, bar_style='info', description='Progress:', layout=Layout(height='25px', width='50%'),…"
      ]
     },
     "metadata": {},
     "output_type": "display_data"
    },
    {
     "name": "stdout",
     "output_type": "stream",
     "text": [
      "Training set areaUnderROC: 0.6391198225144316\n",
      "Testing set areaUnderROC=0.603"
     ]
    }
   ],
   "source": [
    "# AUC ROC for training set\n",
    "from sklearn.metrics import roc_curve\n",
    "from sklearn.metrics import roc_auc_score\n",
    "from sklearn.metrics import precision_recall_curve\n",
    "from sklearn.metrics import f1_score\n",
    "from sklearn.metrics import auc\n",
    "from matplotlib import pyplot\n",
    "import matplotlib.pyplot as plt\n",
    "\n",
    "trainingSummary = model.summary\n",
    "roc = trainingSummary.roc.toPandas()\n",
    "plt.plot(roc['FPR'],roc['TPR'])\n",
    "plt.ylabel('False Positive Rate')\n",
    "plt.xlabel('True Positive Rate')\n",
    "plt.title('ROC Curve')\n",
    "plt.show()\n",
    "print('Training set areaUnderROC: ' + str(trainingSummary.areaUnderROC))\n",
    "\n",
    "\n",
    "# AUC ROC for test set\n",
    "preds = predict_test.select('target','prob_int').rdd.map(lambda row: (float(row['prob_int']), float(row['target']))).collect()\n",
    "lr_probs, y_test = zip(*preds)\n",
    "fpr, tpr, thresholds = roc_curve(y_test, lr_probs, pos_label = 1)\n",
    "\n",
    "ns_probs = [0 for _ in range(len(y_test))]\n",
    "# calculate scores\n",
    "ns_auc = roc_auc_score(y_test, ns_probs)\n",
    "lr_auc = roc_auc_score(y_test, lr_probs)\n",
    "\n",
    "# summarize scores\n",
    "print('Testing set areaUnderROC=%.3f' % (lr_auc))\n",
    "# calculate roc curves\n",
    "ns_fpr, ns_tpr, _ = roc_curve(y_test, ns_probs)\n",
    "lr_fpr, lr_tpr, _ = roc_curve(y_test, lr_probs)\n",
    "# plot the roc curve for the model\n",
    "pyplot.plot(ns_fpr, ns_tpr, linestyle='--', label='No Skill')\n",
    "pyplot.plot(lr_fpr, lr_tpr, marker='.', label='Logistic')\n",
    "# axis labels\n",
    "pyplot.xlabel('False Positive Rate')\n",
    "pyplot.ylabel('True Positive Rate')\n",
    "# show the legend\n",
    "pyplot.legend()\n",
    "# show the plot\n",
    "pyplot.show()"
   ]
  },
  {
   "cell_type": "code",
   "execution_count": 62,
   "id": "7bb810ae",
   "metadata": {},
   "outputs": [
    {
     "data": {
      "application/vnd.jupyter.widget-view+json": {
       "model_id": "c66e74974d2845468a39c6bca2aca68f",
       "version_major": 2,
       "version_minor": 0
      },
      "text/plain": [
       "VBox()"
      ]
     },
     "metadata": {},
     "output_type": "display_data"
    },
    {
     "data": {
      "application/vnd.jupyter.widget-view+json": {
       "model_id": "",
       "version_major": 2,
       "version_minor": 0
      },
      "text/plain": [
       "FloatProgress(value=0.0, bar_style='info', description='Progress:', layout=Layout(height='25px', width='50%'),…"
      ]
     },
     "metadata": {},
     "output_type": "display_data"
    },
    {
     "name": "stdout",
     "output_type": "stream",
     "text": [
      "+-------------+-----+------------+------------+----+-----+------------------+-------------------+-------------------+--------+\n",
      "|PROB_BUCKET_2|Total|    max_prob|    min_prob|bads|goods|          %cumuBad|          %cumuGood|              %diff|max_diff|\n",
      "+-------------+-----+------------+------------+----+-----+------------------+-------------------+-------------------+--------+\n",
      "|          9.0| 1766| 0.101977885| 0.027796555|  68| 1698|0.2328767123287671|0.09795211998846265|0.13492459234030446|        |\n",
      "|          8.0| 1766| 0.027780205| 0.022356257|  50| 1716|0.4041095890410959|0.19694260167291608|0.20716698736817982|   <----|\n",
      "|          7.0| 1761| 0.022353966| 0.018787183|  28| 1733|               0.5|0.29691375829247185|0.20308624170752815|        |\n",
      "|          6.0| 1756| 0.018784147| 0.016275082|  20| 1736|0.5684931506849316| 0.3970579751946928|0.17143517549023873|        |\n",
      "|          5.0| 1774| 0.016272143|0.0142651955|  25| 1749|0.6541095890410958|0.49795211998846267|0.15615746905263317|        |\n",
      "|          4.0| 1755| 0.014258516| 0.012641044|  30| 1725|0.7568493150684932| 0.5974617825209114|0.15938753254758176|        |\n",
      "|          3.0| 1788| 0.012630495|  0.01110664|  32| 1756|0.8664383561643836| 0.6987597346408999|0.16767862152348367|        |\n",
      "|          2.0| 1737| 0.011100783| 0.009779046|  12| 1725|0.9075342465753424| 0.7982693971733488|0.10926484940199366|        |\n",
      "|          1.0| 1742|0.0097739315| 0.007958347|  19| 1723|0.9726027397260274| 0.8976636861840208|0.07493905354200658|        |\n",
      "|          0.0| 1782| 0.007956529|0.0022645292|   8| 1774|               1.0|                1.0|                0.0|        |\n",
      "+-------------+-----+------------+------------+----+-----+------------------+-------------------+-------------------+--------+\n",
      "\n",
      "+-------------+-----+-----------+------------+----+-----+------------------+-------------------+-------------------+--------+\n",
      "|PROB_BUCKET_2|Total|   max_prob|    min_prob|bads|goods|          %cumuBad|          %cumuGood|              %diff|max_diff|\n",
      "+-------------+-----+-----------+------------+----+-----+------------------+-------------------+-------------------+--------+\n",
      "|          9.0|  751|0.101977885| 0.028249295|  27|  724|0.2076923076923077|0.09814287650806561| 0.1095494311842421|        |\n",
      "|          8.0|  756| 0.02821721| 0.022305332|  15|  741|0.3230769230769231|0.19859021282364106|0.12448671025328203|        |\n",
      "|          7.0|  754|0.022299733| 0.018448833|  16|  738|0.4461538461538462| 0.2986308797614206|0.14752296639242557|        |\n",
      "|          6.0|  742| 0.01844082| 0.016080106|  13|  729|0.5461538461538461|0.39745153856581267|0.14870230758803343|        |\n",
      "|          5.0|  757|0.016076837| 0.014063508|  14|  743|0.6538461538461539|0.49816998779991867| 0.1556761660462352|   <----|\n",
      "|          4.0|  746|0.014060316| 0.012419088|   9|  737|0.7230769230769231|  0.598075098278433| 0.1250018247984901|        |\n",
      "|          3.0|  747|0.012412661|  0.01100019|  11|  736|0.8076923076923077|  0.697844652297682|0.10984765539462571|        |\n",
      "|          2.0|  753|0.010994187| 0.009666764|   9|  744|0.8769230769230769| 0.7986986579910533|0.07822441893202359|        |\n",
      "|          1.0|  754|0.009663301| 0.007867201|   9|  745|0.9461538461538461| 0.8996882201436899|0.04646562601015625|        |\n",
      "|          0.0|  747|0.007864949|0.0022645292|   7|  740|               1.0|                1.0|                0.0|        |\n",
      "+-------------+-----+-----------+------------+----+-----+------------------+-------------------+-------------------+--------+"
     ]
    }
   ],
   "source": [
    "#calculating KS\n",
    "from pyspark.sql.functions import col\n",
    "from pyspark.sql.window import Window\n",
    "\n",
    "#Creating deciles using the predcited probability column \n",
    "discretizer = QuantileDiscretizer(numBuckets=10, inputCol=\"prob_int\", outputCol=\"PROB_BUCKET_2\")\n",
    "predict_train = discretizer.fit(predict_train).transform(predict_train)\n",
    "predict_test = discretizer.fit(predict_test).transform(predict_test)\n",
    "\n",
    "#Creating #Good & # bad for each decile \n",
    "ks_train = predict_train.groupby('PROB_BUCKET_2').agg(F.count(\"ID\").alias(\"Total\"), \n",
    "                                                    F.max(\"prob_int\").alias(\"max_prob\"), \n",
    "                                                    F.min(\"prob_int\").alias(\"min_prob\"),  \n",
    "                                                    F.sum(\"target\").alias(\"bads\") ,\n",
    "                                                    F.count(F.when(col(\"target\") == 0,1)).alias(\"goods\")).sort(col('PROB_BUCKET_2').desc())\n",
    "\n",
    "ks_test = predict_test.groupby('PROB_BUCKET_2').agg(F.count(\"ID\").alias(\"Total\"), \n",
    "                                                  F.max(\"prob_int\").alias(\"max_prob\"), \n",
    "                                                  F.min(\"prob_int\").alias(\"min_prob\"),  \n",
    "                                                  F.sum(\"target\").alias(\"bads\") ,\n",
    "                                                  F.count(F.when(col(\"target\") == 0,1)).alias(\"goods\")).sort(col('PROB_BUCKET_2').desc())\n",
    "\n",
    "#Creating %cumulative good,%cumulative bad & KS \n",
    "ks_train = ks_train.withColumn('%cumuBad', F.sum('bads').over(Window.orderBy(F.col('PROB_BUCKET_2').desc()).rowsBetween(Window.unboundedPreceding, 0)\n",
    ")/ F.sum('bads').over(Window.partitionBy()))\n",
    "ks_train = ks_train.withColumn('%cumuGood', F.sum('goods').over(Window.orderBy(F.col('PROB_BUCKET_2').desc()).rowsBetween(Window.unboundedPreceding, 0)\n",
    ")/ F.sum('goods').over(Window.partitionBy()))\n",
    "ks_train = ks_train.withColumn('%diff', F.col('%cumuBad') -  F.col('%cumuGood'))\n",
    "ks_train = ks_train.withColumn('max_diff', F.when(F.col('%diff') ==F.max('%diff').over(Window.partitionBy()) ,'<----').otherwise(' '))\n",
    "\n",
    "ks_test = ks_test.withColumn('%cumuBad', F.sum('bads').over(Window.orderBy(F.col('PROB_BUCKET_2').desc()).rowsBetween(Window.unboundedPreceding, 0)\n",
    ")/ F.sum('bads').over(Window.partitionBy()))\n",
    "ks_test = ks_test.withColumn('%cumuGood', F.sum('goods').over(Window.orderBy(F.col('PROB_BUCKET_2').desc()).rowsBetween(Window.unboundedPreceding, 0)\n",
    ")/ F.sum('goods').over(Window.partitionBy()))\n",
    "ks_test = ks_test.withColumn('%diff', F.col('%cumuBad') -  F.col('%cumuGood'))\n",
    "ks_test = ks_test.withColumn('max_diff', F.when(F.col('%diff') ==F.max('%diff').over(Window.partitionBy()) ,'<----').otherwise(' '))\n",
    "\n",
    "ks_train.sort(col('PROB_BUCKET_2').desc()).show()\n",
    "ks_test.sort(col('PROB_BUCKET_2').desc()).show()"
   ]
  },
  {
   "cell_type": "code",
   "execution_count": 65,
   "id": "178b948d",
   "metadata": {},
   "outputs": [
    {
     "data": {
      "application/vnd.jupyter.widget-view+json": {
       "model_id": "8e978f31c3634e21a7b816e75b7ccddd",
       "version_major": 2,
       "version_minor": 0
      },
      "text/plain": [
       "VBox()"
      ]
     },
     "metadata": {},
     "output_type": "display_data"
    },
    {
     "data": {
      "application/vnd.jupyter.widget-view+json": {
       "model_id": "",
       "version_major": 2,
       "version_minor": 0
      },
      "text/plain": [
       "FloatProgress(value=0.0, bar_style='info', description='Progress:', layout=Layout(height='25px', width='50%'),…"
      ]
     },
     "metadata": {},
     "output_type": "display_data"
    },
    {
     "name": "stdout",
     "output_type": "stream",
     "text": [
      "Training Dataset Count: 17627\n",
      "Test Dataset Count: 7507\n",
      "Training set areaUnderROC: 0.6520551896353486\n",
      "Testing set areaUnderROC=0.624\n",
      "+-------------+-----+------------+------------+----+-----+------------------+-------------------+-------------------+--------+\n",
      "|PROB_BUCKET_2|Total|    max_prob|    min_prob|bads|goods|          %cumuBad|          %cumuGood|              %diff|max_diff|\n",
      "+-------------+-----+------------+------------+----+-----+------------------+-------------------+-------------------+--------+\n",
      "|          9.0| 1775|   0.9948956|  0.02616972|  73| 1702|              0.25|0.09818286703201615|0.15181713296798385|        |\n",
      "|          8.0| 1758| 0.026169123| 0.021527005|  46| 1712|0.4075342465753425|0.19694260167291608| 0.2105916449024264|   <----|\n",
      "|          7.0| 1758|  0.02152598| 0.018416896|  24| 1734|0.4897260273972603|0.29697144505336026|0.19275458234390003|        |\n",
      "|          6.0| 1766| 0.018413242| 0.015835771|  30| 1736|0.5924657534246576| 0.3971156619555812| 0.1953500914690764|        |\n",
      "|          5.0| 1764| 0.015832487| 0.013934558|  28| 1736|0.6883561643835616|0.49725987885780215|0.19109628552575947|        |\n",
      "|          4.0| 1762| 0.013919672|  0.01227148|  33| 1729|0.8013698630136986| 0.5970002884338045|0.20436957457989413|        |\n",
      "|          3.0| 1750| 0.012269029| 0.010902565|  14| 1736|0.8493150684931506| 0.6971445053360253| 0.1521705631571253|        |\n",
      "|          2.0| 1775| 0.010902153| 0.009586075|  20| 1755|0.9178082191780822| 0.7983847706951255|0.11942344848295672|        |\n",
      "|          1.0| 1755|0.0095834425|0.0076777786|  15| 1740|0.9691780821917808| 0.8987597346408999|0.07041834755088094|        |\n",
      "|          0.0| 1764|0.0076681725| 0.002110482|   9| 1755|               1.0|                1.0|                0.0|        |\n",
      "+-------------+-----+------------+------------+----+-----+------------------+-------------------+-------------------+--------+\n",
      "\n",
      "+-------------+-----+------------+------------+----+-----+-------------------+-------------------+-------------------+--------+\n",
      "|PROB_BUCKET_2|Total|    max_prob|    min_prob|bads|goods|           %cumuBad|          %cumuGood|              %diff|max_diff|\n",
      "+-------------+-----+------------+------------+----+-----+-------------------+-------------------+-------------------+--------+\n",
      "|          9.0|  756|   0.9916755| 0.026406655|  27|  729| 0.2076923076923077|0.09882065880439203|0.10887164888791567|        |\n",
      "|          8.0|  747| 0.026393957| 0.021506522|  20|  727|0.36153846153846153| 0.1973702046902535|0.16416825684820804|        |\n",
      "|          7.0|  753|  0.02150625| 0.017967736|  17|  736|0.49230769230769234| 0.2971397587095025|0.19516793359818985|   <----|\n",
      "|          6.0|  751| 0.017922334| 0.015597857|  12|  739| 0.5846153846153846| 0.3973159821065474|0.18729940250883725|        |\n",
      "|          5.0|  756|  0.01557279| 0.013600808|  10|  746| 0.6615384615384615| 0.4984411007184492| 0.1630973608200123|        |\n",
      "|          4.0|  744| 0.013597564| 0.012166476|  13|  731| 0.7615384615384615| 0.5975328724413719|0.16400558909708962|        |\n",
      "|          3.0|  750| 0.012156893| 0.010724392|   4|  746| 0.7923076923076923| 0.6986579910532736|0.09364970125441863|        |\n",
      "|          2.0|  752|0.0107243555| 0.009362826|  10|  742| 0.8692307692307693| 0.7992408838281144|0.06998988540265483|        |\n",
      "|          1.0|  749| 0.009334986|0.0075778514|  11|  738| 0.9538461538461539|  0.899281550765894| 0.0545646030802599|        |\n",
      "|          0.0|  749|0.0075695487|0.0023288731|   6|  743|                1.0|                1.0|                0.0|        |\n",
      "+-------------+-----+------------+------------+----+-----+-------------------+-------------------+-------------------+--------+"
     ]
    }
   ],
   "source": [
    "#splitting in test and train data\n",
    "train, test = encoded_df_saved.randomSplit([0.7, 0.3], seed = 2018)\n",
    "print(\"Training Dataset Count: \" + str(train.count()))\n",
    "print(\"Test Dataset Count: \" + str(test.count()))\n",
    "\n",
    "#Specifying feature list to be used for logistic regression\n",
    "features_list = ['AMT_INCOME_TOTALbucket_woe','CODE_GENDER_woe','DAYS_EMPLOYEDbucket_woe','FLAG_OWN_REALTY_woe',\n",
    "                 'NAME_EDUCATION_TYPE_woe','NAME_FAMILY_STATUS_woe','NAME_HOUSING_TYPE_woe','OCCUPATION_TYPE_woe',\n",
    "                 'NAME_INCOME_TYPE_woe']\n",
    "\n",
    "#Creating feature vector column with all the input variables\n",
    "assembler = VectorAssembler(inputCols=features_list, outputCol=\"features\")\n",
    "train = assembler.transform(train)\n",
    "test = assembler.transform(test)\n",
    "\n",
    "#Building logistic regression model and predict on test & train dataset using the same model \n",
    "lr = LogisticRegression(labelCol=\"target\", featuresCol= \"features\",maxIter=10)\n",
    "model=lr.fit(train)\n",
    "predict_train=model.transform(train)\n",
    "predict_test=model.transform(test)\n",
    "#predict_test.select(\"target\",\"prediction\",\"probability\").show(truncate=False)\n",
    "\n",
    "#Creating a probability column for target probability \n",
    "secondelement=udf(lambda v:float(v[1]),FloatType())\n",
    "predict_train = predict_train.withColumn('prob_int', secondelement('probability'))\n",
    "predict_test = predict_test.withColumn('prob_int', secondelement('probability'))\n",
    "\n",
    "# AUC ROC for training set\n",
    "trainingSummary = model.summary\n",
    "roc = trainingSummary.roc.toPandas()\n",
    "plt.plot(roc['FPR'],roc['TPR'])\n",
    "plt.ylabel('False Positive Rate')\n",
    "plt.xlabel('True Positive Rate')\n",
    "plt.title('ROC Curve')\n",
    "plt.show()\n",
    "print('Training set areaUnderROC: ' + str(trainingSummary.areaUnderROC))\n",
    "\n",
    "\n",
    "# AUC ROC for test set\n",
    "preds = predict_test.select('target','prob_int').rdd.map(lambda row: (float(row['prob_int']), float(row['target']))).collect()\n",
    "lr_probs, y_test = zip(*preds)\n",
    "fpr, tpr, thresholds = roc_curve(y_test, lr_probs, pos_label = 1)\n",
    "\n",
    "ns_probs = [0 for _ in range(len(y_test))]\n",
    "# calculate scores\n",
    "ns_auc = roc_auc_score(y_test, ns_probs)\n",
    "lr_auc = roc_auc_score(y_test, lr_probs)\n",
    "\n",
    "# summarize scores\n",
    "print('Testing set areaUnderROC=%.3f' % (lr_auc))\n",
    "# calculate roc curves\n",
    "ns_fpr, ns_tpr, _ = roc_curve(y_test, ns_probs)\n",
    "lr_fpr, lr_tpr, _ = roc_curve(y_test, lr_probs)\n",
    "# plot the roc curve for the model\n",
    "pyplot.plot(ns_fpr, ns_tpr, linestyle='--', label='No Skill')\n",
    "pyplot.plot(lr_fpr, lr_tpr, marker='.', label='Logistic')\n",
    "# axis labels\n",
    "pyplot.xlabel('False Positive Rate')\n",
    "pyplot.ylabel('True Positive Rate')\n",
    "# show the legend\n",
    "pyplot.legend()\n",
    "# show the plot\n",
    "pyplot.show()\n",
    "\n",
    "\n",
    "#calculating KS\n",
    "\n",
    "#Creating deciles using the predcited probability column \n",
    "discretizer = QuantileDiscretizer(numBuckets=10, inputCol=\"prob_int\", outputCol=\"PROB_BUCKET_2\")\n",
    "predict_train = discretizer.fit(predict_train).transform(predict_train)\n",
    "predict_test = discretizer.fit(predict_test).transform(predict_test)\n",
    "\n",
    "#Creating #Good & # bad for each decile \n",
    "ks_train = predict_train.groupby('PROB_BUCKET_2').agg(F.count(\"ID\").alias(\"Total\"), \n",
    "                                                    F.max(\"prob_int\").alias(\"max_prob\"), \n",
    "                                                    F.min(\"prob_int\").alias(\"min_prob\"),  \n",
    "                                                    F.sum(\"target\").alias(\"bads\") ,\n",
    "                                                    F.count(F.when(col(\"target\") == 0,1)).alias(\"goods\")).sort(col('PROB_BUCKET_2').desc())\n",
    "\n",
    "ks_test = predict_test.groupby('PROB_BUCKET_2').agg(F.count(\"ID\").alias(\"Total\"), \n",
    "                                                  F.max(\"prob_int\").alias(\"max_prob\"), \n",
    "                                                  F.min(\"prob_int\").alias(\"min_prob\"),  \n",
    "                                                  F.sum(\"target\").alias(\"bads\") ,\n",
    "                                                  F.count(F.when(col(\"target\") == 0,1)).alias(\"goods\")).sort(col('PROB_BUCKET_2').desc())\n",
    "\n",
    "#Creating %cumulative good,%cumulative bad & KS \n",
    "ks_train = ks_train.withColumn('%cumuBad', F.sum('bads').over(Window.orderBy(F.col('PROB_BUCKET_2').desc()).rowsBetween(Window.unboundedPreceding, 0)\n",
    ")/ F.sum('bads').over(Window.partitionBy()))\n",
    "ks_train = ks_train.withColumn('%cumuGood', F.sum('goods').over(Window.orderBy(F.col('PROB_BUCKET_2').desc()).rowsBetween(Window.unboundedPreceding, 0)\n",
    ")/ F.sum('goods').over(Window.partitionBy()))\n",
    "ks_train = ks_train.withColumn('%diff', F.col('%cumuBad') -  F.col('%cumuGood'))\n",
    "ks_train = ks_train.withColumn('max_diff', F.when(F.col('%diff') ==F.max('%diff').over(Window.partitionBy()) ,'<----').otherwise(' '))\n",
    "\n",
    "ks_test = ks_test.withColumn('%cumuBad', F.sum('bads').over(Window.orderBy(F.col('PROB_BUCKET_2').desc()).rowsBetween(Window.unboundedPreceding, 0)\n",
    ")/ F.sum('bads').over(Window.partitionBy()))\n",
    "ks_test = ks_test.withColumn('%cumuGood', F.sum('goods').over(Window.orderBy(F.col('PROB_BUCKET_2').desc()).rowsBetween(Window.unboundedPreceding, 0)\n",
    ")/ F.sum('goods').over(Window.partitionBy()))\n",
    "ks_test = ks_test.withColumn('%diff', F.col('%cumuBad') -  F.col('%cumuGood'))\n",
    "ks_test = ks_test.withColumn('max_diff', F.when(F.col('%diff') ==F.max('%diff').over(Window.partitionBy()) ,'<----').otherwise(' '))\n",
    "\n",
    "ks_train.sort(col('PROB_BUCKET_2').desc()).show()\n",
    "ks_test.sort(col('PROB_BUCKET_2').desc()).show()"
   ]
  },
  {
   "cell_type": "code",
   "execution_count": 66,
   "id": "983fedba",
   "metadata": {},
   "outputs": [
    {
     "data": {
      "application/vnd.jupyter.widget-view+json": {
       "model_id": "32b64bfb68204465b0c61d625f79b8f4",
       "version_major": 2,
       "version_minor": 0
      },
      "text/plain": [
       "VBox()"
      ]
     },
     "metadata": {},
     "output_type": "display_data"
    },
    {
     "data": {
      "application/vnd.jupyter.widget-view+json": {
       "model_id": "",
       "version_major": 2,
       "version_minor": 0
      },
      "text/plain": [
       "FloatProgress(value=0.0, bar_style='info', description='Progress:', layout=Layout(height='25px', width='50%'),…"
      ]
     },
     "metadata": {},
     "output_type": "display_data"
    },
    {
     "name": "stdout",
     "output_type": "stream",
     "text": [
      "+----------+------+-----+\n",
      "|pred_class|target|count|\n",
      "+----------+------+-----+\n",
      "|         1|     0| 2188|\n",
      "|         1|     1|   64|\n",
      "|         0|     0| 5189|\n",
      "|         0|     1|   66|\n",
      "+----------+------+-----+\n",
      "\n",
      "[[5189. 2188.]\n",
      " [  66.   64.]]\n",
      "Summary Stats\n",
      "Precision = 0.028419182948490232\n",
      "Recall = 0.49230769230769234\n",
      "F1 Score = 0.6997469028906355\n",
      "Area under PR = 0.025600979824213985\n",
      "Area under ROC = 0.5978550797176254"
     ]
    }
   ],
   "source": [
    "#Creating prediction classs based on the prob cut off by KS value\n",
    "from pyspark.mllib.evaluation import BinaryClassificationMetrics\n",
    "from pyspark.mllib.regression import LabeledPoint\n",
    "from pyspark.mllib.evaluation import MulticlassMetrics\n",
    "from pyspark.sql.types import DoubleType\n",
    "\n",
    "min_prob_max_ks = ks_test.where(col(\"max_diff\") == '<----').select(col(\"min_prob\")).collect()[0]\n",
    "predict_test = predict_test.withColumn('pred_class', F.when(F.col('prob_int') > round(min_prob_max_ks[0],4) ,1).otherwise(0))\n",
    "predict_test.groupBy('pred_class','target').count().show()\n",
    "\n",
    "#Generating evaluation metrics\n",
    "results = predict_test.select(['pred_class', 'target'])\n",
    "results = results.withColumn(\"target\", results[\"target\"].cast(DoubleType()))\n",
    "results = results.withColumn(\"pred_class\", results[\"pred_class\"].cast(DoubleType()))\n",
    "\n",
    "predictionAndLabels=results.rdd\n",
    "metrics = MulticlassMetrics(predictionAndLabels)\n",
    "metrics1 = BinaryClassificationMetrics(predictionAndLabels)\n",
    "\n",
    "cm=metrics.confusionMatrix().toArray()\n",
    "print(cm)\n",
    "# Overall statistics\n",
    "precision = metrics.precision(1)\n",
    "recall = metrics.recall(1)\n",
    "f1Score = metrics.fMeasure()\n",
    "print(\"Summary Stats\")\n",
    "print(\"Precision = %s\" % precision)\n",
    "print(\"Recall = %s\" % recall)\n",
    "print(\"F1 Score = %s\" % f1Score)\n",
    "# Area under precision-recall curve\n",
    "print(\"Area under PR = %s\" % metrics1.areaUnderPR)\n",
    "# Area under ROC curve\n",
    "print(\"Area under ROC = %s\" % metrics1.areaUnderROC)"
   ]
  },
  {
   "cell_type": "code",
   "execution_count": null,
   "id": "969928e6",
   "metadata": {},
   "outputs": [],
   "source": []
  }
 ],
 "metadata": {
  "kernelspec": {
   "display_name": "PySpark",
   "language": "",
   "name": "pysparkkernel"
  },
  "language_info": {
   "codemirror_mode": {
    "name": "python",
    "version": 2
   },
   "mimetype": "text/x-python",
   "name": "pyspark",
   "pygments_lexer": "python2"
  }
 },
 "nbformat": 4,
 "nbformat_minor": 5
}

{
 "cells": [
  {
   "cell_type": "markdown",
   "metadata": {},
   "source": [
    "# Recommendation using RF"
   ]
  },
  {
   "cell_type": "markdown",
   "metadata": {},
   "source": [
    "## FBI Code for Police records"
   ]
  },
  {
   "cell_type": "markdown",
   "metadata": {},
   "source": [
    "You are provided with the dataset that contains the crime records from Chicago. The dataset belongs to Chicago Police Department. This dataset reflects reported incidents of crime (with the exception of murders where data exists for each victim) that occurred in the City of Chicago from 2012 to 2017. The data is extracted from the Chicago Police Department's CLEAR (Citizen Law Enforcement Analysis and Reporting) system."
   ]
  },
  {
   "cell_type": "markdown",
   "metadata": {},
   "source": [
    "Columns in the Dataset:\n",
    "\n",
    "**ID** - Unique identifier for the record.\n",
    "\n",
    "**Case Number** - The Chicago Police Department RD Number (Records Division Number), which is unique to the incident.\n",
    "\n",
    "**Date** - Date when the incident occurred. this is sometimes a best estimate.\n",
    "\n",
    "**Block** - The partially redacted address where the incident occurred, placing it on the same block as the actual address.\n",
    "\n",
    "**IUCR** - The Illinois Unifrom Crime Reporting code. This is directly linked to the Primary Type and Description.\n",
    "\n",
    "**Primary Type** - The primary description of the IUCR code.\n",
    "\n",
    "**Description** - The secondary description of the IUCR code, a subcategory of the primary description.\n",
    "\n",
    "**Location Description** - Description of the location where the incident occurred.\n",
    "\n",
    "**Arrest** - Indicates whether an arrest was made.\n",
    "\n",
    "**Domestic** - Indicates whether the incident was domestic-related as defined by the Illinois Domestic Violence Act.\n",
    "\n",
    "**Beat** - Indicates the beat where the incident occurred. A beat is the smallest police geographic area – each beat has a dedicated police beat car. Three to five beats make up a police sector, and three sectors make up a police district. The Chicago Police Department has 22 police districts.\n",
    "\n",
    "**District** - Indicates the police district where the incident occurred.\n",
    "\n",
    "**Ward** - The ward (City Council district) where the incident occurred.\n",
    "\n",
    "**Community Area** - Indicates the community area where the incident occurred. Chicago has 77 community areas.\n",
    "\n",
    "**FBI Code** - Indicates the crime classification as outlined in the FBI's National Incident-Based Reporting System (NIBRS).\n",
    "\n",
    "**X Coordinate** - The x coordinate of the location where the incident occurred in State Plane Illinois East NAD 1983 projection. This location is shifted from the actual location for partial redaction but falls on the same block.\n",
    "\n",
    "**Y Coordinate** - The y coordinate of the location where the incident occurred in State Plane Illinois East NAD 1983 projection. This location is shifted from the actual location for partial redaction but falls on the same block.\n",
    "\n",
    "**Year** - Year the incident occurred.\n",
    "\n",
    "**Updated On** - Date and time the record was last updated.\n",
    "\n",
    "**Latitude** - The latitude of the location where the incident occurred. This location is shifted from the actual location for partial redaction but falls on the same block.\n",
    "\n",
    "**Longitude** - The longitude of the location where the incident occurred. This location is shifted from the actual location for partial redaction but falls on the same block.\n",
    "\n",
    "**Location** - The location where the incident occurred in a format that allows for creation of maps and other geographic operations on this data portal. This location is shifted from the actual location for partial redaction but falls on the same block."
   ]
  },
  {
   "cell_type": "markdown",
   "metadata": {},
   "source": [
    "Our objective is to use the information and try to come up with a system that recommends the **FBI Code** for each crime absed on the given information."
   ]
  },
  {
   "cell_type": "markdown",
   "metadata": {},
   "source": [
    "### Initialising the Spark session"
   ]
  },
  {
   "cell_type": "code",
   "execution_count": 1,
   "metadata": {
    "scrolled": true
   },
   "outputs": [
    {
     "data": {
      "text/html": [
       "Current session configs: <tt>{'conf': {'spark.pyspark.python': 'python3', 'spark.pyspark.virtualenv.enabled': 'true', 'spark.pyspark.virtualenv.type': 'native', 'spark.pyspark.virtualenv.bin.path': '/usr/bin/virtualenv', 'spark.driver.memory': '6000M'}, 'kind': 'pyspark'}</tt><br>"
      ],
      "text/plain": [
       "<IPython.core.display.HTML object>"
      ]
     },
     "metadata": {},
     "output_type": "display_data"
    },
    {
     "data": {
      "text/html": [
       "No active sessions."
      ],
      "text/plain": [
       "<IPython.core.display.HTML object>"
      ]
     },
     "metadata": {},
     "output_type": "display_data"
    }
   ],
   "source": [
    "%%configure -f\n",
    "{ \"conf\":{\n",
    "          \"spark.pyspark.python\": \"python3\",\n",
    "          \"spark.pyspark.virtualenv.enabled\": \"true\",\n",
    "          \"spark.pyspark.virtualenv.type\":\"native\",\n",
    "          \"spark.pyspark.virtualenv.bin.path\":\"/usr/bin/virtualenv\",\n",
    "          \"spark.driver.memory\": \"6000M\"}\n",
    "}"
   ]
  },
  {
   "cell_type": "code",
   "execution_count": 2,
   "metadata": {
    "scrolled": false
   },
   "outputs": [
    {
     "data": {
      "application/vnd.jupyter.widget-view+json": {
       "model_id": "599bf636000d4788af471b29fc0eae74",
       "version_major": 2,
       "version_minor": 0
      },
      "text/plain": [
       "VBox()"
      ]
     },
     "metadata": {},
     "output_type": "display_data"
    },
    {
     "name": "stdout",
     "output_type": "stream",
     "text": [
      "Starting Spark application\n"
     ]
    },
    {
     "data": {
      "text/html": [
       "<table>\n",
       "<tr><th>ID</th><th>YARN Application ID</th><th>Kind</th><th>State</th><th>Spark UI</th><th>Driver log</th><th>Current session?</th></tr><tr><td>0</td><td>application_1638805202650_0001</td><td>pyspark</td><td>idle</td><td><a target=\"_blank\" href=\"http://ip-172-31-46-235.us-east-2.compute.internal:20888/proxy/application_1638805202650_0001/\">Link</a></td><td><a target=\"_blank\" href=\"http://ip-172-31-42-201.us-east-2.compute.internal:8042/node/containerlogs/container_1638805202650_0001_01_000001/livy\">Link</a></td><td>✔</td></tr></table>"
      ],
      "text/plain": [
       "<IPython.core.display.HTML object>"
      ]
     },
     "metadata": {},
     "output_type": "display_data"
    },
    {
     "data": {
      "application/vnd.jupyter.widget-view+json": {
       "model_id": "",
       "version_major": 2,
       "version_minor": 0
      },
      "text/plain": [
       "FloatProgress(value=0.0, bar_style='info', description='Progress:', layout=Layout(height='25px', width='50%'),…"
      ]
     },
     "metadata": {},
     "output_type": "display_data"
    },
    {
     "name": "stdout",
     "output_type": "stream",
     "text": [
      "SparkSession available as 'spark'.\n"
     ]
    },
    {
     "data": {
      "application/vnd.jupyter.widget-view+json": {
       "model_id": "",
       "version_major": 2,
       "version_minor": 0
      },
      "text/plain": [
       "FloatProgress(value=0.0, bar_style='info', description='Progress:', layout=Layout(height='25px', width='50%'),…"
      ]
     },
     "metadata": {},
     "output_type": "display_data"
    },
    {
     "name": "stdout",
     "output_type": "stream",
     "text": [
      "'6000M'"
     ]
    }
   ],
   "source": [
    "# Initialising the Spark session\n",
    "spark.sparkContext.getConf().get('spark.driver.memory')"
   ]
  },
  {
   "cell_type": "markdown",
   "metadata": {},
   "source": [
    "### Installing the requried libraries"
   ]
  },
  {
   "cell_type": "code",
   "execution_count": 3,
   "metadata": {
    "scrolled": false
   },
   "outputs": [
    {
     "data": {
      "application/vnd.jupyter.widget-view+json": {
       "model_id": "fba18d927e1749859f1ef3cb166f6408",
       "version_major": 2,
       "version_minor": 0
      },
      "text/plain": [
       "VBox()"
      ]
     },
     "metadata": {},
     "output_type": "display_data"
    },
    {
     "data": {
      "application/vnd.jupyter.widget-view+json": {
       "model_id": "",
       "version_major": 2,
       "version_minor": 0
      },
      "text/plain": [
       "FloatProgress(value=0.0, bar_style='info', description='Progress:', layout=Layout(height='25px', width='50%'),…"
      ]
     },
     "metadata": {},
     "output_type": "display_data"
    },
    {
     "name": "stdout",
     "output_type": "stream",
     "text": [
      "Package                    Version\n",
      "-------------------------- -------\n",
      "beautifulsoup4             4.8.1\n",
      "boto                       2.49.0\n",
      "jmespath                   0.9.4\n",
      "lxml                       4.4.2\n",
      "mysqlclient                1.4.6\n",
      "nltk                       3.4.5\n",
      "nose                       1.3.4\n",
      "numpy                      1.14.5\n",
      "pip                        21.3.1\n",
      "py-dateutil                2.2\n",
      "python36-sagemaker-pyspark 1.2.6\n",
      "pytz                       2019.3\n",
      "PyYAML                     3.11\n",
      "setuptools                 59.5.0\n",
      "six                        1.13.0\n",
      "soupsieve                  1.9.5\n",
      "wheel                      0.37.0\n",
      "windmill                   1.6"
     ]
    }
   ],
   "source": [
    "# check the libraries in already installed on the cluster \n",
    "spark.sparkContext.list_packages()"
   ]
  },
  {
   "cell_type": "code",
   "execution_count": 4,
   "metadata": {
    "scrolled": false
   },
   "outputs": [
    {
     "data": {
      "application/vnd.jupyter.widget-view+json": {
       "model_id": "873ff718f85245bb974978af8726d62c",
       "version_major": 2,
       "version_minor": 0
      },
      "text/plain": [
       "VBox()"
      ]
     },
     "metadata": {},
     "output_type": "display_data"
    },
    {
     "data": {
      "application/vnd.jupyter.widget-view+json": {
       "model_id": "",
       "version_major": 2,
       "version_minor": 0
      },
      "text/plain": [
       "FloatProgress(value=0.0, bar_style='info', description='Progress:', layout=Layout(height='25px', width='50%'),…"
      ]
     },
     "metadata": {},
     "output_type": "display_data"
    },
    {
     "name": "stdout",
     "output_type": "stream",
     "text": [
      "Collecting pandas==0.25.1\n",
      "  Downloading pandas-0.25.1-cp36-cp36m-manylinux1_x86_64.whl (10.5 MB)\n",
      "Collecting python-dateutil>=2.6.1\n",
      "  Downloading python_dateutil-2.8.2-py2.py3-none-any.whl (247 kB)\n",
      "Requirement already satisfied: numpy>=1.13.3 in /usr/local/lib64/python3.6/site-packages (from pandas==0.25.1) (1.14.5)\n",
      "Requirement already satisfied: pytz>=2017.2 in /usr/local/lib/python3.6/site-packages (from pandas==0.25.1) (2019.3)\n",
      "Requirement already satisfied: six>=1.5 in /usr/local/lib/python3.6/site-packages (from python-dateutil>=2.6.1->pandas==0.25.1) (1.13.0)\n",
      "Installing collected packages: python-dateutil, pandas\n",
      "Successfully installed pandas-0.25.1 python-dateutil-2.8.2\n",
      "\n",
      "Collecting matplotlib\n",
      "  Downloading matplotlib-3.3.4-cp36-cp36m-manylinux1_x86_64.whl (11.5 MB)\n",
      "Requirement already satisfied: python-dateutil>=2.1 in /mnt/tmp/1638805827415-0/lib/python3.6/site-packages (from matplotlib) (2.8.2)\n",
      "Collecting pillow>=6.2.0\n",
      "  Downloading Pillow-8.4.0-cp36-cp36m-manylinux_2_17_x86_64.manylinux2014_x86_64.whl (3.1 MB)\n",
      "Collecting numpy>=1.15\n",
      "  Downloading numpy-1.19.5-cp36-cp36m-manylinux2010_x86_64.whl (14.8 MB)\n",
      "Collecting kiwisolver>=1.0.1\n",
      "  Downloading kiwisolver-1.3.1-cp36-cp36m-manylinux1_x86_64.whl (1.1 MB)\n",
      "Collecting cycler>=0.10\n",
      "  Downloading cycler-0.11.0-py3-none-any.whl (6.4 kB)\n",
      "Collecting pyparsing!=2.0.4,!=2.1.2,!=2.1.6,>=2.0.3\n",
      "  Downloading pyparsing-3.0.6-py3-none-any.whl (97 kB)\n",
      "Requirement already satisfied: six>=1.5 in /usr/local/lib/python3.6/site-packages (from python-dateutil>=2.1->matplotlib) (1.13.0)\n",
      "Installing collected packages: pyparsing, pillow, numpy, kiwisolver, cycler, matplotlib\n",
      "  Attempting uninstall: numpy\n",
      "    Found existing installation: numpy 1.14.5\n",
      "    Not uninstalling numpy at /usr/local/lib64/python3.6/site-packages, outside environment /tmp/1638805827415-0\n",
      "    Can't uninstall 'numpy'. No files were found to uninstall.\n",
      "Successfully installed cycler-0.11.0 kiwisolver-1.3.1 matplotlib-3.3.4 numpy-1.19.5 pillow-8.4.0 pyparsing-3.0.6\n",
      "\n",
      "\n",
      "ERROR: pip's dependency resolver does not currently take into account all the packages that are installed. This behaviour is the source of the following dependency conflicts.\n",
      "python36-sagemaker-pyspark 1.2.6 requires pyspark==2.3.2, which is not installed."
     ]
    }
   ],
   "source": [
    "spark.sparkContext.install_pypi_package(\"pandas==0.25.1\") #Install pandas version 0.25.1 \n",
    "spark.sparkContext.install_pypi_package(\"matplotlib\", \"https://pypi.org/simple\") #Install matplotlib from given PyPI repository"
   ]
  },
  {
   "cell_type": "markdown",
   "metadata": {},
   "source": [
    "### Loading the dataset"
   ]
  },
  {
   "cell_type": "code",
   "execution_count": 5,
   "metadata": {
    "scrolled": false
   },
   "outputs": [
    {
     "data": {
      "application/vnd.jupyter.widget-view+json": {
       "model_id": "757ddc0b03814355be1216f7487ea0ef",
       "version_major": 2,
       "version_minor": 0
      },
      "text/plain": [
       "VBox()"
      ]
     },
     "metadata": {},
     "output_type": "display_data"
    },
    {
     "data": {
      "application/vnd.jupyter.widget-view+json": {
       "model_id": "",
       "version_major": 2,
       "version_minor": 0
      },
      "text/plain": [
       "FloatProgress(value=0.0, bar_style='info', description='Progress:', layout=Layout(height='25px', width='50%'),…"
      ]
     },
     "metadata": {},
     "output_type": "display_data"
    }
   ],
   "source": [
    "# Data stored in Public S3 Bucket 'chicago-crime-mlc' as 'Chicago_Crimes_2012_to_2017.csv'\n",
    "df=spark.read.csv('s3a://chicago-crime-mlc/Chicago_Crimes_2012_to_2017.csv',\\\n",
    "                  header=True,inferSchema=False)"
   ]
  },
  {
   "cell_type": "code",
   "execution_count": 6,
   "metadata": {},
   "outputs": [
    {
     "data": {
      "application/vnd.jupyter.widget-view+json": {
       "model_id": "174705aafea046109f5a0b307a7e6656",
       "version_major": 2,
       "version_minor": 0
      },
      "text/plain": [
       "VBox()"
      ]
     },
     "metadata": {},
     "output_type": "display_data"
    },
    {
     "data": {
      "application/vnd.jupyter.widget-view+json": {
       "model_id": "",
       "version_major": 2,
       "version_minor": 0
      },
      "text/plain": [
       "FloatProgress(value=0.0, bar_style='info', description='Progress:', layout=Layout(height='25px', width='50%'),…"
      ]
     },
     "metadata": {},
     "output_type": "display_data"
    },
    {
     "name": "stdout",
     "output_type": "stream",
     "text": [
      "[Row(_c0='3', ID='10508693', Case Number='HZ250496', Date='05/03/2016 11:40:00 PM', Block='013XX S SAWYER AVE', IUCR='0486', Primary Type='BATTERY', Description='DOMESTIC BATTERY SIMPLE', Location Description='APARTMENT', Arrest='True', Domestic='True', Beat='1022', District='10.0', Ward='24.0', Community Area='29.0', FBI Code='08B', X Coordinate='1154907.0', Y Coordinate='1893681.0', Year='2016', Updated On='05/10/2016 03:56:50 PM', Latitude='41.864073157', Longitude='-87.706818608', Location='(41.864073157, -87.706818608)')]"
     ]
    }
   ],
   "source": [
    "# Printing the first row\n",
    "df.head(1)"
   ]
  },
  {
   "cell_type": "code",
   "execution_count": 7,
   "metadata": {
    "scrolled": true
   },
   "outputs": [
    {
     "data": {
      "application/vnd.jupyter.widget-view+json": {
       "model_id": "9e6629190d0049c2b1d9291714519d1e",
       "version_major": 2,
       "version_minor": 0
      },
      "text/plain": [
       "VBox()"
      ]
     },
     "metadata": {},
     "output_type": "display_data"
    },
    {
     "data": {
      "application/vnd.jupyter.widget-view+json": {
       "model_id": "",
       "version_major": 2,
       "version_minor": 0
      },
      "text/plain": [
       "FloatProgress(value=0.0, bar_style='info', description='Progress:', layout=Layout(height='25px', width='50%'),…"
      ]
     },
     "metadata": {},
     "output_type": "display_data"
    },
    {
     "name": "stdout",
     "output_type": "stream",
     "text": [
      "root\n",
      " |-- _c0: string (nullable = true)\n",
      " |-- ID: string (nullable = true)\n",
      " |-- Case Number: string (nullable = true)\n",
      " |-- Date: string (nullable = true)\n",
      " |-- Block: string (nullable = true)\n",
      " |-- IUCR: string (nullable = true)\n",
      " |-- Primary Type: string (nullable = true)\n",
      " |-- Description: string (nullable = true)\n",
      " |-- Location Description: string (nullable = true)\n",
      " |-- Arrest: string (nullable = true)\n",
      " |-- Domestic: string (nullable = true)\n",
      " |-- Beat: string (nullable = true)\n",
      " |-- District: string (nullable = true)\n",
      " |-- Ward: string (nullable = true)\n",
      " |-- Community Area: string (nullable = true)\n",
      " |-- FBI Code: string (nullable = true)\n",
      " |-- X Coordinate: string (nullable = true)\n",
      " |-- Y Coordinate: string (nullable = true)\n",
      " |-- Year: string (nullable = true)\n",
      " |-- Updated On: string (nullable = true)\n",
      " |-- Latitude: string (nullable = true)\n",
      " |-- Longitude: string (nullable = true)\n",
      " |-- Location: string (nullable = true)"
     ]
    }
   ],
   "source": [
    "# Schema of the dataset\n",
    "df.printSchema()"
   ]
  },
  {
   "cell_type": "code",
   "execution_count": 8,
   "metadata": {},
   "outputs": [
    {
     "data": {
      "application/vnd.jupyter.widget-view+json": {
       "model_id": "191097e682c9439096ccf53749069ead",
       "version_major": 2,
       "version_minor": 0
      },
      "text/plain": [
       "VBox()"
      ]
     },
     "metadata": {},
     "output_type": "display_data"
    },
    {
     "data": {
      "application/vnd.jupyter.widget-view+json": {
       "model_id": "",
       "version_major": 2,
       "version_minor": 0
      },
      "text/plain": [
       "FloatProgress(value=0.0, bar_style='info', description='Progress:', layout=Layout(height='25px', width='50%'),…"
      ]
     },
     "metadata": {},
     "output_type": "display_data"
    },
    {
     "name": "stdout",
     "output_type": "stream",
     "text": [
      "1456714 23"
     ]
    }
   ],
   "source": [
    "# Number of rows and columns in the dataset\n",
    "print(df.count(), len(df.columns))"
   ]
  },
  {
   "cell_type": "markdown",
   "metadata": {},
   "source": [
    "### Data Exploration and Cleaning"
   ]
  },
  {
   "cell_type": "markdown",
   "metadata": {},
   "source": [
    "#### Dropping columns"
   ]
  },
  {
   "cell_type": "code",
   "execution_count": 9,
   "metadata": {},
   "outputs": [
    {
     "data": {
      "application/vnd.jupyter.widget-view+json": {
       "model_id": "61314379bf55490790254c58eb38d5d3",
       "version_major": 2,
       "version_minor": 0
      },
      "text/plain": [
       "VBox()"
      ]
     },
     "metadata": {},
     "output_type": "display_data"
    },
    {
     "data": {
      "application/vnd.jupyter.widget-view+json": {
       "model_id": "",
       "version_major": 2,
       "version_minor": 0
      },
      "text/plain": [
       "FloatProgress(value=0.0, bar_style='info', description='Progress:', layout=Layout(height='25px', width='50%'),…"
      ]
     },
     "metadata": {},
     "output_type": "display_data"
    },
    {
     "name": "stdout",
     "output_type": "stream",
     "text": [
      "['_c0', 'ID', 'Case Number', 'Date', 'Block', 'IUCR', 'Primary Type', 'Description', 'Location Description', 'Arrest', 'Domestic', 'Beat', 'District', 'Ward', 'Community Area', 'FBI Code', 'X Coordinate', 'Y Coordinate', 'Year', 'Updated On', 'Latitude', 'Longitude', 'Location']"
     ]
    }
   ],
   "source": [
    "# Columns in dataframe\n",
    "df.columns"
   ]
  },
  {
   "cell_type": "code",
   "execution_count": 10,
   "metadata": {
    "scrolled": true
   },
   "outputs": [
    {
     "data": {
      "application/vnd.jupyter.widget-view+json": {
       "model_id": "134bcfbf778349c4a41f78411c1e8453",
       "version_major": 2,
       "version_minor": 0
      },
      "text/plain": [
       "VBox()"
      ]
     },
     "metadata": {},
     "output_type": "display_data"
    },
    {
     "data": {
      "application/vnd.jupyter.widget-view+json": {
       "model_id": "",
       "version_major": 2,
       "version_minor": 0
      },
      "text/plain": [
       "FloatProgress(value=0.0, bar_style='info', description='Progress:', layout=Layout(height='25px', width='50%'),…"
      ]
     },
     "metadata": {},
     "output_type": "display_data"
    }
   ],
   "source": [
    "# Dropping the variables that will not contribute to the final model\n",
    "df = df.drop('_c0', 'Case Number', \"Updated On\")"
   ]
  },
  {
   "cell_type": "code",
   "execution_count": 12,
   "metadata": {
    "scrolled": true
   },
   "outputs": [
    {
     "data": {
      "application/vnd.jupyter.widget-view+json": {
       "model_id": "ee37191aecbe46288d95dfdc21a58070",
       "version_major": 2,
       "version_minor": 0
      },
      "text/plain": [
       "VBox()"
      ]
     },
     "metadata": {},
     "output_type": "display_data"
    },
    {
     "data": {
      "application/vnd.jupyter.widget-view+json": {
       "model_id": "",
       "version_major": 2,
       "version_minor": 0
      },
      "text/plain": [
       "FloatProgress(value=0.0, bar_style='info', description='Progress:', layout=Layout(height='25px', width='50%'),…"
      ]
     },
     "metadata": {},
     "output_type": "display_data"
    },
    {
     "name": "stdout",
     "output_type": "stream",
     "text": [
      "+-------+------+-----+----+------------+-----------+--------------------+------+--------+----+--------+----+--------------+--------+------------+------------+----+--------+---------+--------+\n",
      "|     ID|  Date|Block|IUCR|Primary Type|Description|Location Description|Arrest|Domestic|Beat|District|Ward|Community Area|FBI Code|X Coordinate|Y Coordinate|Year|Latitude|Longitude|Location|\n",
      "+-------+------+-----+----+------------+-----------+--------------------+------+--------+----+--------+----+--------------+--------+------------+------------+----+--------+---------+--------+\n",
      "|1456714|582146|32774| 365|          33|        342|                 142|     2|       2| 302|      24|  50|            78|      26|       67714|      111555|   6|  368076|   367942|  368286|\n",
      "+-------+------+-----+----+------------+-----------+--------------------+------+--------+----+--------+----+--------------+--------+------------+------------+----+--------+---------+--------+"
     ]
    }
   ],
   "source": [
    "# Checking the number distinct values in each attribute\n",
    "from pyspark.sql.functions import col, countDistinct\n",
    "df.agg(*(countDistinct(col(c)).alias(c) for c in df.columns)).show()"
   ]
  },
  {
   "cell_type": "code",
   "execution_count": 13,
   "metadata": {},
   "outputs": [
    {
     "data": {
      "application/vnd.jupyter.widget-view+json": {
       "model_id": "d1fc114b43f74ab184cd9d6dd862b263",
       "version_major": 2,
       "version_minor": 0
      },
      "text/plain": [
       "VBox()"
      ]
     },
     "metadata": {},
     "output_type": "display_data"
    },
    {
     "data": {
      "application/vnd.jupyter.widget-view+json": {
       "model_id": "",
       "version_major": 2,
       "version_minor": 0
      },
      "text/plain": [
       "FloatProgress(value=0.0, bar_style='info', description='Progress:', layout=Layout(height='25px', width='50%'),…"
      ]
     },
     "metadata": {},
     "output_type": "display_data"
    }
   ],
   "source": [
    "# Variables associated with location:\n",
    "# \"Block\", \"Beat\", \"District\", \"Ward\", \"Community Area\", \"X Coordinate\", \"Y Coordinate\", \"Latitude\", \"Longitude\", \"Location\"\n",
    "# Dropping redundant variables\n",
    "df = df.drop(\"Block\", \"Beat\", \"Ward\", \"Community Area\", \"Location\")"
   ]
  },
  {
   "cell_type": "code",
   "execution_count": 14,
   "metadata": {
    "scrolled": false
   },
   "outputs": [
    {
     "data": {
      "application/vnd.jupyter.widget-view+json": {
       "model_id": "444f159a8eb64c7abe64a33b3213d2cc",
       "version_major": 2,
       "version_minor": 0
      },
      "text/plain": [
       "VBox()"
      ]
     },
     "metadata": {},
     "output_type": "display_data"
    },
    {
     "data": {
      "application/vnd.jupyter.widget-view+json": {
       "model_id": "",
       "version_major": 2,
       "version_minor": 0
      },
      "text/plain": [
       "FloatProgress(value=0.0, bar_style='info', description='Progress:', layout=Layout(height='25px', width='50%'),…"
      ]
     },
     "metadata": {},
     "output_type": "display_data"
    }
   ],
   "source": [
    "# Variables associated with the crime type:\n",
    "# \"IUCR\", \"Primary Type\", \"Description\"\n",
    "df = df.drop(\"IUCR\", \"Description\")"
   ]
  },
  {
   "cell_type": "code",
   "execution_count": 15,
   "metadata": {},
   "outputs": [
    {
     "data": {
      "application/vnd.jupyter.widget-view+json": {
       "model_id": "a3ef668937bb4b50853be7595e95bd47",
       "version_major": 2,
       "version_minor": 0
      },
      "text/plain": [
       "VBox()"
      ]
     },
     "metadata": {},
     "output_type": "display_data"
    },
    {
     "data": {
      "application/vnd.jupyter.widget-view+json": {
       "model_id": "",
       "version_major": 2,
       "version_minor": 0
      },
      "text/plain": [
       "FloatProgress(value=0.0, bar_style='info', description='Progress:', layout=Layout(height='25px', width='50%'),…"
      ]
     },
     "metadata": {},
     "output_type": "display_data"
    },
    {
     "name": "stdout",
     "output_type": "stream",
     "text": [
      "1456714 13"
     ]
    }
   ],
   "source": [
    "# Columns and rows in the update dataFrame\n",
    "print(df.count(), len(df.columns))"
   ]
  },
  {
   "cell_type": "markdown",
   "metadata": {},
   "source": [
    "#### Handling null values"
   ]
  },
  {
   "cell_type": "code",
   "execution_count": 17,
   "metadata": {
    "scrolled": true
   },
   "outputs": [
    {
     "data": {
      "application/vnd.jupyter.widget-view+json": {
       "model_id": "5db77932f38b4df682a469b30d2023a7",
       "version_major": 2,
       "version_minor": 0
      },
      "text/plain": [
       "VBox()"
      ]
     },
     "metadata": {},
     "output_type": "display_data"
    },
    {
     "data": {
      "application/vnd.jupyter.widget-view+json": {
       "model_id": "",
       "version_major": 2,
       "version_minor": 0
      },
      "text/plain": [
       "FloatProgress(value=0.0, bar_style='info', description='Progress:', layout=Layout(height='25px', width='50%'),…"
      ]
     },
     "metadata": {},
     "output_type": "display_data"
    },
    {
     "name": "stdout",
     "output_type": "stream",
     "text": [
      "+---+----+------------+--------------------+------+--------+--------+--------+------------+------------+----+--------+---------+\n",
      "| ID|Date|Primary Type|Location Description|Arrest|Domestic|District|FBI Code|X Coordinate|Y Coordinate|Year|Latitude|Longitude|\n",
      "+---+----+------------+--------------------+------+--------+--------+--------+------------+------------+----+--------+---------+\n",
      "|  0|   0|           0|                1658|     0|       0|       1|       0|       37083|       37083|   0|   37083|    37083|\n",
      "+---+----+------------+--------------------+------+--------+--------+--------+------------+------------+----+--------+---------+"
     ]
    }
   ],
   "source": [
    "# Counting the number of null values in each column\n",
    "from pyspark.sql.functions import when, count, col, isnull\n",
    "df.select([count(when(isnull(c), c)).alias(c) for c in df.columns]).show()"
   ]
  },
  {
   "cell_type": "code",
   "execution_count": 18,
   "metadata": {
    "scrolled": false
   },
   "outputs": [
    {
     "data": {
      "application/vnd.jupyter.widget-view+json": {
       "model_id": "a0d03e58d7054b8094be4ce5864ba939",
       "version_major": 2,
       "version_minor": 0
      },
      "text/plain": [
       "VBox()"
      ]
     },
     "metadata": {},
     "output_type": "display_data"
    },
    {
     "data": {
      "application/vnd.jupyter.widget-view+json": {
       "model_id": "",
       "version_major": 2,
       "version_minor": 0
      },
      "text/plain": [
       "FloatProgress(value=0.0, bar_style='info', description='Progress:', layout=Layout(height='25px', width='50%'),…"
      ]
     },
     "metadata": {},
     "output_type": "display_data"
    }
   ],
   "source": [
    "# Dropping the rows with null values\n",
    "df = df.na.drop()"
   ]
  },
  {
   "cell_type": "code",
   "execution_count": 19,
   "metadata": {},
   "outputs": [
    {
     "data": {
      "application/vnd.jupyter.widget-view+json": {
       "model_id": "79d45ad314c64aa4ab634fc0062eabb8",
       "version_major": 2,
       "version_minor": 0
      },
      "text/plain": [
       "VBox()"
      ]
     },
     "metadata": {},
     "output_type": "display_data"
    },
    {
     "data": {
      "application/vnd.jupyter.widget-view+json": {
       "model_id": "",
       "version_major": 2,
       "version_minor": 0
      },
      "text/plain": [
       "FloatProgress(value=0.0, bar_style='info', description='Progress:', layout=Layout(height='25px', width='50%'),…"
      ]
     },
     "metadata": {},
     "output_type": "display_data"
    },
    {
     "name": "stdout",
     "output_type": "stream",
     "text": [
      "+---+----+------------+--------------------+------+--------+--------+--------+------------+------------+----+--------+---------+\n",
      "| ID|Date|Primary Type|Location Description|Arrest|Domestic|District|FBI Code|X Coordinate|Y Coordinate|Year|Latitude|Longitude|\n",
      "+---+----+------------+--------------------+------+--------+--------+--------+------------+------------+----+--------+---------+\n",
      "|  0|   0|           0|                   0|     0|       0|       0|       0|           0|           0|   0|       0|        0|\n",
      "+---+----+------------+--------------------+------+--------+--------+--------+------------+------------+----+--------+---------+"
     ]
    }
   ],
   "source": [
    "# Check if the null values are dropped\n",
    "df.select([count(when(isnull(c), c)).alias(c) for c in df.columns]).show()"
   ]
  },
  {
   "cell_type": "markdown",
   "metadata": {},
   "source": [
    "#### Correction in column type"
   ]
  },
  {
   "cell_type": "code",
   "execution_count": 20,
   "metadata": {
    "scrolled": false
   },
   "outputs": [
    {
     "data": {
      "application/vnd.jupyter.widget-view+json": {
       "model_id": "c11bee3cc7b24a328f463921a104fb5c",
       "version_major": 2,
       "version_minor": 0
      },
      "text/plain": [
       "VBox()"
      ]
     },
     "metadata": {},
     "output_type": "display_data"
    },
    {
     "data": {
      "application/vnd.jupyter.widget-view+json": {
       "model_id": "",
       "version_major": 2,
       "version_minor": 0
      },
      "text/plain": [
       "FloatProgress(value=0.0, bar_style='info', description='Progress:', layout=Layout(height='25px', width='50%'),…"
      ]
     },
     "metadata": {},
     "output_type": "display_data"
    },
    {
     "name": "stdout",
     "output_type": "stream",
     "text": [
      "[('ID', 'string'), ('Date', 'string'), ('Primary Type', 'string'), ('Location Description', 'string'), ('Arrest', 'string'), ('Domestic', 'string'), ('District', 'string'), ('FBI Code', 'string'), ('X Coordinate', 'string'), ('Y Coordinate', 'string'), ('Year', 'string'), ('Latitude', 'string'), ('Longitude', 'string')]"
     ]
    }
   ],
   "source": [
    "# Column type\n",
    "df.dtypes"
   ]
  },
  {
   "cell_type": "code",
   "execution_count": 21,
   "metadata": {
    "scrolled": false
   },
   "outputs": [
    {
     "data": {
      "application/vnd.jupyter.widget-view+json": {
       "model_id": "4feb667d347b43cab1ffb1ec4c787766",
       "version_major": 2,
       "version_minor": 0
      },
      "text/plain": [
       "VBox()"
      ]
     },
     "metadata": {},
     "output_type": "display_data"
    },
    {
     "data": {
      "application/vnd.jupyter.widget-view+json": {
       "model_id": "",
       "version_major": 2,
       "version_minor": 0
      },
      "text/plain": [
       "FloatProgress(value=0.0, bar_style='info', description='Progress:', layout=Layout(height='25px', width='50%'),…"
      ]
     },
     "metadata": {},
     "output_type": "display_data"
    }
   ],
   "source": [
    "# Changing the type of column Date to timestamp\n",
    "from pyspark.sql.functions import to_timestamp\n",
    "df = df.withColumn('Date_Time', to_timestamp('Date', 'MM/dd/yyy HH:mm:ss'))"
   ]
  },
  {
   "cell_type": "code",
   "execution_count": 23,
   "metadata": {
    "scrolled": false
   },
   "outputs": [
    {
     "data": {
      "application/vnd.jupyter.widget-view+json": {
       "model_id": "9596cdcef2644751bb40b415969e47f7",
       "version_major": 2,
       "version_minor": 0
      },
      "text/plain": [
       "VBox()"
      ]
     },
     "metadata": {},
     "output_type": "display_data"
    },
    {
     "data": {
      "application/vnd.jupyter.widget-view+json": {
       "model_id": "",
       "version_major": 2,
       "version_minor": 0
      },
      "text/plain": [
       "FloatProgress(value=0.0, bar_style='info', description='Progress:', layout=Layout(height='25px', width='50%'),…"
      ]
     },
     "metadata": {},
     "output_type": "display_data"
    }
   ],
   "source": [
    "# Extracting 'hour' from the dataset\n",
    "from pyspark.sql.functions import hour\n",
    "df = df.withColumn('hour', hour(df['Date_Time']))"
   ]
  },
  {
   "cell_type": "code",
   "execution_count": 26,
   "metadata": {
    "scrolled": true
   },
   "outputs": [
    {
     "data": {
      "application/vnd.jupyter.widget-view+json": {
       "model_id": "05d1597bda8b4b7eb2e81281eb4ab965",
       "version_major": 2,
       "version_minor": 0
      },
      "text/plain": [
       "VBox()"
      ]
     },
     "metadata": {},
     "output_type": "display_data"
    },
    {
     "data": {
      "application/vnd.jupyter.widget-view+json": {
       "model_id": "",
       "version_major": 2,
       "version_minor": 0
      },
      "text/plain": [
       "FloatProgress(value=0.0, bar_style='info', description='Progress:', layout=Layout(height='25px', width='50%'),…"
      ]
     },
     "metadata": {},
     "output_type": "display_data"
    }
   ],
   "source": [
    "# Dropping the columns: Date, Date_Time\n",
    "df = df.drop('Date', 'Date_Time')"
   ]
  },
  {
   "cell_type": "code",
   "execution_count": 27,
   "metadata": {
    "scrolled": false
   },
   "outputs": [
    {
     "data": {
      "application/vnd.jupyter.widget-view+json": {
       "model_id": "4c2545287f3147bdb26ba78c36626d6a",
       "version_major": 2,
       "version_minor": 0
      },
      "text/plain": [
       "VBox()"
      ]
     },
     "metadata": {},
     "output_type": "display_data"
    },
    {
     "data": {
      "application/vnd.jupyter.widget-view+json": {
       "model_id": "",
       "version_major": 2,
       "version_minor": 0
      },
      "text/plain": [
       "FloatProgress(value=0.0, bar_style='info', description='Progress:', layout=Layout(height='25px', width='50%'),…"
      ]
     },
     "metadata": {},
     "output_type": "display_data"
    },
    {
     "name": "stdout",
     "output_type": "stream",
     "text": [
      "[('ID', 'string'), ('Primary Type', 'string'), ('Location Description', 'string'), ('Arrest', 'string'), ('Domestic', 'string'), ('District', 'string'), ('FBI Code', 'string'), ('X Coordinate', 'string'), ('Y Coordinate', 'string'), ('Year', 'string'), ('Latitude', 'string'), ('Longitude', 'string'), ('hour', 'int')]"
     ]
    }
   ],
   "source": [
    "# Column type\n",
    "df.dtypes"
   ]
  },
  {
   "cell_type": "code",
   "execution_count": 30,
   "metadata": {},
   "outputs": [
    {
     "data": {
      "application/vnd.jupyter.widget-view+json": {
       "model_id": "6b0bff246a34422397a78e1820dadd9b",
       "version_major": 2,
       "version_minor": 0
      },
      "text/plain": [
       "VBox()"
      ]
     },
     "metadata": {},
     "output_type": "display_data"
    },
    {
     "data": {
      "application/vnd.jupyter.widget-view+json": {
       "model_id": "",
       "version_major": 2,
       "version_minor": 0
      },
      "text/plain": [
       "FloatProgress(value=0.0, bar_style='info', description='Progress:', layout=Layout(height='25px', width='50%'),…"
      ]
     },
     "metadata": {},
     "output_type": "display_data"
    }
   ],
   "source": [
    "# Changing the required columns from string type to numerical \n",
    "from pyspark.sql.types import FloatType, IntegerType\n",
    "\n",
    "df = df.withColumn('X Coordinate', df['X Coordinate'].cast(FloatType()))\n",
    "df = df.withColumn('Y Coordinate', df['Y Coordinate'].cast(FloatType()))\n",
    "df = df.withColumn('Latitude', df['Latitude'].cast(FloatType()))\n",
    "df = df.withColumn('Longitude', df['Longitude'].cast(FloatType()))\n",
    "df = df.withColumn('Year', df['Year'].cast(IntegerType()))"
   ]
  },
  {
   "cell_type": "code",
   "execution_count": 31,
   "metadata": {
    "scrolled": true
   },
   "outputs": [
    {
     "data": {
      "application/vnd.jupyter.widget-view+json": {
       "model_id": "ae6831f185dd4e93874a95a6918118e9",
       "version_major": 2,
       "version_minor": 0
      },
      "text/plain": [
       "VBox()"
      ]
     },
     "metadata": {},
     "output_type": "display_data"
    },
    {
     "data": {
      "application/vnd.jupyter.widget-view+json": {
       "model_id": "",
       "version_major": 2,
       "version_minor": 0
      },
      "text/plain": [
       "FloatProgress(value=0.0, bar_style='info', description='Progress:', layout=Layout(height='25px', width='50%'),…"
      ]
     },
     "metadata": {},
     "output_type": "display_data"
    },
    {
     "name": "stdout",
     "output_type": "stream",
     "text": [
      "[('ID', 'string'), ('Primary Type', 'string'), ('Location Description', 'string'), ('Arrest', 'string'), ('Domestic', 'string'), ('District', 'string'), ('FBI Code', 'string'), ('X Coordinate', 'float'), ('Y Coordinate', 'float'), ('Year', 'int'), ('Latitude', 'float'), ('Longitude', 'float'), ('hour', 'int')]"
     ]
    }
   ],
   "source": [
    "# Checking the data type of each column\n",
    "df.dtypes"
   ]
  },
  {
   "cell_type": "markdown",
   "metadata": {},
   "source": [
    "#### Exploring the target variable"
   ]
  },
  {
   "cell_type": "code",
   "execution_count": 32,
   "metadata": {
    "scrolled": false
   },
   "outputs": [
    {
     "data": {
      "application/vnd.jupyter.widget-view+json": {
       "model_id": "2d966856713a4bd9b78d0fa52c154f4b",
       "version_major": 2,
       "version_minor": 0
      },
      "text/plain": [
       "VBox()"
      ]
     },
     "metadata": {},
     "output_type": "display_data"
    },
    {
     "data": {
      "application/vnd.jupyter.widget-view+json": {
       "model_id": "",
       "version_major": 2,
       "version_minor": 0
      },
      "text/plain": [
       "FloatProgress(value=0.0, bar_style='info', description='Progress:', layout=Layout(height='25px', width='50%'),…"
      ]
     },
     "metadata": {},
     "output_type": "display_data"
    },
    {
     "name": "stdout",
     "output_type": "stream",
     "text": [
      "[Row(FBI Code='06', count=321960), Row(FBI Code='08B', count=222988), Row(FBI Code='14', count=152816), Row(FBI Code='26', count=134437), Row(FBI Code='18', count=125762), Row(FBI Code='05', count=81671), Row(FBI Code='08A', count=66801), Row(FBI Code='07', count=59858), Row(FBI Code='11', count=59250), Row(FBI Code='03', count=56093), Row(FBI Code='04B', count=35956), Row(FBI Code='04A', count=23380), Row(FBI Code='24', count=17080), Row(FBI Code='15', count=17070), Row(FBI Code='10', count=7783), Row(FBI Code='16', count=7585), Row(FBI Code='02', count=6756), Row(FBI Code='20', count=6303), Row(FBI Code='17', count=5387), Row(FBI Code='01A', count=2578), Row(FBI Code='19', count=2214), Row(FBI Code='09', count=2158), Row(FBI Code='22', count=1928), Row(FBI Code='13', count=393), Row(FBI Code='12', count=185), Row(FBI Code='01B', count=12)]"
     ]
    }
   ],
   "source": [
    "# Spread of data in FBI Code\n",
    "df.groupBy('FBI Code').count().orderBy(\"count\", ascending=False).collect()"
   ]
  },
  {
   "cell_type": "code",
   "execution_count": 33,
   "metadata": {
    "scrolled": false
   },
   "outputs": [
    {
     "data": {
      "application/vnd.jupyter.widget-view+json": {
       "model_id": "5da5e005a0c9429891ef2c6e15cb60b2",
       "version_major": 2,
       "version_minor": 0
      },
      "text/plain": [
       "VBox()"
      ]
     },
     "metadata": {},
     "output_type": "display_data"
    },
    {
     "data": {
      "application/vnd.jupyter.widget-view+json": {
       "model_id": "",
       "version_major": 2,
       "version_minor": 0
      },
      "text/plain": [
       "FloatProgress(value=0.0, bar_style='info', description='Progress:', layout=Layout(height='25px', width='50%'),…"
      ]
     },
     "metadata": {},
     "output_type": "display_data"
    },
    {
     "name": "stdout",
     "output_type": "stream",
     "text": [
      "   FBI Code   count\n",
      "0        06  321960\n",
      "1       08B  222988\n",
      "2        14  152816\n",
      "3        26  134437\n",
      "4        18  125762\n",
      "5        05   81671\n",
      "6       08A   66801\n",
      "7        07   59858\n",
      "8        11   59250\n",
      "9        03   56093\n",
      "10      04B   35956\n",
      "11      04A   23380\n",
      "12       24   17080\n",
      "13       15   17070\n",
      "14       10    7783\n",
      "15       16    7585\n",
      "16       02    6756\n",
      "17       20    6303\n",
      "18       17    5387\n",
      "19      01A    2578\n",
      "20       19    2214\n",
      "21       09    2158\n",
      "22       22    1928\n",
      "23       13     393\n",
      "24       12     185\n",
      "25      01B      12"
     ]
    }
   ],
   "source": [
    "# Storing in a pandas dataframe for visualisation\n",
    "fbi_df = df.groupBy('FBI Code').count().orderBy(\"count\", ascending=False).toPandas()\n",
    "print(fbi_df)"
   ]
  },
  {
   "cell_type": "code",
   "execution_count": 38,
   "metadata": {},
   "outputs": [
    {
     "data": {
      "application/vnd.jupyter.widget-view+json": {
       "model_id": "3a86769e9aeb43ae8fa4ce768e8c6bd6",
       "version_major": 2,
       "version_minor": 0
      },
      "text/plain": [
       "VBox()"
      ]
     },
     "metadata": {},
     "output_type": "display_data"
    },
    {
     "data": {
      "application/vnd.jupyter.widget-view+json": {
       "model_id": "",
       "version_major": 2,
       "version_minor": 0
      },
      "text/plain": [
       "FloatProgress(value=0.0, bar_style='info', description='Progress:', layout=Layout(height='25px', width='50%'),…"
      ]
     },
     "metadata": {},
     "output_type": "display_data"
    },
    {
     "name": "stderr",
     "output_type": "stream",
     "text": [
      "Package already installed for current Spark context!\n",
      "Traceback (most recent call last):\n",
      "  File \"/usr/lib/spark/python/lib/pyspark.zip/pyspark/context.py\", line 1110, in install_pypi_package\n",
      "    raise ValueError(\"Package already installed for current Spark context!\")\n",
      "ValueError: Package already installed for current Spark context!\n",
      "\n"
     ]
    }
   ],
   "source": [
    "spark.sparkContext.install_pypi_package(\"numpy==1.15\")"
   ]
  },
  {
   "cell_type": "code",
   "execution_count": 39,
   "metadata": {},
   "outputs": [
    {
     "data": {
      "application/vnd.jupyter.widget-view+json": {
       "model_id": "9b09187c7459485bbe1cd4216246b485",
       "version_major": 2,
       "version_minor": 0
      },
      "text/plain": [
       "VBox()"
      ]
     },
     "metadata": {},
     "output_type": "display_data"
    },
    {
     "data": {
      "application/vnd.jupyter.widget-view+json": {
       "model_id": "",
       "version_major": 2,
       "version_minor": 0
      },
      "text/plain": [
       "FloatProgress(value=0.0, bar_style='info', description='Progress:', layout=Layout(height='25px', width='50%'),…"
      ]
     },
     "metadata": {},
     "output_type": "display_data"
    },
    {
     "name": "stderr",
     "output_type": "stream",
     "text": [
      "Matplotlib requires numpy>=1.15; you have 1.14.5\n",
      "Traceback (most recent call last):\n",
      "  File \"/tmp/1638805827415-0/local/lib64/python3.6/site-packages/matplotlib/__init__.py\", line 174, in <module>\n",
      "    _check_versions()\n",
      "  File \"/tmp/1638805827415-0/local/lib64/python3.6/site-packages/matplotlib/__init__.py\", line 171, in _check_versions\n",
      "    .format(modname, minver, module.__version__))\n",
      "ImportError: Matplotlib requires numpy>=1.15; you have 1.14.5\n",
      "\n"
     ]
    }
   ],
   "source": [
    "# import matplot lib \n",
    "import matplotlib.pyplot as plt"
   ]
  },
  {
   "cell_type": "code",
   "execution_count": null,
   "metadata": {},
   "outputs": [],
   "source": [
    "# create the plot\n",
    "\n",
    "\n",
    "# display the plot\n",
    "%matplot plt"
   ]
  },
  {
   "cell_type": "markdown",
   "metadata": {},
   "source": [
    "### Model Building"
   ]
  },
  {
   "cell_type": "code",
   "execution_count": 40,
   "metadata": {
    "scrolled": false
   },
   "outputs": [
    {
     "data": {
      "application/vnd.jupyter.widget-view+json": {
       "model_id": "4da0442342c04fd780158fd109c33fa7",
       "version_major": 2,
       "version_minor": 0
      },
      "text/plain": [
       "VBox()"
      ]
     },
     "metadata": {},
     "output_type": "display_data"
    },
    {
     "data": {
      "application/vnd.jupyter.widget-view+json": {
       "model_id": "",
       "version_major": 2,
       "version_minor": 0
      },
      "text/plain": [
       "FloatProgress(value=0.0, bar_style='info', description='Progress:', layout=Layout(height='25px', width='50%'),…"
      ]
     },
     "metadata": {},
     "output_type": "display_data"
    }
   ],
   "source": [
    "# Storing the cleaned df in a copy variable\n",
    "df_copy = df"
   ]
  },
  {
   "cell_type": "code",
   "execution_count": 41,
   "metadata": {},
   "outputs": [
    {
     "data": {
      "application/vnd.jupyter.widget-view+json": {
       "model_id": "1a4b3c827b534ad1a4eafe9625826fdc",
       "version_major": 2,
       "version_minor": 0
      },
      "text/plain": [
       "VBox()"
      ]
     },
     "metadata": {},
     "output_type": "display_data"
    },
    {
     "data": {
      "application/vnd.jupyter.widget-view+json": {
       "model_id": "",
       "version_major": 2,
       "version_minor": 0
      },
      "text/plain": [
       "FloatProgress(value=0.0, bar_style='info', description='Progress:', layout=Layout(height='25px', width='50%'),…"
      ]
     },
     "metadata": {},
     "output_type": "display_data"
    },
    {
     "name": "stdout",
     "output_type": "stream",
     "text": [
      "['ID', 'Primary Type', 'Location Description', 'Arrest', 'Domestic', 'District', 'FBI Code', 'X Coordinate', 'Y Coordinate', 'Year', 'Latitude', 'Longitude', 'hour']"
     ]
    }
   ],
   "source": [
    "#  Columns in the dataframe\n",
    "df.columns"
   ]
  },
  {
   "cell_type": "code",
   "execution_count": 42,
   "metadata": {
    "scrolled": false
   },
   "outputs": [
    {
     "data": {
      "application/vnd.jupyter.widget-view+json": {
       "model_id": "c6f530677026437195d5f472fdc977a2",
       "version_major": 2,
       "version_minor": 0
      },
      "text/plain": [
       "VBox()"
      ]
     },
     "metadata": {},
     "output_type": "display_data"
    },
    {
     "data": {
      "application/vnd.jupyter.widget-view+json": {
       "model_id": "",
       "version_major": 2,
       "version_minor": 0
      },
      "text/plain": [
       "FloatProgress(value=0.0, bar_style='info', description='Progress:', layout=Layout(height='25px', width='50%'),…"
      ]
     },
     "metadata": {},
     "output_type": "display_data"
    }
   ],
   "source": [
    "# Storing the categorical and continuous columns in different lists\n",
    "categorical_features = ['Primary Type', 'Location Description', 'Arrest', 'Domestic', 'District', 'hour']\n",
    "continuous_features = ['X Coordinate', 'Y Coordinate', 'Year', 'Latitude', 'Longitude']"
   ]
  },
  {
   "cell_type": "code",
   "execution_count": 44,
   "metadata": {},
   "outputs": [
    {
     "data": {
      "application/vnd.jupyter.widget-view+json": {
       "model_id": "8516b7060fec4e848253d23501c6561c",
       "version_major": 2,
       "version_minor": 0
      },
      "text/plain": [
       "VBox()"
      ]
     },
     "metadata": {},
     "output_type": "display_data"
    },
    {
     "data": {
      "application/vnd.jupyter.widget-view+json": {
       "model_id": "",
       "version_major": 2,
       "version_minor": 0
      },
      "text/plain": [
       "FloatProgress(value=0.0, bar_style='info', description='Progress:', layout=Layout(height='25px', width='50%'),…"
      ]
     },
     "metadata": {},
     "output_type": "display_data"
    }
   ],
   "source": [
    "# Importing the libraries for data transormation\n",
    "from pyspark.ml.feature import OneHotEncoderEstimator, StringIndexer, VectorAssembler\n"
   ]
  },
  {
   "cell_type": "code",
   "execution_count": 45,
   "metadata": {},
   "outputs": [
    {
     "data": {
      "application/vnd.jupyter.widget-view+json": {
       "model_id": "742020e3b9af4503a1a158b3cd93520c",
       "version_major": 2,
       "version_minor": 0
      },
      "text/plain": [
       "VBox()"
      ]
     },
     "metadata": {},
     "output_type": "display_data"
    },
    {
     "data": {
      "application/vnd.jupyter.widget-view+json": {
       "model_id": "",
       "version_major": 2,
       "version_minor": 0
      },
      "text/plain": [
       "FloatProgress(value=0.0, bar_style='info', description='Progress:', layout=Layout(height='25px', width='50%'),…"
      ]
     },
     "metadata": {},
     "output_type": "display_data"
    }
   ],
   "source": [
    "# Initialising the variable 'stages' to store every step for building a pipeline\n",
    "stages = []"
   ]
  },
  {
   "cell_type": "code",
   "execution_count": 46,
   "metadata": {},
   "outputs": [
    {
     "data": {
      "application/vnd.jupyter.widget-view+json": {
       "model_id": "87599aa4b71d4d4abcbae1dbcb8d8859",
       "version_major": 2,
       "version_minor": 0
      },
      "text/plain": [
       "VBox()"
      ]
     },
     "metadata": {},
     "output_type": "display_data"
    },
    {
     "data": {
      "application/vnd.jupyter.widget-view+json": {
       "model_id": "",
       "version_major": 2,
       "version_minor": 0
      },
      "text/plain": [
       "FloatProgress(value=0.0, bar_style='info', description='Progress:', layout=Layout(height='25px', width='50%'),…"
      ]
     },
     "metadata": {},
     "output_type": "display_data"
    }
   ],
   "source": [
    "# Building a function for encoding all the categorical variables\n",
    "for categoricalCol in categorical_features:\n",
    "    stringIndexer= StringIndexer(inputCol = categoricalCol, outputCol=categoricalCol+'Index')\n",
    "    encoder = OneHotEncoderEstimator(inputCols = [stringIndexer.getOutputCol()], outputCols = [categoricalCol+'classVec'])\n",
    "    stages += [stringIndexer, encoder]"
   ]
  },
  {
   "cell_type": "code",
   "execution_count": 47,
   "metadata": {
    "scrolled": true
   },
   "outputs": [
    {
     "data": {
      "application/vnd.jupyter.widget-view+json": {
       "model_id": "330d1f848b3a494ca60c475788f6de0a",
       "version_major": 2,
       "version_minor": 0
      },
      "text/plain": [
       "VBox()"
      ]
     },
     "metadata": {},
     "output_type": "display_data"
    },
    {
     "data": {
      "application/vnd.jupyter.widget-view+json": {
       "model_id": "",
       "version_major": 2,
       "version_minor": 0
      },
      "text/plain": [
       "FloatProgress(value=0.0, bar_style='info', description='Progress:', layout=Layout(height='25px', width='50%'),…"
      ]
     },
     "metadata": {},
     "output_type": "display_data"
    }
   ],
   "source": [
    "# Encoding the target variable as label\n",
    "label_stringIdx = StringIndexer(inputCol = 'FBI Code', outputCol = 'label')\n",
    "stages += [label_stringIdx]"
   ]
  },
  {
   "cell_type": "code",
   "execution_count": 48,
   "metadata": {},
   "outputs": [
    {
     "data": {
      "application/vnd.jupyter.widget-view+json": {
       "model_id": "3c57d573aa0048ef97d7cf789fd6ab1f",
       "version_major": 2,
       "version_minor": 0
      },
      "text/plain": [
       "VBox()"
      ]
     },
     "metadata": {},
     "output_type": "display_data"
    },
    {
     "data": {
      "application/vnd.jupyter.widget-view+json": {
       "model_id": "",
       "version_major": 2,
       "version_minor": 0
      },
      "text/plain": [
       "FloatProgress(value=0.0, bar_style='info', description='Progress:', layout=Layout(height='25px', width='50%'),…"
      ]
     },
     "metadata": {},
     "output_type": "display_data"
    }
   ],
   "source": [
    "# Building a function for generating a vector of all features\n",
    "assemblerInputs = [c + 'classVec' for c in categorical_features]+ continuous_features\n",
    "assembler = VectorAssembler(inputCols = assemblerInputs, outputCol= 'features')\n",
    "stages += [assembler]"
   ]
  },
  {
   "cell_type": "code",
   "execution_count": 49,
   "metadata": {},
   "outputs": [
    {
     "data": {
      "application/vnd.jupyter.widget-view+json": {
       "model_id": "c524e887d39f4228878edb4805878c1d",
       "version_major": 2,
       "version_minor": 0
      },
      "text/plain": [
       "VBox()"
      ]
     },
     "metadata": {},
     "output_type": "display_data"
    },
    {
     "data": {
      "application/vnd.jupyter.widget-view+json": {
       "model_id": "",
       "version_major": 2,
       "version_minor": 0
      },
      "text/plain": [
       "FloatProgress(value=0.0, bar_style='info', description='Progress:', layout=Layout(height='25px', width='50%'),…"
      ]
     },
     "metadata": {},
     "output_type": "display_data"
    }
   ],
   "source": [
    "# Loading all the steps in a pipeline\n",
    "from pyspark.ml import Pipeline\n",
    "pipeline = Pipeline(stages = stages)"
   ]
  },
  {
   "cell_type": "code",
   "execution_count": 50,
   "metadata": {
    "scrolled": true
   },
   "outputs": [
    {
     "data": {
      "application/vnd.jupyter.widget-view+json": {
       "model_id": "389facce999d412194f2e93180c3616e",
       "version_major": 2,
       "version_minor": 0
      },
      "text/plain": [
       "VBox()"
      ]
     },
     "metadata": {},
     "output_type": "display_data"
    },
    {
     "data": {
      "application/vnd.jupyter.widget-view+json": {
       "model_id": "",
       "version_major": 2,
       "version_minor": 0
      },
      "text/plain": [
       "FloatProgress(value=0.0, bar_style='info', description='Progress:', layout=Layout(height='25px', width='50%'),…"
      ]
     },
     "metadata": {},
     "output_type": "display_data"
    }
   ],
   "source": [
    "# Fitting the steps on the dataFrame\n",
    "pipelineModel = pipeline.fit(df)"
   ]
  },
  {
   "cell_type": "code",
   "execution_count": 51,
   "metadata": {
    "scrolled": false
   },
   "outputs": [
    {
     "data": {
      "application/vnd.jupyter.widget-view+json": {
       "model_id": "6f337bd9ce7b40fc9d0bfc202b7ce89c",
       "version_major": 2,
       "version_minor": 0
      },
      "text/plain": [
       "VBox()"
      ]
     },
     "metadata": {},
     "output_type": "display_data"
    },
    {
     "data": {
      "application/vnd.jupyter.widget-view+json": {
       "model_id": "",
       "version_major": 2,
       "version_minor": 0
      },
      "text/plain": [
       "FloatProgress(value=0.0, bar_style='info', description='Progress:', layout=Layout(height='25px', width='50%'),…"
      ]
     },
     "metadata": {},
     "output_type": "display_data"
    }
   ],
   "source": [
    "# Transforming the dataframe\n",
    "df = pipelineModel.transform(df)"
   ]
  },
  {
   "cell_type": "code",
   "execution_count": 52,
   "metadata": {
    "scrolled": true
   },
   "outputs": [
    {
     "data": {
      "application/vnd.jupyter.widget-view+json": {
       "model_id": "b78c3997cd76432a9bea10749abb1aa2",
       "version_major": 2,
       "version_minor": 0
      },
      "text/plain": [
       "VBox()"
      ]
     },
     "metadata": {},
     "output_type": "display_data"
    },
    {
     "data": {
      "application/vnd.jupyter.widget-view+json": {
       "model_id": "",
       "version_major": 2,
       "version_minor": 0
      },
      "text/plain": [
       "FloatProgress(value=0.0, bar_style='info', description='Progress:', layout=Layout(height='25px', width='50%'),…"
      ]
     },
     "metadata": {},
     "output_type": "display_data"
    },
    {
     "name": "stdout",
     "output_type": "stream",
     "text": [
      "root\n",
      " |-- ID: string (nullable = true)\n",
      " |-- Primary Type: string (nullable = true)\n",
      " |-- Location Description: string (nullable = true)\n",
      " |-- Arrest: string (nullable = true)\n",
      " |-- Domestic: string (nullable = true)\n",
      " |-- District: string (nullable = true)\n",
      " |-- FBI Code: string (nullable = true)\n",
      " |-- X Coordinate: float (nullable = true)\n",
      " |-- Y Coordinate: float (nullable = true)\n",
      " |-- Year: integer (nullable = true)\n",
      " |-- Latitude: float (nullable = true)\n",
      " |-- Longitude: float (nullable = true)\n",
      " |-- hour: integer (nullable = true)\n",
      " |-- Primary TypeIndex: double (nullable = false)\n",
      " |-- Primary TypeclassVec: vector (nullable = true)\n",
      " |-- Location DescriptionIndex: double (nullable = false)\n",
      " |-- Location DescriptionclassVec: vector (nullable = true)\n",
      " |-- ArrestIndex: double (nullable = false)\n",
      " |-- ArrestclassVec: vector (nullable = true)\n",
      " |-- DomesticIndex: double (nullable = false)\n",
      " |-- DomesticclassVec: vector (nullable = true)\n",
      " |-- DistrictIndex: double (nullable = false)\n",
      " |-- DistrictclassVec: vector (nullable = true)\n",
      " |-- hourIndex: double (nullable = false)\n",
      " |-- hourclassVec: vector (nullable = true)\n",
      " |-- label: double (nullable = false)\n",
      " |-- features: vector (nullable = true)"
     ]
    }
   ],
   "source": [
    "# Checking the transformed dataFrame\n",
    "df.printSchema()"
   ]
  },
  {
   "cell_type": "markdown",
   "metadata": {},
   "source": [
    "### Model Fitting"
   ]
  },
  {
   "cell_type": "code",
   "execution_count": 53,
   "metadata": {
    "scrolled": false
   },
   "outputs": [
    {
     "data": {
      "application/vnd.jupyter.widget-view+json": {
       "model_id": "9dc824ce1a8e45b2ac6bac513d3d6335",
       "version_major": 2,
       "version_minor": 0
      },
      "text/plain": [
       "VBox()"
      ]
     },
     "metadata": {},
     "output_type": "display_data"
    },
    {
     "data": {
      "application/vnd.jupyter.widget-view+json": {
       "model_id": "",
       "version_major": 2,
       "version_minor": 0
      },
      "text/plain": [
       "FloatProgress(value=0.0, bar_style='info', description='Progress:', layout=Layout(height='25px', width='50%'),…"
      ]
     },
     "metadata": {},
     "output_type": "display_data"
    }
   ],
   "source": [
    "# Splitting the dataFrame into training and testing set\n",
    "train, test = df.randomSplit([0.7, 0.3], seed = 2020)"
   ]
  },
  {
   "cell_type": "code",
   "execution_count": 54,
   "metadata": {},
   "outputs": [
    {
     "data": {
      "application/vnd.jupyter.widget-view+json": {
       "model_id": "2bf566cbcd2c4e7994f2eccaa06e193f",
       "version_major": 2,
       "version_minor": 0
      },
      "text/plain": [
       "VBox()"
      ]
     },
     "metadata": {},
     "output_type": "display_data"
    },
    {
     "data": {
      "application/vnd.jupyter.widget-view+json": {
       "model_id": "",
       "version_major": 2,
       "version_minor": 0
      },
      "text/plain": [
       "FloatProgress(value=0.0, bar_style='info', description='Progress:', layout=Layout(height='25px', width='50%'),…"
      ]
     },
     "metadata": {},
     "output_type": "display_data"
    },
    {
     "name": "stdout",
     "output_type": "stream",
     "text": [
      "992636"
     ]
    }
   ],
   "source": [
    "# Number of observations in training set\n",
    "train.count()"
   ]
  },
  {
   "cell_type": "code",
   "execution_count": 55,
   "metadata": {
    "scrolled": true
   },
   "outputs": [
    {
     "data": {
      "application/vnd.jupyter.widget-view+json": {
       "model_id": "9d89c84583d04c59bf93b53251a1836f",
       "version_major": 2,
       "version_minor": 0
      },
      "text/plain": [
       "VBox()"
      ]
     },
     "metadata": {},
     "output_type": "display_data"
    },
    {
     "data": {
      "application/vnd.jupyter.widget-view+json": {
       "model_id": "",
       "version_major": 2,
       "version_minor": 0
      },
      "text/plain": [
       "FloatProgress(value=0.0, bar_style='info', description='Progress:', layout=Layout(height='25px', width='50%'),…"
      ]
     },
     "metadata": {},
     "output_type": "display_data"
    },
    {
     "name": "stdout",
     "output_type": "stream",
     "text": [
      "425768"
     ]
    }
   ],
   "source": [
    "# Number of observations in test set\n",
    "test.count()"
   ]
  },
  {
   "cell_type": "code",
   "execution_count": 57,
   "metadata": {
    "scrolled": true
   },
   "outputs": [
    {
     "data": {
      "application/vnd.jupyter.widget-view+json": {
       "model_id": "9dc8e64c38844eb88df338beda25b769",
       "version_major": 2,
       "version_minor": 0
      },
      "text/plain": [
       "VBox()"
      ]
     },
     "metadata": {},
     "output_type": "display_data"
    },
    {
     "data": {
      "application/vnd.jupyter.widget-view+json": {
       "model_id": "",
       "version_major": 2,
       "version_minor": 0
      },
      "text/plain": [
       "FloatProgress(value=0.0, bar_style='info', description='Progress:', layout=Layout(height='25px', width='50%'),…"
      ]
     },
     "metadata": {},
     "output_type": "display_data"
    }
   ],
   "source": [
    "# Building the RF model\n",
    "from pyspark.ml.classification import RandomForestClassifier\n",
    "rf = RandomForestClassifier(featuresCol = 'features', labelCol = 'label', \\\n",
    "                            maxDepth=5, impurity='gini', numTrees=25, seed=2020, subsamplingRate = 0.7)"
   ]
  },
  {
   "cell_type": "code",
   "execution_count": 58,
   "metadata": {
    "scrolled": false
   },
   "outputs": [
    {
     "data": {
      "application/vnd.jupyter.widget-view+json": {
       "model_id": "13b8a5f9559f4cdd82711e27921e93aa",
       "version_major": 2,
       "version_minor": 0
      },
      "text/plain": [
       "VBox()"
      ]
     },
     "metadata": {},
     "output_type": "display_data"
    },
    {
     "data": {
      "application/vnd.jupyter.widget-view+json": {
       "model_id": "",
       "version_major": 2,
       "version_minor": 0
      },
      "text/plain": [
       "FloatProgress(value=0.0, bar_style='info', description='Progress:', layout=Layout(height='25px', width='50%'),…"
      ]
     },
     "metadata": {},
     "output_type": "display_data"
    }
   ],
   "source": [
    "# Fitting the model over the training set\n",
    "rfModel = rf.fit(train)"
   ]
  },
  {
   "cell_type": "code",
   "execution_count": 59,
   "metadata": {},
   "outputs": [
    {
     "data": {
      "application/vnd.jupyter.widget-view+json": {
       "model_id": "7884616a3ce447b49374851aa2cdaa4f",
       "version_major": 2,
       "version_minor": 0
      },
      "text/plain": [
       "VBox()"
      ]
     },
     "metadata": {},
     "output_type": "display_data"
    },
    {
     "data": {
      "application/vnd.jupyter.widget-view+json": {
       "model_id": "",
       "version_major": 2,
       "version_minor": 0
      },
      "text/plain": [
       "FloatProgress(value=0.0, bar_style='info', description='Progress:', layout=Layout(height='25px', width='50%'),…"
      ]
     },
     "metadata": {},
     "output_type": "display_data"
    },
    {
     "name": "stdout",
     "output_type": "stream",
     "text": [
      "RandomForestClassificationModel (uid=RandomForestClassifier_1cfc4fa8322f) with 25 trees\n",
      "  Tree 0 (weight 1.0):\n",
      "    If (feature 171 in {0.0})\n",
      "     If (feature 0 in {0.0})\n",
      "      If (feature 4 in {0.0})\n",
      "       If (feature 38 in {0.0})\n",
      "        Predict: 4.0\n",
      "       Else (feature 38 not in {0.0})\n",
      "        If (feature 21 in {0.0})\n",
      "         Predict: 4.0\n",
      "        Else (feature 21 not in {0.0})\n",
      "         Predict: 22.0\n",
      "      Else (feature 4 not in {0.0})\n",
      "       If (feature 187 in {0.0})\n",
      "        Predict: 6.0\n",
      "       Else (feature 187 not in {0.0})\n",
      "        If (feature 38 in {0.0})\n",
      "         Predict: 6.0\n",
      "        Else (feature 38 not in {0.0})\n",
      "         Predict: 11.0\n",
      "     Else (feature 0 not in {0.0})\n",
      "      Predict: 0.0\n",
      "    Else (feature 171 not in {0.0})\n",
      "     If (feature 2 in {0.0})\n",
      "      If (feature 11 in {0.0})\n",
      "       If (feature 4 in {0.0})\n",
      "        If (feature 1 in {0.0})\n",
      "         Predict: 0.0\n",
      "        Else (feature 1 not in {0.0})\n",
      "         Predict: 1.0\n",
      "       Else (feature 4 not in {0.0})\n",
      "        Predict: 6.0\n",
      "      Else (feature 11 not in {0.0})\n",
      "       Predict: 13.0\n",
      "     Else (feature 2 not in {0.0})\n",
      "      Predict: 2.0\n",
      "  Tree 1 (weight 1.0):\n",
      "    If (feature 172 in {0.0})\n",
      "     If (feature 183 in {0.0})\n",
      "      If (feature 6 in {0.0})\n",
      "       If (feature 10 in {0.0})\n",
      "        If (feature 20 in {0.0})\n",
      "         Predict: 1.0\n",
      "        Else (feature 20 not in {0.0})\n",
      "         Predict: 21.0\n",
      "       Else (feature 10 not in {0.0})\n",
      "        Predict: 3.0\n",
      "      Else (feature 6 not in {0.0})\n",
      "       Predict: 5.0\n",
      "     Else (feature 183 not in {0.0})\n",
      "      If (feature 33 in {0.0})\n",
      "       If (feature 197 in {0.0})\n",
      "        If (feature 56 in {0.0})\n",
      "         Predict: 1.0\n",
      "        Else (feature 56 not in {0.0})\n",
      "         Predict: 3.0\n",
      "       Else (feature 197 not in {0.0})\n",
      "        If (feature 13 in {0.0})\n",
      "         Predict: 1.0\n",
      "        Else (feature 13 not in {0.0})\n",
      "         Predict: 3.0\n",
      "      Else (feature 33 not in {0.0})\n",
      "       If (feature 1 in {0.0})\n",
      "        Predict: 3.0\n",
      "       Else (feature 1 not in {0.0})\n",
      "        Predict: 1.0\n",
      "    Else (feature 172 not in {0.0})\n",
      "     If (feature 3 in {0.0})\n",
      "      If (feature 2 in {0.0})\n",
      "       If (feature 4 in {0.0})\n",
      "        If (feature 18 in {0.0})\n",
      "         Predict: 0.0\n",
      "        Else (feature 18 not in {0.0})\n",
      "         Predict: 19.0\n",
      "       Else (feature 4 not in {0.0})\n",
      "        Predict: 6.0\n",
      "      Else (feature 2 not in {0.0})\n",
      "       Predict: 2.0\n",
      "     Else (feature 3 not in {0.0})\n",
      "      If (feature 208 <= 1894986.5)\n",
      "       If (feature 73 in {0.0})\n",
      "        Predict: 4.0\n",
      "       Else (feature 73 not in {0.0})\n",
      "        If (feature 208 <= 1827719.5)\n",
      "         Predict: 4.0\n",
      "        Else (feature 208 > 1827719.5)\n",
      "         Predict: 3.0\n",
      "      Else (feature 208 > 1894986.5)\n",
      "       If (feature 87 in {0.0})\n",
      "        If (feature 102 in {0.0})\n",
      "         Predict: 4.0\n",
      "        Else (feature 102 not in {0.0})\n",
      "         Predict: 3.0\n",
      "       Else (feature 87 not in {0.0})\n",
      "        If (feature 199 in {0.0})\n",
      "         Predict: 3.0\n",
      "        Else (feature 199 not in {0.0})\n",
      "         Predict: 4.0\n",
      "  Tree 2 (weight 1.0):\n",
      "    If (feature 1 in {0.0})\n",
      "     If (feature 3 in {0.0})\n",
      "      If (feature 208 <= 1894986.5)\n",
      "       If (feature 11 in {0.0})\n",
      "        If (feature 2 in {0.0})\n",
      "         Predict: 0.0\n",
      "        Else (feature 2 not in {0.0})\n",
      "         Predict: 2.0\n",
      "       Else (feature 11 not in {0.0})\n",
      "        Predict: 13.0\n",
      "      Else (feature 208 > 1894986.5)\n",
      "       If (feature 40 in {0.0})\n",
      "        If (feature 9 in {0.0})\n",
      "         Predict: 0.0\n",
      "        Else (feature 9 not in {0.0})\n",
      "         Predict: 9.0\n",
      "       Else (feature 40 not in {0.0})\n",
      "        If (feature 9 in {0.0})\n",
      "         Predict: 0.0\n",
      "        Else (feature 9 not in {0.0})\n",
      "         Predict: 9.0\n",
      "     Else (feature 3 not in {0.0})\n",
      "      If (feature 211 <= -87.7773323059082)\n",
      "       Predict: 4.0\n",
      "      Else (feature 211 > -87.7773323059082)\n",
      "       If (feature 181 in {0.0})\n",
      "        Predict: 4.0\n",
      "       Else (feature 181 not in {0.0})\n",
      "        If (feature 60 in {0.0})\n",
      "         Predict: 4.0\n",
      "        Else (feature 60 not in {0.0})\n",
      "         Predict: 3.0\n",
      "    Else (feature 1 not in {0.0})\n",
      "     Predict: 1.0\n",
      "  Tree 3 (weight 1.0):\n",
      "    If (feature 46 in {0.0})\n",
      "     If (feature 190 in {0.0})\n",
      "      If (feature 13 in {0.0})\n",
      "       If (feature 171 in {0.0})\n",
      "        If (feature 9 in {0.0})\n",
      "         Predict: 4.0\n",
      "        Else (feature 9 not in {0.0})\n",
      "         Predict: 9.0\n",
      "       Else (feature 171 not in {0.0})\n",
      "        Predict: 0.0\n",
      "      Else (feature 13 not in {0.0})\n",
      "       If (feature 43 in {0.0})\n",
      "        Predict: 17.0\n",
      "       Else (feature 43 not in {0.0})\n",
      "        Predict: 3.0\n",
      "     Else (feature 190 not in {0.0})\n",
      "      If (feature 35 in {0.0})\n",
      "       If (feature 0 in {0.0})\n",
      "        If (feature 8 in {0.0})\n",
      "         Predict: 3.0\n",
      "        Else (feature 8 not in {0.0})\n",
      "         Predict: 7.0\n",
      "       Else (feature 0 not in {0.0})\n",
      "        Predict: 0.0\n",
      "      Else (feature 35 not in {0.0})\n",
      "       If (feature 196 in {0.0})\n",
      "        If (feature 1 in {0.0})\n",
      "         Predict: 0.0\n",
      "        Else (feature 1 not in {0.0})\n",
      "         Predict: 1.0\n",
      "       Else (feature 196 not in {0.0})\n",
      "        Predict: 1.0\n",
      "    Else (feature 46 not in {0.0})\n",
      "     If (feature 204 in {0.0})\n",
      "      If (feature 6 in {0.0})\n",
      "       If (feature 7 in {0.0})\n",
      "        If (feature 172 in {0.0})\n",
      "         Predict: 1.0\n",
      "        Else (feature 172 not in {0.0})\n",
      "         Predict: 0.0\n",
      "       Else (feature 7 not in {0.0})\n",
      "        Predict: 8.0\n",
      "      Else (feature 6 not in {0.0})\n",
      "       Predict: 5.0\n",
      "     Else (feature 204 not in {0.0})\n",
      "      Predict: 0.0\n",
      "  Tree 4 (weight 1.0):\n",
      "    If (feature 171 in {0.0})\n",
      "     If (feature 6 in {0.0})\n",
      "      If (feature 1 in {0.0})\n",
      "       If (feature 14 in {0.0})\n",
      "        Predict: 4.0\n",
      "       Else (feature 14 not in {0.0})\n",
      "        Predict: 15.0\n",
      "      Else (feature 1 not in {0.0})\n",
      "       If (feature 172 in {0.0})\n",
      "        If (feature 96 in {0.0})\n",
      "         Predict: 1.0\n",
      "        Else (feature 96 not in {0.0})\n",
      "         Predict: 10.0\n",
      "       Else (feature 172 not in {0.0})\n",
      "        Predict: 1.0\n",
      "     Else (feature 6 not in {0.0})\n",
      "      Predict: 5.0\n",
      "    Else (feature 171 not in {0.0})\n",
      "     If (feature 5 in {0.0})\n",
      "      If (feature 0 in {0.0})\n",
      "       If (feature 13 in {0.0})\n",
      "        If (feature 9 in {0.0})\n",
      "         Predict: 1.0\n",
      "        Else (feature 9 not in {0.0})\n",
      "         Predict: 9.0\n",
      "       Else (feature 13 not in {0.0})\n",
      "        If (feature 35 in {0.0})\n",
      "         Predict: 17.0\n",
      "        Else (feature 35 not in {0.0})\n",
      "         Predict: 3.0\n",
      "      Else (feature 0 not in {0.0})\n",
      "       Predict: 0.0\n",
      "     Else (feature 5 not in {0.0})\n",
      "      If (feature 41 in {0.0})\n",
      "       Predict: 3.0\n",
      "      Else (feature 41 not in {0.0})\n",
      "       If (feature 181 in {0.0})\n",
      "        Predict: 3.0\n",
      "       Else (feature 181 not in {0.0})\n",
      "        If (feature 204 in {0.0})\n",
      "         Predict: 3.0\n",
      "        Else (feature 204 not in {0.0})\n",
      "         Predict: 18.0\n",
      "  Tree 5 (weight 1.0):\n",
      "    If (feature 46 in {0.0})\n",
      "     If (feature 6 in {0.0})\n",
      "      If (feature 33 in {0.0})\n",
      "       If (feature 8 in {0.0})\n",
      "        If (feature 24 in {0.0})\n",
      "         Predict: 0.0\n",
      "        Else (feature 24 not in {0.0})\n",
      "         Predict: 3.0\n",
      "       Else (feature 8 not in {0.0})\n",
      "        Predict: 7.0\n",
      "      Else (feature 33 not in {0.0})\n",
      "       If (feature 22 in {0.0})\n",
      "        If (feature 12 in {0.0})\n",
      "         Predict: 1.0\n",
      "        Else (feature 12 not in {0.0})\n",
      "         Predict: 3.0\n",
      "       Else (feature 22 not in {0.0})\n",
      "        Predict: 3.0\n",
      "     Else (feature 6 not in {0.0})\n",
      "      Predict: 5.0\n",
      "    Else (feature 46 not in {0.0})\n",
      "     If (feature 6 in {0.0})\n",
      "      If (feature 176 in {0.0})\n",
      "       If (feature 171 in {0.0})\n",
      "        If (feature 7 in {0.0})\n",
      "         Predict: 0.0\n",
      "        Else (feature 7 not in {0.0})\n",
      "         Predict: 8.0\n",
      "       Else (feature 171 not in {0.0})\n",
      "        If (feature 17 in {0.0})\n",
      "         Predict: 0.0\n",
      "        Else (feature 17 not in {0.0})\n",
      "         Predict: 18.0\n",
      "      Else (feature 176 not in {0.0})\n",
      "       If (feature 208 <= 1843473.5)\n",
      "        If (feature 2 in {0.0})\n",
      "         Predict: 0.0\n",
      "        Else (feature 2 not in {0.0})\n",
      "         Predict: 2.0\n",
      "       Else (feature 208 > 1843473.5)\n",
      "        If (feature 209 <= 2015.5)\n",
      "         Predict: 0.0\n",
      "        Else (feature 209 > 2015.5)\n",
      "         Predict: 9.0\n",
      "     Else (feature 6 not in {0.0})\n",
      "      Predict: 5.0\n",
      "  Tree 6 (weight 1.0):\n",
      "    If (feature 40 in {0.0})\n",
      "     If (feature 5 in {0.0})\n",
      "      If (feature 7 in {0.0})\n",
      "       If (feature 2 in {0.0})\n",
      "        Predict: 0.0\n",
      "       Else (feature 2 not in {0.0})\n",
      "        Predict: 2.0\n",
      "      Else (feature 7 not in {0.0})\n",
      "       Predict: 8.0\n",
      "     Else (feature 5 not in {0.0})\n",
      "      Predict: 3.0\n",
      "    Else (feature 40 not in {0.0})\n",
      "     If (feature 4 in {0.0})\n",
      "      If (feature 207 <= 1178084.5)\n",
      "       If (feature 7 in {0.0})\n",
      "        If (feature 10 in {0.0})\n",
      "         Predict: 0.0\n",
      "        Else (feature 10 not in {0.0})\n",
      "         Predict: 3.0\n",
      "       Else (feature 7 not in {0.0})\n",
      "        Predict: 8.0\n",
      "      Else (feature 207 > 1178084.5)\n",
      "       If (feature 210 <= 41.78688430786133)\n",
      "        Predict: 0.0\n",
      "       Else (feature 210 > 41.78688430786133)\n",
      "        If (feature 10 in {0.0})\n",
      "         Predict: 0.0\n",
      "        Else (feature 10 not in {0.0})\n",
      "         Predict: 3.0\n",
      "     Else (feature 4 not in {0.0})\n",
      "      Predict: 6.0\n",
      "  Tree 7 (weight 1.0):\n",
      "    If (feature 9 in {0.0})\n",
      "     If (feature 2 in {0.0})\n",
      "      If (feature 38 in {0.0})\n",
      "       If (feature 6 in {0.0})\n",
      "        Predict: 0.0\n",
      "       Else (feature 6 not in {0.0})\n",
      "        Predict: 5.0\n",
      "      Else (feature 38 not in {0.0})\n",
      "       If (feature 209 <= 2015.5)\n",
      "        If (feature 8 in {0.0})\n",
      "         Predict: 4.0\n",
      "        Else (feature 8 not in {0.0})\n",
      "         Predict: 7.0\n",
      "       Else (feature 209 > 2015.5)\n",
      "        Predict: 4.0\n",
      "     Else (feature 2 not in {0.0})\n",
      "      Predict: 2.0\n",
      "    Else (feature 9 not in {0.0})\n",
      "     Predict: 9.0\n",
      "  Tree 8 (weight 1.0):\n",
      "    If (feature 34 in {0.0})\n",
      "     If (feature 173 in {0.0})\n",
      "      If (feature 1 in {0.0})\n",
      "       If (feature 47 in {0.0})\n",
      "        If (feature 9 in {0.0})\n",
      "         Predict: 0.0\n",
      "        Else (feature 9 not in {0.0})\n",
      "         Predict: 9.0\n",
      "       Else (feature 47 not in {0.0})\n",
      "        Predict: 0.0\n",
      "      Else (feature 1 not in {0.0})\n",
      "       Predict: 1.0\n",
      "     Else (feature 173 not in {0.0})\n",
      "      If (feature 11 in {0.0})\n",
      "       If (feature 3 in {0.0})\n",
      "        If (feature 7 in {0.0})\n",
      "         Predict: 1.0\n",
      "        Else (feature 7 not in {0.0})\n",
      "         Predict: 8.0\n",
      "       Else (feature 3 not in {0.0})\n",
      "        Predict: 4.0\n",
      "      Else (feature 11 not in {0.0})\n",
      "       Predict: 13.0\n",
      "    Else (feature 34 not in {0.0})\n",
      "     If (feature 2 in {0.0})\n",
      "      If (feature 5 in {0.0})\n",
      "       If (feature 3 in {0.0})\n",
      "        If (feature 6 in {0.0})\n",
      "         Predict: 1.0\n",
      "        Else (feature 6 not in {0.0})\n",
      "         Predict: 5.0\n",
      "       Else (feature 3 not in {0.0})\n",
      "        Predict: 4.0\n",
      "      Else (feature 5 not in {0.0})\n",
      "       Predict: 3.0\n",
      "     Else (feature 2 not in {0.0})\n",
      "      Predict: 2.0\n",
      "  Tree 9 (weight 1.0):\n",
      "    If (feature 1 in {0.0})\n",
      "     If (feature 6 in {0.0})\n",
      "      If (feature 2 in {0.0})\n",
      "       If (feature 5 in {0.0})\n",
      "        Predict: 0.0\n",
      "       Else (feature 5 not in {0.0})\n",
      "        Predict: 3.0\n",
      "      Else (feature 2 not in {0.0})\n",
      "       Predict: 2.0\n",
      "     Else (feature 6 not in {0.0})\n",
      "      Predict: 5.0\n",
      "    Else (feature 1 not in {0.0})\n",
      "     Predict: 1.0\n",
      "  Tree 10 (weight 1.0):\n",
      "    If (feature 3 in {0.0})\n",
      "     If (feature 5 in {0.0})\n",
      "      If (feature 21 in {0.0})\n",
      "       If (feature 2 in {0.0})\n",
      "        Predict: 0.0\n",
      "       Else (feature 2 not in {0.0})\n",
      "        Predict: 2.0\n",
      "      Else (feature 21 not in {0.0})\n",
      "       Predict: 22.0\n",
      "     Else (feature 5 not in {0.0})\n",
      "      Predict: 3.0\n",
      "    Else (feature 3 not in {0.0})\n",
      "     If (feature 207 <= 1131737.0)\n",
      "      If (feature 89 in {0.0})\n",
      "       If (feature 102 in {0.0})\n",
      "        Predict: 4.0\n",
      "       Else (feature 102 not in {0.0})\n",
      "        If (feature 209 <= 2014.5)\n",
      "         Predict: 3.0\n",
      "        Else (feature 209 > 2014.5)\n",
      "         Predict: 4.0\n",
      "      Else (feature 89 not in {0.0})\n",
      "       Predict: 4.0\n",
      "     Else (feature 207 > 1131737.0)\n",
      "      If (feature 207 <= 1158475.0)\n",
      "       If (feature 207 <= 1153456.0)\n",
      "        If (feature 76 in {0.0})\n",
      "         Predict: 4.0\n",
      "        Else (feature 76 not in {0.0})\n",
      "         Predict: 3.0\n",
      "       Else (feature 207 > 1153456.0)\n",
      "        Predict: 4.0\n",
      "      Else (feature 207 > 1158475.0)\n",
      "       If (feature 51 in {0.0})\n",
      "        If (feature 87 in {0.0})\n",
      "         Predict: 4.0\n",
      "        Else (feature 87 not in {0.0})\n",
      "         Predict: 3.0\n",
      "       Else (feature 51 not in {0.0})\n",
      "        If (feature 208 <= 1899455.5)\n",
      "         Predict: 4.0\n",
      "        Else (feature 208 > 1899455.5)\n",
      "         Predict: 3.0\n",
      "  Tree 11 (weight 1.0):\n",
      "    If (feature 5 in {0.0})\n",
      "     If (feature 32 in {0.0})\n",
      "      If (feature 13 in {0.0})\n",
      "       If (feature 171 in {0.0})\n",
      "        If (feature 4 in {0.0})\n",
      "         Predict: 4.0\n",
      "        Else (feature 4 not in {0.0})\n",
      "         Predict: 6.0\n",
      "       Else (feature 171 not in {0.0})\n",
      "        If (feature 8 in {0.0})\n",
      "         Predict: 0.0\n",
      "        Else (feature 8 not in {0.0})\n",
      "         Predict: 7.0\n",
      "      Else (feature 13 not in {0.0})\n",
      "       If (feature 33 in {0.0})\n",
      "        If (feature 187 in {0.0})\n",
      "         Predict: 17.0\n",
      "        Else (feature 187 not in {0.0})\n",
      "         Predict: 3.0\n",
      "       Else (feature 33 not in {0.0})\n",
      "        Predict: 17.0\n",
      "     Else (feature 32 not in {0.0})\n",
      "      If (feature 210 <= 41.905344009399414)\n",
      "       If (feature 3 in {0.0})\n",
      "        If (feature 15 in {0.0})\n",
      "         Predict: 0.0\n",
      "        Else (feature 15 not in {0.0})\n",
      "         Predict: 16.0\n",
      "       Else (feature 3 not in {0.0})\n",
      "        Predict: 4.0\n",
      "      Else (feature 210 > 41.905344009399414)\n",
      "       If (feature 172 in {0.0})\n",
      "        If (feature 8 in {0.0})\n",
      "         Predict: 1.0\n",
      "        Else (feature 8 not in {0.0})\n",
      "         Predict: 7.0\n",
      "       Else (feature 172 not in {0.0})\n",
      "        If (feature 8 in {0.0})\n",
      "         Predict: 0.0\n",
      "        Else (feature 8 not in {0.0})\n",
      "         Predict: 7.0\n",
      "    Else (feature 5 not in {0.0})\n",
      "     Predict: 3.0\n",
      "  Tree 12 (weight 1.0):\n",
      "    If (feature 9 in {0.0})\n",
      "     If (feature 2 in {0.0})\n",
      "      If (feature 171 in {0.0})\n",
      "       If (feature 35 in {0.0})\n",
      "        If (feature 1 in {0.0})\n",
      "         Predict: 4.0\n",
      "        Else (feature 1 not in {0.0})\n",
      "         Predict: 1.0\n",
      "       Else (feature 35 not in {0.0})\n",
      "        If (feature 14 in {0.0})\n",
      "         Predict: 4.0\n",
      "        Else (feature 14 not in {0.0})\n",
      "         Predict: 15.0\n",
      "      Else (feature 171 not in {0.0})\n",
      "       If (feature 15 in {0.0})\n",
      "        Predict: 0.0\n",
      "       Else (feature 15 not in {0.0})\n",
      "        Predict: 16.0\n",
      "     Else (feature 2 not in {0.0})\n",
      "      Predict: 2.0\n",
      "    Else (feature 9 not in {0.0})\n",
      "     Predict: 9.0\n",
      "  Tree 13 (weight 1.0):\n",
      "    If (feature 173 in {0.0})\n",
      "     If (feature 1 in {0.0})\n",
      "      If (feature 0 in {0.0})\n",
      "       If (feature 2 in {0.0})\n",
      "        If (feature 18 in {0.0})\n",
      "         Predict: 3.0\n",
      "        Else (feature 18 not in {0.0})\n",
      "         Predict: 19.0\n",
      "       Else (feature 2 not in {0.0})\n",
      "        Predict: 2.0\n",
      "      Else (feature 0 not in {0.0})\n",
      "       Predict: 0.0\n",
      "     Else (feature 1 not in {0.0})\n",
      "      Predict: 1.0\n",
      "    Else (feature 173 not in {0.0})\n",
      "     If (feature 5 in {0.0})\n",
      "      If (feature 12 in {0.0})\n",
      "       If (feature 171 in {0.0})\n",
      "        If (feature 207 <= 1146154.5)\n",
      "         Predict: 15.0\n",
      "        Else (feature 207 > 1146154.5)\n",
      "         Predict: 4.0\n",
      "       Else (feature 171 not in {0.0})\n",
      "        If (feature 24 in {0.0})\n",
      "         Predict: 1.0\n",
      "        Else (feature 24 not in {0.0})\n",
      "         Predict: 3.0\n",
      "      Else (feature 12 not in {0.0})\n",
      "       If (feature 66 in {0.0})\n",
      "        Predict: 12.0\n",
      "       Else (feature 66 not in {0.0})\n",
      "        Predict: 3.0\n",
      "     Else (feature 5 not in {0.0})\n",
      "      Predict: 3.0\n",
      "  Tree 14 (weight 1.0):\n",
      "    If (feature 172 in {0.0})\n",
      "     If (feature 189 in {0.0})\n",
      "      If (feature 18 in {0.0})\n",
      "       Predict: 1.0\n",
      "      Else (feature 18 not in {0.0})\n",
      "       Predict: 19.0\n",
      "     Else (feature 189 not in {0.0})\n",
      "      If (feature 0 in {0.0})\n",
      "       If (feature 33 in {0.0})\n",
      "        Predict: 1.0\n",
      "       Else (feature 33 not in {0.0})\n",
      "        If (feature 10 in {0.0})\n",
      "         Predict: 1.0\n",
      "        Else (feature 10 not in {0.0})\n",
      "         Predict: 3.0\n",
      "      Else (feature 0 not in {0.0})\n",
      "       Predict: 0.0\n",
      "    Else (feature 172 not in {0.0})\n",
      "     If (feature 0 in {0.0})\n",
      "      If (feature 32 in {0.0})\n",
      "       If (feature 7 in {0.0})\n",
      "        If (feature 4 in {0.0})\n",
      "         Predict: 1.0\n",
      "        Else (feature 4 not in {0.0})\n",
      "         Predict: 6.0\n",
      "       Else (feature 7 not in {0.0})\n",
      "        Predict: 8.0\n",
      "      Else (feature 32 not in {0.0})\n",
      "       If (feature 1 in {0.0})\n",
      "        If (feature 5 in {0.0})\n",
      "         Predict: 2.0\n",
      "        Else (feature 5 not in {0.0})\n",
      "         Predict: 3.0\n",
      "       Else (feature 1 not in {0.0})\n",
      "        Predict: 1.0\n",
      "     Else (feature 0 not in {0.0})\n",
      "      Predict: 0.0\n",
      "  Tree 15 (weight 1.0):\n",
      "    If (feature 15 in {0.0})\n",
      "     If (feature 19 in {0.0})\n",
      "      If (feature 9 in {0.0})\n",
      "       If (feature 5 in {0.0})\n",
      "        If (feature 14 in {0.0})\n",
      "         Predict: 0.0\n",
      "        Else (feature 14 not in {0.0})\n",
      "         Predict: 15.0\n",
      "       Else (feature 5 not in {0.0})\n",
      "        Predict: 3.0\n",
      "      Else (feature 9 not in {0.0})\n",
      "       Predict: 9.0\n",
      "     Else (feature 19 not in {0.0})\n",
      "      Predict: 20.0\n",
      "    Else (feature 15 not in {0.0})\n",
      "     Predict: 16.0\n",
      "  Tree 16 (weight 1.0):\n",
      "    If (feature 6 in {0.0})\n",
      "     If (feature 11 in {0.0})\n",
      "      If (feature 34 in {0.0})\n",
      "       If (feature 13 in {0.0})\n",
      "        If (feature 12 in {0.0})\n",
      "         Predict: 0.0\n",
      "        Else (feature 12 not in {0.0})\n",
      "         Predict: 12.0\n",
      "       Else (feature 13 not in {0.0})\n",
      "        Predict: 17.0\n",
      "      Else (feature 34 not in {0.0})\n",
      "       If (feature 0 in {0.0})\n",
      "        If (feature 4 in {0.0})\n",
      "         Predict: 1.0\n",
      "        Else (feature 4 not in {0.0})\n",
      "         Predict: 6.0\n",
      "       Else (feature 0 not in {0.0})\n",
      "        Predict: 0.0\n",
      "     Else (feature 11 not in {0.0})\n",
      "      Predict: 13.0\n",
      "    Else (feature 6 not in {0.0})\n",
      "     Predict: 5.0\n",
      "  Tree 17 (weight 1.0):\n",
      "    If (feature 46 in {0.0})\n",
      "     If (feature 60 in {0.0})\n",
      "      If (feature 0 in {0.0})\n",
      "       If (feature 1 in {0.0})\n",
      "        If (feature 35 in {0.0})\n",
      "         Predict: 2.0\n",
      "        Else (feature 35 not in {0.0})\n",
      "         Predict: 4.0\n",
      "       Else (feature 1 not in {0.0})\n",
      "        Predict: 1.0\n",
      "      Else (feature 0 not in {0.0})\n",
      "       Predict: 0.0\n",
      "     Else (feature 60 not in {0.0})\n",
      "      If (feature 211 <= -87.62102508544922)\n",
      "       If (feature 0 in {0.0})\n",
      "        Predict: 8.0\n",
      "       Else (feature 0 not in {0.0})\n",
      "        Predict: 0.0\n",
      "      Else (feature 211 > -87.62102508544922)\n",
      "       If (feature 4 in {0.0})\n",
      "        Predict: 8.0\n",
      "       Else (feature 4 not in {0.0})\n",
      "        Predict: 6.0\n",
      "    Else (feature 46 not in {0.0})\n",
      "     If (feature 5 in {0.0})\n",
      "      If (feature 176 in {0.0})\n",
      "       If (feature 6 in {0.0})\n",
      "        If (feature 2 in {0.0})\n",
      "         Predict: 0.0\n",
      "        Else (feature 2 not in {0.0})\n",
      "         Predict: 2.0\n",
      "       Else (feature 6 not in {0.0})\n",
      "        Predict: 5.0\n",
      "      Else (feature 176 not in {0.0})\n",
      "       If (feature 2 in {0.0})\n",
      "        Predict: 0.0\n",
      "       Else (feature 2 not in {0.0})\n",
      "        Predict: 2.0\n",
      "     Else (feature 5 not in {0.0})\n",
      "      Predict: 3.0\n",
      "  Tree 18 (weight 1.0):\n",
      "    If (feature 4 in {0.0})\n",
      "     If (feature 14 in {0.0})\n",
      "      If (feature 5 in {0.0})\n",
      "       If (feature 11 in {0.0})\n",
      "        If (feature 42 in {0.0})\n",
      "         Predict: 0.0\n",
      "        Else (feature 42 not in {0.0})\n",
      "         Predict: 5.0\n",
      "       Else (feature 11 not in {0.0})\n",
      "        Predict: 13.0\n",
      "      Else (feature 5 not in {0.0})\n",
      "       Predict: 3.0\n",
      "     Else (feature 14 not in {0.0})\n",
      "      Predict: 15.0\n",
      "    Else (feature 4 not in {0.0})\n",
      "     If (feature 36 in {0.0})\n",
      "      Predict: 6.0\n",
      "     Else (feature 36 not in {0.0})\n",
      "      If (feature 197 in {0.0})\n",
      "       Predict: 6.0\n",
      "      Else (feature 197 not in {0.0})\n",
      "       If (feature 207 <= 1155189.5)\n",
      "        Predict: 11.0\n",
      "       Else (feature 207 > 1155189.5)\n",
      "        Predict: 6.0\n",
      "  Tree 19 (weight 1.0):\n",
      "    If (feature 1 in {0.0})\n",
      "     If (feature 0 in {0.0})\n",
      "      If (feature 2 in {0.0})\n",
      "       If (feature 209 <= 2015.5)\n",
      "        If (feature 5 in {0.0})\n",
      "         Predict: 4.0\n",
      "        Else (feature 5 not in {0.0})\n",
      "         Predict: 3.0\n",
      "       Else (feature 209 > 2015.5)\n",
      "        Predict: 3.0\n",
      "      Else (feature 2 not in {0.0})\n",
      "       Predict: 2.0\n",
      "     Else (feature 0 not in {0.0})\n",
      "      Predict: 0.0\n",
      "    Else (feature 1 not in {0.0})\n",
      "     If (feature 32 in {0.0})\n",
      "      Predict: 1.0\n",
      "     Else (feature 32 not in {0.0})\n",
      "      If (feature 171 in {0.0})\n",
      "       If (feature 188 in {0.0})\n",
      "        Predict: 1.0\n",
      "       Else (feature 188 not in {0.0})\n",
      "        If (feature 207 <= 1176126.5)\n",
      "         Predict: 10.0\n",
      "        Else (feature 207 > 1176126.5)\n",
      "         Predict: 1.0\n",
      "      Else (feature 171 not in {0.0})\n",
      "       Predict: 1.0\n",
      "  Tree 20 (weight 1.0):\n",
      "    If (feature 2 in {0.0})\n",
      "     If (feature 3 in {0.0})\n",
      "      If (feature 46 in {0.0})\n",
      "       If (feature 7 in {0.0})\n",
      "        If (feature 9 in {0.0})\n",
      "         Predict: 0.0\n",
      "        Else (feature 9 not in {0.0})\n",
      "         Predict: 9.0\n",
      "       Else (feature 7 not in {0.0})\n",
      "        Predict: 8.0\n",
      "      Else (feature 46 not in {0.0})\n",
      "       If (feature 207 <= 1146154.5)\n",
      "        Predict: 0.0\n",
      "       Else (feature 207 > 1146154.5)\n",
      "        If (feature 9 in {0.0})\n",
      "         Predict: 0.0\n",
      "        Else (feature 9 not in {0.0})\n",
      "         Predict: 9.0\n",
      "     Else (feature 3 not in {0.0})\n",
      "      If (feature 41 in {0.0})\n",
      "       If (feature 102 in {0.0})\n",
      "        Predict: 4.0\n",
      "       Else (feature 102 not in {0.0})\n",
      "        If (feature 205 in {0.0})\n",
      "         Predict: 3.0\n",
      "        Else (feature 205 not in {0.0})\n",
      "         Predict: 4.0\n",
      "      Else (feature 41 not in {0.0})\n",
      "       Predict: 4.0\n",
      "    Else (feature 2 not in {0.0})\n",
      "     Predict: 2.0\n",
      "  Tree 21 (weight 1.0):\n",
      "    If (feature 1 in {0.0})\n",
      "     If (feature 13 in {0.0})\n",
      "      If (feature 2 in {0.0})\n",
      "       If (feature 9 in {0.0})\n",
      "        If (feature 5 in {0.0})\n",
      "         Predict: 0.0\n",
      "        Else (feature 5 not in {0.0})\n",
      "         Predict: 3.0\n",
      "       Else (feature 9 not in {0.0})\n",
      "        Predict: 9.0\n",
      "      Else (feature 2 not in {0.0})\n",
      "       Predict: 2.0\n",
      "     Else (feature 13 not in {0.0})\n",
      "      If (feature 32 in {0.0})\n",
      "       If (feature 90 in {0.0})\n",
      "        Predict: 17.0\n",
      "       Else (feature 90 not in {0.0})\n",
      "        Predict: 3.0\n",
      "      Else (feature 32 not in {0.0})\n",
      "       If (feature 181 in {0.0})\n",
      "        Predict: 3.0\n",
      "       Else (feature 181 not in {0.0})\n",
      "        If (feature 211 <= -87.66664123535156)\n",
      "         Predict: 17.0\n",
      "        Else (feature 211 > -87.66664123535156)\n",
      "         Predict: 3.0\n",
      "    Else (feature 1 not in {0.0})\n",
      "     Predict: 1.0\n",
      "  Tree 22 (weight 1.0):\n",
      "    If (feature 35 in {0.0})\n",
      "     If (feature 6 in {0.0})\n",
      "      If (feature 2 in {0.0})\n",
      "       If (feature 11 in {0.0})\n",
      "        If (feature 7 in {0.0})\n",
      "         Predict: 0.0\n",
      "        Else (feature 7 not in {0.0})\n",
      "         Predict: 8.0\n",
      "       Else (feature 11 not in {0.0})\n",
      "        Predict: 13.0\n",
      "      Else (feature 2 not in {0.0})\n",
      "       Predict: 2.0\n",
      "     Else (feature 6 not in {0.0})\n",
      "      Predict: 5.0\n",
      "    Else (feature 35 not in {0.0})\n",
      "     If (feature 14 in {0.0})\n",
      "      If (feature 15 in {0.0})\n",
      "       If (feature 183 in {0.0})\n",
      "        If (feature 16 in {0.0})\n",
      "         Predict: 4.0\n",
      "        Else (feature 16 not in {0.0})\n",
      "         Predict: 12.0\n",
      "       Else (feature 183 not in {0.0})\n",
      "        If (feature 9 in {0.0})\n",
      "         Predict: 1.0\n",
      "        Else (feature 9 not in {0.0})\n",
      "         Predict: 9.0\n",
      "      Else (feature 15 not in {0.0})\n",
      "       Predict: 16.0\n",
      "     Else (feature 14 not in {0.0})\n",
      "      Predict: 15.0\n",
      "  Tree 23 (weight 1.0):\n",
      "    If (feature 10 in {0.0})\n",
      "     If (feature 171 in {0.0})\n",
      "      If (feature 32 in {0.0})\n",
      "       If (feature 0 in {0.0})\n",
      "        If (feature 19 in {0.0})\n",
      "         Predict: 4.0\n",
      "        Else (feature 19 not in {0.0})\n",
      "         Predict: 20.0\n",
      "       Else (feature 0 not in {0.0})\n",
      "        Predict: 0.0\n",
      "      Else (feature 32 not in {0.0})\n",
      "       If (feature 211 <= -87.69136428833008)\n",
      "        Predict: 4.0\n",
      "       Else (feature 211 > -87.69136428833008)\n",
      "        If (feature 4 in {0.0})\n",
      "         Predict: 4.0\n",
      "        Else (feature 4 not in {0.0})\n",
      "         Predict: 6.0\n",
      "     Else (feature 171 not in {0.0})\n",
      "      If (feature 9 in {0.0})\n",
      "       If (feature 2 in {0.0})\n",
      "        If (feature 5 in {0.0})\n",
      "         Predict: 0.0\n",
      "        Else (feature 5 not in {0.0})\n",
      "         Predict: 3.0\n",
      "       Else (feature 2 not in {0.0})\n",
      "        Predict: 2.0\n",
      "      Else (feature 9 not in {0.0})\n",
      "       Predict: 9.0\n",
      "    Else (feature 10 not in {0.0})\n",
      "     Predict: 3.0\n",
      "  Tree 24 (weight 1.0):\n",
      "    If (feature 13 in {0.0})\n",
      "     If (feature 2 in {0.0})\n",
      "      If (feature 0 in {0.0})\n",
      "       If (feature 14 in {0.0})\n",
      "        If (feature 21 in {0.0})\n",
      "         Predict: 1.0\n",
      "        Else (feature 21 not in {0.0})\n",
      "         Predict: 22.0\n",
      "       Else (feature 14 not in {0.0})\n",
      "        Predict: 15.0\n",
      "      Else (feature 0 not in {0.0})\n",
      "       Predict: 0.0\n",
      "     Else (feature 2 not in {0.0})\n",
      "      Predict: 2.0\n",
      "    Else (feature 13 not in {0.0})\n",
      "     If (feature 34 in {0.0})\n",
      "      If (feature 196 in {0.0})\n",
      "       If (feature 44 in {0.0})\n",
      "        If (feature 181 in {0.0})\n",
      "         Predict: 17.0\n",
      "        Else (feature 181 not in {0.0})\n",
      "         Predict: 18.0\n",
      "       Else (feature 44 not in {0.0})\n",
      "        If (feature 211 <= -87.7773323059082)\n",
      "         Predict: 17.0\n",
      "        Else (feature 211 > -87.7773323059082)\n",
      "         Predict: 3.0\n",
      "      Else (feature 196 not in {0.0})\n",
      "       Predict: 17.0\n",
      "     Else (feature 34 not in {0.0})\n",
      "      Predict: 17.0"
     ]
    }
   ],
   "source": [
    "# Printing the forest obtained from the model\n",
    "print(rfModel.toDebugString)"
   ]
  },
  {
   "cell_type": "markdown",
   "metadata": {},
   "source": [
    "### Model Prediction and Evaluation"
   ]
  },
  {
   "cell_type": "code",
   "execution_count": 60,
   "metadata": {
    "scrolled": true
   },
   "outputs": [
    {
     "data": {
      "application/vnd.jupyter.widget-view+json": {
       "model_id": "0b01340a5e33468d8c7323a6e99ec091",
       "version_major": 2,
       "version_minor": 0
      },
      "text/plain": [
       "VBox()"
      ]
     },
     "metadata": {},
     "output_type": "display_data"
    },
    {
     "data": {
      "application/vnd.jupyter.widget-view+json": {
       "model_id": "",
       "version_major": 2,
       "version_minor": 0
      },
      "text/plain": [
       "FloatProgress(value=0.0, bar_style='info', description='Progress:', layout=Layout(height='25px', width='50%'),…"
      ]
     },
     "metadata": {},
     "output_type": "display_data"
    }
   ],
   "source": [
    "# Applying the model on test set\n",
    "predictions = rfModel.transform(test)"
   ]
  },
  {
   "cell_type": "code",
   "execution_count": 61,
   "metadata": {
    "scrolled": true
   },
   "outputs": [
    {
     "data": {
      "application/vnd.jupyter.widget-view+json": {
       "model_id": "324deafdea334228854d65d5a542530e",
       "version_major": 2,
       "version_minor": 0
      },
      "text/plain": [
       "VBox()"
      ]
     },
     "metadata": {},
     "output_type": "display_data"
    },
    {
     "data": {
      "application/vnd.jupyter.widget-view+json": {
       "model_id": "",
       "version_major": 2,
       "version_minor": 0
      },
      "text/plain": [
       "FloatProgress(value=0.0, bar_style='info', description='Progress:', layout=Layout(height='25px', width='50%'),…"
      ]
     },
     "metadata": {},
     "output_type": "display_data"
    },
    {
     "name": "stdout",
     "output_type": "stream",
     "text": [
      "+--------+-----+--------------------+----------+--------------------+\n",
      "|      ID|label|       rawPrediction|prediction|         probability|\n",
      "+--------+-----+--------------------+----------+--------------------+\n",
      "|10000348|  8.0|[6.97922569810444...|       0.0|[0.27916902792417...|\n",
      "|10000517|  3.0|[2.66048014920260...|       3.0|[0.10641920596810...|\n",
      "|10001141|  8.0|[5.06829749573779...|       0.0|[0.20273189982951...|\n",
      "|10001170|  8.0|[5.11395324938361...|       0.0|[0.20455812997534...|\n",
      "|10001210|  2.0|[1.34168727386628...|       2.0|[0.05366749095465...|\n",
      "|10001230|  3.0|[3.39524124653722...|       3.0|[0.13580964986148...|\n",
      "|10002193|  3.0|[3.45221459111338...|       3.0|[0.13808858364453...|\n",
      "|10002782| 16.0|[4.77911409072262...|       0.0|[0.19116456362890...|\n",
      "|10002882|  3.0|[2.97855425843603...|       3.0|[0.11914217033744...|\n",
      "|10003041|  0.0|[12.0847318042244...|       0.0|[0.48338927216897...|\n",
      "+--------+-----+--------------------+----------+--------------------+\n",
      "only showing top 10 rows"
     ]
    }
   ],
   "source": [
    "# Printing the required columns\n",
    "predictions.select('ID', 'label', 'rawPrediction', 'prediction', 'probability').show(10)"
   ]
  },
  {
   "cell_type": "code",
   "execution_count": 62,
   "metadata": {},
   "outputs": [
    {
     "data": {
      "application/vnd.jupyter.widget-view+json": {
       "model_id": "e654bd1624f843a383c4634ae0b9df34",
       "version_major": 2,
       "version_minor": 0
      },
      "text/plain": [
       "VBox()"
      ]
     },
     "metadata": {},
     "output_type": "display_data"
    },
    {
     "data": {
      "application/vnd.jupyter.widget-view+json": {
       "model_id": "",
       "version_major": 2,
       "version_minor": 0
      },
      "text/plain": [
       "FloatProgress(value=0.0, bar_style='info', description='Progress:', layout=Layout(height='25px', width='50%'),…"
      ]
     },
     "metadata": {},
     "output_type": "display_data"
    }
   ],
   "source": [
    "# Model evaluation\n",
    "from pyspark.ml.evaluation import MulticlassClassificationEvaluator\n",
    "evaluator = MulticlassClassificationEvaluator(labelCol=\"label\", predictionCol=\"prediction\", metricName=\"accuracy\")\n",
    "accuracy = evaluator.evaluate(predictions)"
   ]
  },
  {
   "cell_type": "code",
   "execution_count": 63,
   "metadata": {
    "scrolled": true
   },
   "outputs": [
    {
     "data": {
      "application/vnd.jupyter.widget-view+json": {
       "model_id": "f14649549a744b4098a87691bcadcc2c",
       "version_major": 2,
       "version_minor": 0
      },
      "text/plain": [
       "VBox()"
      ]
     },
     "metadata": {},
     "output_type": "display_data"
    },
    {
     "data": {
      "application/vnd.jupyter.widget-view+json": {
       "model_id": "",
       "version_major": 2,
       "version_minor": 0
      },
      "text/plain": [
       "FloatProgress(value=0.0, bar_style='info', description='Progress:', layout=Layout(height='25px', width='50%'),…"
      ]
     },
     "metadata": {},
     "output_type": "display_data"
    },
    {
     "name": "stdout",
     "output_type": "stream",
     "text": [
      "0.770971515003476"
     ]
    }
   ],
   "source": [
    "# Model Accuracy - 25 trees\n",
    "print(accuracy)"
   ]
  },
  {
   "cell_type": "code",
   "execution_count": null,
   "metadata": {},
   "outputs": [],
   "source": [
    "\n"
   ]
  },
  {
   "cell_type": "code",
   "execution_count": 64,
   "metadata": {},
   "outputs": [
    {
     "data": {
      "application/vnd.jupyter.widget-view+json": {
       "model_id": "693f23b9f1a144bcb560389f73b141de",
       "version_major": 2,
       "version_minor": 0
      },
      "text/plain": [
       "VBox()"
      ]
     },
     "metadata": {},
     "output_type": "display_data"
    },
    {
     "data": {
      "application/vnd.jupyter.widget-view+json": {
       "model_id": "",
       "version_major": 2,
       "version_minor": 0
      },
      "text/plain": [
       "FloatProgress(value=0.0, bar_style='info', description='Progress:', layout=Layout(height='25px', width='50%'),…"
      ]
     },
     "metadata": {},
     "output_type": "display_data"
    },
    {
     "name": "stdout",
     "output_type": "stream",
     "text": [
      "Test Error = 0.229028"
     ]
    }
   ],
   "source": [
    "# Test Error\n",
    "print(\"Test Error = %g\" % (1.0 - accuracy))"
   ]
  },
  {
   "cell_type": "code",
   "execution_count": 65,
   "metadata": {
    "scrolled": false
   },
   "outputs": [
    {
     "data": {
      "application/vnd.jupyter.widget-view+json": {
       "model_id": "9170a13aeb3444e39b3cdc0491f72e4b",
       "version_major": 2,
       "version_minor": 0
      },
      "text/plain": [
       "VBox()"
      ]
     },
     "metadata": {},
     "output_type": "display_data"
    },
    {
     "data": {
      "application/vnd.jupyter.widget-view+json": {
       "model_id": "",
       "version_major": 2,
       "version_minor": 0
      },
      "text/plain": [
       "FloatProgress(value=0.0, bar_style='info', description='Progress:', layout=Layout(height='25px', width='50%'),…"
      ]
     },
     "metadata": {},
     "output_type": "display_data"
    },
    {
     "name": "stdout",
     "output_type": "stream",
     "text": [
      "[[9.6387e+04 0.0000e+00 0.0000e+00 0.0000e+00 0.0000e+00 0.0000e+00\n",
      "  0.0000e+00 0.0000e+00 0.0000e+00 0.0000e+00 0.0000e+00 0.0000e+00\n",
      "  0.0000e+00 0.0000e+00 0.0000e+00 0.0000e+00 0.0000e+00 0.0000e+00\n",
      "  0.0000e+00 0.0000e+00 0.0000e+00 0.0000e+00 0.0000e+00 0.0000e+00\n",
      "  0.0000e+00 0.0000e+00]\n",
      " [0.0000e+00 6.7122e+04 0.0000e+00 0.0000e+00 0.0000e+00 0.0000e+00\n",
      "  0.0000e+00 0.0000e+00 0.0000e+00 0.0000e+00 0.0000e+00 0.0000e+00\n",
      "  0.0000e+00 0.0000e+00 0.0000e+00 0.0000e+00 0.0000e+00 0.0000e+00\n",
      "  0.0000e+00 0.0000e+00 0.0000e+00 0.0000e+00 0.0000e+00 0.0000e+00\n",
      "  0.0000e+00 0.0000e+00]\n",
      " [0.0000e+00 0.0000e+00 4.6009e+04 0.0000e+00 0.0000e+00 0.0000e+00\n",
      "  0.0000e+00 0.0000e+00 0.0000e+00 0.0000e+00 0.0000e+00 0.0000e+00\n",
      "  0.0000e+00 0.0000e+00 0.0000e+00 0.0000e+00 0.0000e+00 0.0000e+00\n",
      "  0.0000e+00 0.0000e+00 0.0000e+00 0.0000e+00 0.0000e+00 0.0000e+00\n",
      "  0.0000e+00 0.0000e+00]\n",
      " [1.2594e+04 3.0000e+01 0.0000e+00 2.5799e+04 1.7610e+03 0.0000e+00\n",
      "  0.0000e+00 0.0000e+00 0.0000e+00 0.0000e+00 0.0000e+00 0.0000e+00\n",
      "  0.0000e+00 0.0000e+00 0.0000e+00 0.0000e+00 0.0000e+00 0.0000e+00\n",
      "  0.0000e+00 0.0000e+00 0.0000e+00 0.0000e+00 0.0000e+00 0.0000e+00\n",
      "  0.0000e+00 0.0000e+00]\n",
      " [9.0000e+00 0.0000e+00 0.0000e+00 0.0000e+00 3.7792e+04 0.0000e+00\n",
      "  0.0000e+00 0.0000e+00 0.0000e+00 0.0000e+00 0.0000e+00 0.0000e+00\n",
      "  0.0000e+00 0.0000e+00 0.0000e+00 0.0000e+00 0.0000e+00 0.0000e+00\n",
      "  0.0000e+00 0.0000e+00 0.0000e+00 0.0000e+00 0.0000e+00 0.0000e+00\n",
      "  0.0000e+00 0.0000e+00]\n",
      " [0.0000e+00 0.0000e+00 0.0000e+00 0.0000e+00 0.0000e+00 2.4435e+04\n",
      "  0.0000e+00 0.0000e+00 0.0000e+00 0.0000e+00 0.0000e+00 0.0000e+00\n",
      "  0.0000e+00 0.0000e+00 0.0000e+00 0.0000e+00 0.0000e+00 0.0000e+00\n",
      "  0.0000e+00 0.0000e+00 0.0000e+00 0.0000e+00 0.0000e+00 0.0000e+00\n",
      "  0.0000e+00 0.0000e+00]\n",
      " [1.5273e+04 1.0000e+00 0.0000e+00 0.0000e+00 7.7000e+01 0.0000e+00\n",
      "  4.7430e+03 0.0000e+00 0.0000e+00 0.0000e+00 0.0000e+00 0.0000e+00\n",
      "  0.0000e+00 0.0000e+00 0.0000e+00 0.0000e+00 0.0000e+00 0.0000e+00\n",
      "  0.0000e+00 0.0000e+00 0.0000e+00 0.0000e+00 0.0000e+00 0.0000e+00\n",
      "  0.0000e+00 0.0000e+00]\n",
      " [1.8142e+04 3.0000e+00 0.0000e+00 0.0000e+00 1.6000e+01 0.0000e+00\n",
      "  0.0000e+00 2.0000e+01 0.0000e+00 0.0000e+00 0.0000e+00 0.0000e+00\n",
      "  0.0000e+00 0.0000e+00 0.0000e+00 0.0000e+00 0.0000e+00 0.0000e+00\n",
      "  0.0000e+00 0.0000e+00 0.0000e+00 0.0000e+00 0.0000e+00 0.0000e+00\n",
      "  0.0000e+00 0.0000e+00]\n",
      " [1.2652e+04 3.0000e+00 0.0000e+00 0.0000e+00 1.6700e+02 0.0000e+00\n",
      "  0.0000e+00 0.0000e+00 4.8910e+03 0.0000e+00 0.0000e+00 0.0000e+00\n",
      "  0.0000e+00 0.0000e+00 0.0000e+00 0.0000e+00 0.0000e+00 0.0000e+00\n",
      "  0.0000e+00 0.0000e+00 0.0000e+00 0.0000e+00 0.0000e+00 0.0000e+00\n",
      "  0.0000e+00 0.0000e+00]\n",
      " [1.0000e+00 0.0000e+00 0.0000e+00 0.0000e+00 0.0000e+00 0.0000e+00\n",
      "  0.0000e+00 0.0000e+00 0.0000e+00 1.6579e+04 0.0000e+00 0.0000e+00\n",
      "  0.0000e+00 0.0000e+00 0.0000e+00 0.0000e+00 0.0000e+00 0.0000e+00\n",
      "  0.0000e+00 0.0000e+00 0.0000e+00 0.0000e+00 0.0000e+00 0.0000e+00\n",
      "  0.0000e+00 0.0000e+00]\n",
      " [0.0000e+00 1.0974e+04 0.0000e+00 0.0000e+00 0.0000e+00 0.0000e+00\n",
      "  0.0000e+00 0.0000e+00 0.0000e+00 0.0000e+00 0.0000e+00 0.0000e+00\n",
      "  0.0000e+00 0.0000e+00 0.0000e+00 0.0000e+00 0.0000e+00 0.0000e+00\n",
      "  0.0000e+00 0.0000e+00 0.0000e+00 0.0000e+00 0.0000e+00 0.0000e+00\n",
      "  0.0000e+00 0.0000e+00]\n",
      " [5.4350e+03 0.0000e+00 0.0000e+00 0.0000e+00 5.5000e+01 0.0000e+00\n",
      "  1.6620e+03 0.0000e+00 0.0000e+00 0.0000e+00 0.0000e+00 0.0000e+00\n",
      "  0.0000e+00 0.0000e+00 0.0000e+00 0.0000e+00 0.0000e+00 0.0000e+00\n",
      "  0.0000e+00 0.0000e+00 0.0000e+00 0.0000e+00 0.0000e+00 0.0000e+00\n",
      "  0.0000e+00 0.0000e+00]\n",
      " [3.6330e+03 9.0000e+00 0.0000e+00 2.0000e+00 1.4490e+03 0.0000e+00\n",
      "  0.0000e+00 0.0000e+00 0.0000e+00 0.0000e+00 0.0000e+00 0.0000e+00\n",
      "  0.0000e+00 0.0000e+00 0.0000e+00 0.0000e+00 0.0000e+00 0.0000e+00\n",
      "  0.0000e+00 0.0000e+00 0.0000e+00 0.0000e+00 0.0000e+00 0.0000e+00\n",
      "  0.0000e+00 0.0000e+00]\n",
      " [9.7800e+02 0.0000e+00 0.0000e+00 0.0000e+00 9.8000e+02 0.0000e+00\n",
      "  0.0000e+00 0.0000e+00 0.0000e+00 0.0000e+00 0.0000e+00 0.0000e+00\n",
      "  0.0000e+00 3.1650e+03 0.0000e+00 0.0000e+00 0.0000e+00 0.0000e+00\n",
      "  0.0000e+00 0.0000e+00 0.0000e+00 0.0000e+00 0.0000e+00 0.0000e+00\n",
      "  0.0000e+00 0.0000e+00]\n",
      " [1.7110e+03 1.0000e+00 0.0000e+00 0.0000e+00 1.9000e+01 0.0000e+00\n",
      "  0.0000e+00 0.0000e+00 6.3400e+02 0.0000e+00 0.0000e+00 0.0000e+00\n",
      "  0.0000e+00 0.0000e+00 0.0000e+00 0.0000e+00 0.0000e+00 0.0000e+00\n",
      "  0.0000e+00 0.0000e+00 0.0000e+00 0.0000e+00 0.0000e+00 0.0000e+00\n",
      "  0.0000e+00 0.0000e+00]\n",
      " [8.9400e+02 0.0000e+00 0.0000e+00 3.0000e+00 0.0000e+00 0.0000e+00\n",
      "  0.0000e+00 0.0000e+00 0.0000e+00 0.0000e+00 0.0000e+00 0.0000e+00\n",
      "  0.0000e+00 0.0000e+00 0.0000e+00 1.3130e+03 0.0000e+00 0.0000e+00\n",
      "  0.0000e+00 0.0000e+00 0.0000e+00 0.0000e+00 0.0000e+00 0.0000e+00\n",
      "  0.0000e+00 0.0000e+00]\n",
      " [1.9570e+03 3.9000e+01 0.0000e+00 2.0000e+01 2.3000e+01 0.0000e+00\n",
      "  0.0000e+00 0.0000e+00 0.0000e+00 0.0000e+00 0.0000e+00 0.0000e+00\n",
      "  0.0000e+00 0.0000e+00 0.0000e+00 0.0000e+00 0.0000e+00 0.0000e+00\n",
      "  0.0000e+00 0.0000e+00 0.0000e+00 0.0000e+00 0.0000e+00 0.0000e+00\n",
      "  0.0000e+00 0.0000e+00]\n",
      " [1.6270e+03 6.6000e+01 0.0000e+00 2.1100e+02 6.0000e+00 0.0000e+00\n",
      "  0.0000e+00 0.0000e+00 0.0000e+00 0.0000e+00 0.0000e+00 0.0000e+00\n",
      "  0.0000e+00 0.0000e+00 0.0000e+00 0.0000e+00 0.0000e+00 0.0000e+00\n",
      "  0.0000e+00 0.0000e+00 0.0000e+00 0.0000e+00 0.0000e+00 0.0000e+00\n",
      "  0.0000e+00 0.0000e+00]\n",
      " [1.5130e+03 5.0000e+00 0.0000e+00 8.2000e+01 8.1000e+01 0.0000e+00\n",
      "  0.0000e+00 0.0000e+00 0.0000e+00 0.0000e+00 0.0000e+00 0.0000e+00\n",
      "  0.0000e+00 0.0000e+00 0.0000e+00 0.0000e+00 0.0000e+00 0.0000e+00\n",
      "  0.0000e+00 0.0000e+00 0.0000e+00 0.0000e+00 0.0000e+00 0.0000e+00\n",
      "  0.0000e+00 0.0000e+00]\n",
      " [7.2300e+02 0.0000e+00 0.0000e+00 0.0000e+00 1.3000e+01 0.0000e+00\n",
      "  0.0000e+00 0.0000e+00 0.0000e+00 0.0000e+00 0.0000e+00 0.0000e+00\n",
      "  0.0000e+00 0.0000e+00 0.0000e+00 0.0000e+00 0.0000e+00 0.0000e+00\n",
      "  0.0000e+00 0.0000e+00 0.0000e+00 0.0000e+00 0.0000e+00 0.0000e+00\n",
      "  0.0000e+00 0.0000e+00]\n",
      " [1.9100e+02 0.0000e+00 0.0000e+00 0.0000e+00 4.5200e+02 0.0000e+00\n",
      "  0.0000e+00 0.0000e+00 0.0000e+00 0.0000e+00 0.0000e+00 0.0000e+00\n",
      "  0.0000e+00 0.0000e+00 0.0000e+00 0.0000e+00 0.0000e+00 0.0000e+00\n",
      "  0.0000e+00 0.0000e+00 0.0000e+00 0.0000e+00 0.0000e+00 0.0000e+00\n",
      "  0.0000e+00 0.0000e+00]\n",
      " [6.0700e+02 0.0000e+00 0.0000e+00 0.0000e+00 4.0000e+00 0.0000e+00\n",
      "  0.0000e+00 0.0000e+00 0.0000e+00 0.0000e+00 0.0000e+00 0.0000e+00\n",
      "  0.0000e+00 0.0000e+00 0.0000e+00 0.0000e+00 0.0000e+00 0.0000e+00\n",
      "  0.0000e+00 0.0000e+00 0.0000e+00 0.0000e+00 0.0000e+00 0.0000e+00\n",
      "  0.0000e+00 0.0000e+00]\n",
      " [4.5100e+02 0.0000e+00 0.0000e+00 0.0000e+00 1.0300e+02 0.0000e+00\n",
      "  0.0000e+00 0.0000e+00 0.0000e+00 0.0000e+00 0.0000e+00 0.0000e+00\n",
      "  0.0000e+00 0.0000e+00 0.0000e+00 0.0000e+00 0.0000e+00 0.0000e+00\n",
      "  0.0000e+00 0.0000e+00 0.0000e+00 0.0000e+00 0.0000e+00 0.0000e+00\n",
      "  0.0000e+00 0.0000e+00]\n",
      " [5.8000e+01 0.0000e+00 0.0000e+00 0.0000e+00 1.1000e+01 0.0000e+00\n",
      "  0.0000e+00 0.0000e+00 5.3000e+01 0.0000e+00 0.0000e+00 0.0000e+00\n",
      "  0.0000e+00 0.0000e+00 0.0000e+00 0.0000e+00 0.0000e+00 0.0000e+00\n",
      "  0.0000e+00 0.0000e+00 0.0000e+00 0.0000e+00 0.0000e+00 0.0000e+00\n",
      "  0.0000e+00 0.0000e+00]\n",
      " [3.4000e+01 0.0000e+00 0.0000e+00 0.0000e+00 0.0000e+00 0.0000e+00\n",
      "  0.0000e+00 0.0000e+00 1.0000e+01 0.0000e+00 0.0000e+00 0.0000e+00\n",
      "  0.0000e+00 0.0000e+00 0.0000e+00 0.0000e+00 0.0000e+00 0.0000e+00\n",
      "  0.0000e+00 0.0000e+00 0.0000e+00 0.0000e+00 0.0000e+00 0.0000e+00\n",
      "  0.0000e+00 0.0000e+00]\n",
      " [5.0000e+00 0.0000e+00 0.0000e+00 0.0000e+00 0.0000e+00 0.0000e+00\n",
      "  0.0000e+00 0.0000e+00 0.0000e+00 0.0000e+00 0.0000e+00 0.0000e+00\n",
      "  0.0000e+00 0.0000e+00 0.0000e+00 0.0000e+00 0.0000e+00 0.0000e+00\n",
      "  0.0000e+00 0.0000e+00 0.0000e+00 0.0000e+00 0.0000e+00 0.0000e+00\n",
      "  0.0000e+00 0.0000e+00]]"
     ]
    }
   ],
   "source": [
    "# Confusion Matrix\n",
    "from pyspark.sql.types import FloatType\n",
    "from pyspark.mllib.evaluation import MulticlassMetrics\n",
    "import pyspark.sql.functions as F\n",
    "\n",
    "#important: need to cast to float type, and order by prediction, else it won't work:\n",
    "preds_and_labels = predictions.select(['prediction','label']).withColumn('label', F.col('label').cast(FloatType())).orderBy('prediction')\n",
    "\n",
    "#select only prediction and label columns\n",
    "preds_and_labels = preds_and_labels.select(['prediction','label'])\n",
    "metrics = MulticlassMetrics(preds_and_labels.rdd.map(tuple))\n",
    "\n",
    "print(metrics.confusionMatrix().toArray())"
   ]
  },
  {
   "cell_type": "code",
   "execution_count": 66,
   "metadata": {},
   "outputs": [
    {
     "data": {
      "application/vnd.jupyter.widget-view+json": {
       "model_id": "792fea6798a14dc8bd4f1a28a3ab714f",
       "version_major": 2,
       "version_minor": 0
      },
      "text/plain": [
       "VBox()"
      ]
     },
     "metadata": {},
     "output_type": "display_data"
    },
    {
     "data": {
      "application/vnd.jupyter.widget-view+json": {
       "model_id": "",
       "version_major": 2,
       "version_minor": 0
      },
      "text/plain": [
       "FloatProgress(value=0.0, bar_style='info', description='Progress:', layout=Layout(height='25px', width='50%'),…"
      ]
     },
     "metadata": {},
     "output_type": "display_data"
    },
    {
     "name": "stdout",
     "output_type": "stream",
     "text": [
      "0.770971515003476"
     ]
    }
   ],
   "source": [
    "#Model building with 35 trees\n",
    "from pyspark.ml.classification import RandomForestClassifier\n",
    "rf35 = RandomForestClassifier(featuresCol = 'features', labelCol = 'label', \\\n",
    "                            maxDepth=5, impurity='gini', numTrees=25, seed=2020, subsamplingRate = 0.7)\n",
    "rfModel35 = rf35.fit(train)\n",
    "predictions35 = rfModel35.transform(test)\n",
    "from pyspark.ml.evaluation import MulticlassClassificationEvaluator\n",
    "evaluator = MulticlassClassificationEvaluator(labelCol=\"label\", predictionCol=\"prediction\", metricName=\"accuracy\")\n",
    "accuracy35 = evaluator.evaluate(predictions35)\n",
    "# Model Accuracy - 15 trees\n",
    "print(accuracy35)"
   ]
  },
  {
   "cell_type": "markdown",
   "metadata": {},
   "source": [
    "### Feature Importance"
   ]
  },
  {
   "cell_type": "code",
   "execution_count": 67,
   "metadata": {},
   "outputs": [
    {
     "data": {
      "application/vnd.jupyter.widget-view+json": {
       "model_id": "f45b3f14aeb34b8c9822f41899af2b08",
       "version_major": 2,
       "version_minor": 0
      },
      "text/plain": [
       "VBox()"
      ]
     },
     "metadata": {},
     "output_type": "display_data"
    },
    {
     "data": {
      "application/vnd.jupyter.widget-view+json": {
       "model_id": "",
       "version_major": 2,
       "version_minor": 0
      },
      "text/plain": [
       "FloatProgress(value=0.0, bar_style='info', description='Progress:', layout=Layout(height='25px', width='50%'),…"
      ]
     },
     "metadata": {},
     "output_type": "display_data"
    },
    {
     "name": "stdout",
     "output_type": "stream",
     "text": [
      "SparseVector(212, {0: 0.14, 1: 0.1284, 2: 0.2186, 3: 0.0591, 4: 0.0341, 5: 0.1093, 6: 0.0749, 7: 0.0271, 8: 0.022, 9: 0.0646, 10: 0.0038, 11: 0.0126, 12: 0.0028, 13: 0.0056, 14: 0.0059, 15: 0.0026, 16: 0.0002, 17: 0.0, 18: 0.0005, 19: 0.0009, 20: 0.0, 21: 0.0005, 22: 0.0, 24: 0.0001, 32: 0.0037, 33: 0.0018, 34: 0.0044, 35: 0.0042, 36: 0.0, 38: 0.0004, 40: 0.0007, 41: 0.0, 42: 0.0014, 43: 0.0, 44: 0.0, 46: 0.0074, 47: 0.0004, 51: 0.0, 56: 0.0, 60: 0.0001, 66: 0.0, 73: 0.0, 76: 0.0, 87: 0.0, 89: 0.0, 90: 0.0, 96: 0.0, 102: 0.0, 171: 0.049, 172: 0.0106, 173: 0.001, 176: 0.0, 181: 0.0, 183: 0.0, 187: 0.0, 188: 0.0, 189: 0.0, 190: 0.0002, 196: 0.0, 197: 0.0, 199: 0.0, 204: 0.0, 205: 0.0, 207: 0.0001, 208: 0.0003, 209: 0.0001, 210: 0.0003, 211: 0.0})"
     ]
    }
   ],
   "source": [
    "# Feature Importance\n",
    "rfModel.featureImportances"
   ]
  },
  {
   "cell_type": "code",
   "execution_count": 68,
   "metadata": {},
   "outputs": [
    {
     "data": {
      "application/vnd.jupyter.widget-view+json": {
       "model_id": "fcf939f21f51430e84fab51bc72239ac",
       "version_major": 2,
       "version_minor": 0
      },
      "text/plain": [
       "VBox()"
      ]
     },
     "metadata": {},
     "output_type": "display_data"
    },
    {
     "data": {
      "application/vnd.jupyter.widget-view+json": {
       "model_id": "",
       "version_major": 2,
       "version_minor": 0
      },
      "text/plain": [
       "FloatProgress(value=0.0, bar_style='info', description='Progress:', layout=Layout(height='25px', width='50%'),…"
      ]
     },
     "metadata": {},
     "output_type": "display_data"
    }
   ],
   "source": [
    "# Defining a function to extract features along with the feature importance score\n",
    "import pandas as pd\n",
    "def ExtractFeatureImp(featureImp, dataset, featuresCol):\n",
    "    list_extract = []\n",
    "    for i in dataset.schema[featuresCol].metadata[\"ml_attr\"][\"attrs\"]:\n",
    "        list_extract = list_extract + dataset.schema[featuresCol].metadata[\"ml_attr\"][\"attrs\"][i]\n",
    "    varlist = pd.DataFrame(list_extract)\n",
    "    varlist['score'] = varlist['idx'].apply(lambda x: featureImp[x])\n",
    "    return(varlist.sort_values('score', ascending = False))"
   ]
  },
  {
   "cell_type": "code",
   "execution_count": 69,
   "metadata": {},
   "outputs": [
    {
     "data": {
      "application/vnd.jupyter.widget-view+json": {
       "model_id": "b9e2941f28e34494bd28e9d356adf231",
       "version_major": 2,
       "version_minor": 0
      },
      "text/plain": [
       "VBox()"
      ]
     },
     "metadata": {},
     "output_type": "display_data"
    },
    {
     "data": {
      "application/vnd.jupyter.widget-view+json": {
       "model_id": "",
       "version_major": 2,
       "version_minor": 0
      },
      "text/plain": [
       "FloatProgress(value=0.0, bar_style='info', description='Progress:', layout=Layout(height='25px', width='50%'),…"
      ]
     },
     "metadata": {},
     "output_type": "display_data"
    },
    {
     "name": "stdout",
     "output_type": "stream",
     "text": [
      "     idx                                     name     score\n",
      "7      2     Primary TypeclassVec_CRIMINAL DAMAGE  0.218598\n",
      "5      0               Primary TypeclassVec_THEFT  0.139971\n",
      "6      1             Primary TypeclassVec_BATTERY  0.128359\n",
      "10     5       Primary TypeclassVec_OTHER OFFENSE  0.109329\n",
      "11     6            Primary TypeclassVec_BURGLARY  0.074927\n",
      "14     9             Primary TypeclassVec_ROBBERY  0.064582\n",
      "8      3           Primary TypeclassVec_NARCOTICS  0.059097\n",
      "176  171                     ArrestclassVec_False  0.049018\n",
      "9      4             Primary TypeclassVec_ASSAULT  0.034138\n",
      "12     7  Primary TypeclassVec_DECEPTIVE PRACTICE  0.027123"
     ]
    }
   ],
   "source": [
    "# Printing the feature importance scores\n",
    "ExtractFeatureImp(rfModel.featureImportances, predictions, \"features\").head(10)"
   ]
  },
  {
   "cell_type": "code",
   "execution_count": null,
   "metadata": {},
   "outputs": [],
   "source": []
  }
 ],
 "metadata": {
  "kernelspec": {
   "display_name": "PySpark",
   "language": "",
   "name": "pysparkkernel"
  },
  "language_info": {
   "codemirror_mode": {
    "name": "python",
    "version": 2
   },
   "mimetype": "text/x-python",
   "name": "pyspark",
   "pygments_lexer": "python2"
  }
 },
 "nbformat": 4,
 "nbformat_minor": 4
}
